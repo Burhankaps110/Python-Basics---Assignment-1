{
 "cells": [
  {
   "cell_type": "markdown",
   "metadata": {},
   "source": [
    "# Assignment 6"
   ]
  },
  {
   "cell_type": "markdown",
   "metadata": {},
   "source": [
    "Q.1 : What are the escape characters, and how do you use them?\n",
    "\n",
    "A.1 :\n",
    "      \n",
    "      Escape characters in a string is a backslash (\\) followed by a \n",
    "      character.\n",
    "      Consider we want to write a code as follows :A"
   ]
  },
  {
   "cell_type": "code",
   "execution_count": 1,
   "metadata": {},
   "outputs": [
    {
     "ename": "IndentationError",
     "evalue": "unexpected indent (<ipython-input-1-ee6143df862f>, line 2)",
     "output_type": "error",
     "traceback": [
      "\u001b[1;36m  File \u001b[1;32m\"<ipython-input-1-ee6143df862f>\"\u001b[1;36m, line \u001b[1;32m2\u001b[0m\n\u001b[1;33m    k = 'This is your's book.'\u001b[0m\n\u001b[1;37m    ^\u001b[0m\n\u001b[1;31mIndentationError\u001b[0m\u001b[1;31m:\u001b[0m unexpected indent\n"
     ]
    }
   ],
   "source": [
    "#A.1 :\n",
    " k = 'This is your's book.'"
   ]
  },
  {
   "cell_type": "markdown",
   "metadata": {},
   "source": [
    "In the above code it showed an error,this can be solved with backslash as follows :"
   ]
  },
  {
   "cell_type": "code",
   "execution_count": 2,
   "metadata": {},
   "outputs": [
    {
     "name": "stdout",
     "output_type": "stream",
     "text": [
      "This is your's book.\n"
     ]
    }
   ],
   "source": [
    "#A.1 :\n",
    "k = 'This is your\\'s book.'\n",
    "print(k)"
   ]
  },
  {
   "cell_type": "markdown",
   "metadata": {},
   "source": [
    "As we see above the backslash character help the compiler ignore the single quote in the middle of the string which is already single quoted in the start."
   ]
  },
  {
   "cell_type": "markdown",
   "metadata": {},
   "source": [
    "Q.2 : What do escape characters n and t stands for?\n",
    "\n",
    "A.2 : \n",
    "\n",
    "      \\n : It instructs the python compiler to go to the next line.\n",
    "      \\t : It instructs the python compiler to provide some tab space."
   ]
  },
  {
   "cell_type": "markdown",
   "metadata": {},
   "source": [
    "Q.3 : What is the way to include a backslash characters in a string?\n",
    "\n",
    "A.3 :\n",
    "      \n",
    "      We can add a backslash characters in a string as follows:"
   ]
  },
  {
   "cell_type": "code",
   "execution_count": 5,
   "metadata": {
    "scrolled": true
   },
   "outputs": [
    {
     "name": "stdout",
     "output_type": "stream",
     "text": [
      "My name is \"Burhanuddin Kapadia\".\n"
     ]
    }
   ],
   "source": [
    "# A.3 :\n",
    "\n",
    "my_name = \"My name is \\\"Burhanuddin Kapadia\\\".\"\n",
    "print(my_name)"
   ]
  },
  {
   "cell_type": "markdown",
   "metadata": {},
   "source": [
    "Q.4 : The string \"How|'s Moving Castle\" is a correct value. Why isn't the single character in the word How|'s not escaped a problem?\n",
    "\n",
    "A.4 :"
   ]
  },
  {
   "cell_type": "code",
   "execution_count": 6,
   "metadata": {},
   "outputs": [
    {
     "name": "stdout",
     "output_type": "stream",
     "text": [
      "How|'s Moving Castle\n"
     ]
    }
   ],
   "source": [
    "# A.4 : \n",
    "s = \"How|'s Moving Castle\"\n",
    "print(s)"
   ]
  },
  {
   "cell_type": "markdown",
   "metadata": {},
   "source": [
    "Since we have already used attached double quotes to the given string, we don't\n",
    "need to add \"|\" character before 's. The python compiler can accept as follows:"
   ]
  },
  {
   "cell_type": "code",
   "execution_count": 7,
   "metadata": {},
   "outputs": [
    {
     "name": "stdout",
     "output_type": "stream",
     "text": [
      "How's Moving Castle\n"
     ]
    }
   ],
   "source": [
    "# A.4 :\n",
    "s = \"How's Moving Castle\"\n",
    "print(s)"
   ]
  },
  {
   "cell_type": "markdown",
   "metadata": {},
   "source": [
    "Q.5 : How do you write a string of newlines if you don't want to use the n character?\n",
    "\n",
    "A.5 :\n",
    "     \n",
    "     We can write a string of newlines without use of new line backslash (\"\\n\"), By the use of triple quotes (\"\"\") as follows :"
   ]
  },
  {
   "cell_type": "code",
   "execution_count": 11,
   "metadata": {},
   "outputs": [
    {
     "name": "stdout",
     "output_type": "stream",
     "text": [
      "My name is Burhanuddin Kapadia.\n",
      "I am working in Bangalore.\n",
      "I am 26 years old.\n"
     ]
    }
   ],
   "source": [
    "#A.5 : \n",
    "\n",
    "multi_line_string = \"\"\"My name is Burhanuddin Kapadia.\n",
    "I am working in Bangalore.\n",
    "I am 26 years old.\"\"\"\n",
    "\n",
    "print(multi_line_string)"
   ]
  },
  {
   "cell_type": "markdown",
   "metadata": {},
   "source": [
    "Q.6 : What are the values of the given expressions?\n",
    "     \n",
    "      'Hello, world!'[1]\n",
    "      'Hello, world!'[0:5]\n",
    "      'Hello, world!'[:5]\n",
    "      'Hello, world!'[3:]\n",
    "      \n",
    "A.6 :\n",
    "\n",
    "       'Hello, world!'[1] : 'e'\n",
    "       'Hello, world!'[0:5] : 'Hello'\n",
    "       'Hello, world!'[:5] : 'Hello'\n",
    "       'Hello, world!'[3:] : 'lo, world!'"
   ]
  },
  {
   "cell_type": "code",
   "execution_count": 14,
   "metadata": {},
   "outputs": [
    {
     "name": "stdout",
     "output_type": "stream",
     "text": [
      "e\n",
      "Hello\n",
      "Hello\n",
      "lo, world!\n"
     ]
    }
   ],
   "source": [
    "# A.6 :\n",
    "print('Hello,world!'[1])\n",
    "print('Hello, world!'[0:5])\n",
    "print('Hello, world!'[:5])\n",
    "print('Hello, world!'[3:])"
   ]
  },
  {
   "cell_type": "markdown",
   "metadata": {},
   "source": [
    "Q.7 : What are the values of the following expressions?\n",
    "\n",
    "A.7:\n",
    "\n",
    "      'Hello'.upper() : It will turn all the characters within the given string into uppercase characters.\n",
    "      \n",
    "      'Hello'.upper().isupper() : It will turn first all the characters within the given string into uppercase characters then it will check weather the characters within the string are in uppercase or not and give result in True or False.\n",
    "      \n",
    "      'Hello'.upper().lower() : It will turn first all the characters within the given string into uppercase characters then it will convert the characters in the string to lowercase characters.\n",
    "      \n",
    "      We can see it as follows :"
   ]
  },
  {
   "cell_type": "code",
   "execution_count": 15,
   "metadata": {},
   "outputs": [
    {
     "name": "stdout",
     "output_type": "stream",
     "text": [
      "HELLO\n",
      "True\n",
      "hello\n"
     ]
    }
   ],
   "source": [
    "#A.7 :\n",
    "\n",
    "print('Hello'.upper())\n",
    "print('Hello'.upper().isupper())\n",
    "print('Hello'.upper().lower())"
   ]
  },
  {
   "cell_type": "markdown",
   "metadata": {},
   "source": [
    "Q.8 : What are the values of the following expressions?\n",
    "\n",
    "      'Remember, remember, the fifth of July.'.split()\n",
    "      \n",
    "      '-'.join('There can only one.'.split())\n",
    "      \n",
    "A.8 :\n",
    "\n",
    "       'Remember, remember, the fifth of July.'.split() : The expression given here will shows that we have use string manupilation with a method named as split with no arguements within \"()\" brackets. so the python compiler will automatically take the whitespaces within the string as a delimeter and give output a list with each element being the data before the whitespaces.\n",
    "       The list : ['Remember,', 'remember,', 'the', 'fifth', 'of', 'July.']\n",
    "       \n",
    "       '-'.join('There can only one.'.split()) : The expression given here first split the string (there is no delimeter provided) into list as follows :\n",
    "       The list : ['There', 'can', 'only', 'one']\n",
    "       Then the join methods again converts the list into a string with joining '-' character after each element in the list.\n",
    "       The string : 'There-can-only-one'\n",
    "      \n",
    "    We can see it in the form of code as follows :"
   ]
  },
  {
   "cell_type": "code",
   "execution_count": 25,
   "metadata": {},
   "outputs": [
    {
     "name": "stdout",
     "output_type": "stream",
     "text": [
      "['Remember,', 'remember,', 'the', 'fifth', 'of', 'July.']\n",
      "There-can-only-one\n"
     ]
    }
   ],
   "source": [
    "#A.8 : \n",
    "\n",
    "print('Remember, remember, the fifth of July.'.split())\n",
    "print('-'.join('There can only one'.split()))"
   ]
  },
  {
   "cell_type": "markdown",
   "metadata": {},
   "source": [
    "Q.9 : What are the methods for right-justifying, left justifying and centering a string?\n",
    "\n",
    "A.9 : \n",
    "\n",
    "       right-justifying : \n",
    "       Syntax : string_variable_name.rjust(width,filling_character)\n",
    "       \n",
    "       left-justifying :\n",
    "       Syntax : string_variable_name.ljust(width,filling_character)\n",
    "       \n",
    "       centering :\n",
    "       Syntax : string_variable_name.center(width,filling_character)\n",
    "       \n",
    "       The following is an example :"
   ]
  },
  {
   "cell_type": "code",
   "execution_count": 42,
   "metadata": {},
   "outputs": [
    {
     "name": "stdout",
     "output_type": "stream",
     "text": [
      "0000Burhan\n",
      "Burhan0000\n",
      "00Burhan00\n"
     ]
    }
   ],
   "source": [
    "# A.9 :\n",
    "\n",
    "sample_string = 'Burhan'\n",
    "print(sample_string.rjust(10,'0'))\n",
    "print(sample_string.ljust(10,'0'))\n",
    "print(sample_string.center(10,'0'))"
   ]
  },
  {
   "cell_type": "markdown",
   "metadata": {},
   "source": [
    "Q.10 : What is the best way to remove whitespaces characters from the start or end?\n",
    "\n",
    "A.10 : \n",
    "\n",
    "       Removing whitespaces from start : \n",
    "                         we use string_variable_name.lstrip()\n",
    "       \n",
    "       Removing whitespaces from end : \n",
    "                         we use string_variable_name.rstrip()\n",
    "       \n",
    "       Removing whitespaces from start and end simultaneously : \n",
    "                         we use use string_variable_name.strip()\n",
    "                         \n",
    "       The following is an example :"
   ]
  },
  {
   "cell_type": "code",
   "execution_count": 43,
   "metadata": {},
   "outputs": [
    {
     "name": "stdout",
     "output_type": "stream",
     "text": [
      "Burhan  \n",
      "  Burhan\n",
      "Burhan\n"
     ]
    }
   ],
   "source": [
    "# A.10 :\n",
    "\n",
    "default_string = '  Burhan  '\n",
    "print(default_string.lstrip())\n",
    "print(default_string.rstrip())\n",
    "print(default_string.strip())"
   ]
  }
 ],
 "metadata": {
  "kernelspec": {
   "display_name": "Python 3",
   "language": "python",
   "name": "python3"
  },
  "language_info": {
   "codemirror_mode": {
    "name": "ipython",
    "version": 3
   },
   "file_extension": ".py",
   "mimetype": "text/x-python",
   "name": "python",
   "nbconvert_exporter": "python",
   "pygments_lexer": "ipython3",
   "version": "3.8.3"
  }
 },
 "nbformat": 4,
 "nbformat_minor": 4
}
