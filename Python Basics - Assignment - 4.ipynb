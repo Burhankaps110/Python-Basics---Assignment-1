{
 "cells": [
  {
   "cell_type": "markdown",
   "metadata": {},
   "source": [
    "# Assignment - 4"
   ]
  },
  {
   "cell_type": "markdown",
   "metadata": {},
   "source": [
    "Q.1 : What exactly is []?"
   ]
  },
  {
   "cell_type": "markdown",
   "metadata": {},
   "source": [
    "A.1 : \n",
    "    \n",
    "     The above input : [] is a list declaration. As per the defination list are enclosed in square brackets."
   ]
  },
  {
   "cell_type": "markdown",
   "metadata": {},
   "source": [
    "Q.2 : In a list of values stored in a variable called spam, how would you assign the value 'hello' as the third value (Assume [2,4,6,8,10] are in spam)."
   ]
  },
  {
   "cell_type": "code",
   "execution_count": 1,
   "metadata": {},
   "outputs": [
    {
     "name": "stdout",
     "output_type": "stream",
     "text": [
      "[2, 4, 6, 'hello', 8, 10]\n"
     ]
    }
   ],
   "source": [
    "# A.2 :\n",
    "\n",
    "spam = [2,4,6,8,10]\n",
    "spam.insert(3,'hello')\n",
    "print(spam)"
   ]
  },
  {
   "cell_type": "markdown",
   "metadata": {},
   "source": [
    "let's pretend the spam includes the list ['a','b','c','d'] for the next three queries :"
   ]
  },
  {
   "cell_type": "markdown",
   "metadata": {},
   "source": [
    "Q.3 : What is the value of spam[int(int('3'*2)/11)]?"
   ]
  },
  {
   "cell_type": "markdown",
   "metadata": {},
   "source": [
    "A.3 :\n",
    "\n",
    "     first we consider '3'*2 ---> this is string repeatibility concept which will result in '33'. This is converted to integer datatype so it becomes a number 33 which then divides by 11 resulting in 3.0, which is again float datatype. Again we convert the datatype to integer, Finally we perform element call out from the list as spam[3] which gives output as 'd'.\n",
    "     The code is as follows :"
   ]
  },
  {
   "cell_type": "code",
   "execution_count": 3,
   "metadata": {},
   "outputs": [
    {
     "name": "stdout",
     "output_type": "stream",
     "text": [
      "d\n"
     ]
    }
   ],
   "source": [
    "# A.3 :\n",
    "\n",
    "spam = ['a','b','c','d']\n",
    "\n",
    "print(spam[int(int('3'*2)/11)])"
   ]
  },
  {
   "cell_type": "markdown",
   "metadata": {},
   "source": [
    "Q.4 : What is the value of spam[-1]?"
   ]
  },
  {
   "cell_type": "markdown",
   "metadata": {},
   "source": [
    "A.4 :\n",
    "    \n",
    "    The value of spam[-1] results in last index, Since last index can also start from -1 and so on from end of the list till the starting element of the list.\n",
    "    The code is as follows :"
   ]
  },
  {
   "cell_type": "code",
   "execution_count": 4,
   "metadata": {},
   "outputs": [
    {
     "name": "stdout",
     "output_type": "stream",
     "text": [
      "d\n"
     ]
    }
   ],
   "source": [
    "# A.4 :\n",
    "\n",
    "spam = ['a','b','c','d']\n",
    "print(spam[-1])"
   ]
  },
  {
   "cell_type": "markdown",
   "metadata": {},
   "source": [
    "Q.5 : What is the value of spam[:2]?"
   ]
  },
  {
   "cell_type": "markdown",
   "metadata": {},
   "source": [
    "A.5\n",
    "\n",
    "    The value of spam[:2] can be break down as follows :\n",
    "    [: ---> the lower bound by default is consider as zero, since nothing is provided\n",
    "    2] ---> this means upper bound is '2' and it also tells the compiler exclude the upper bound and take the index before it the last value to traverse within the string.\n",
    "    The following code shows it :"
   ]
  },
  {
   "cell_type": "code",
   "execution_count": 5,
   "metadata": {},
   "outputs": [
    {
     "name": "stdout",
     "output_type": "stream",
     "text": [
      "['a', 'b']\n"
     ]
    }
   ],
   "source": [
    "# A.5 :\n",
    "\n",
    "spam = ['a','b','c','d']\n",
    "print(spam[:2])"
   ]
  },
  {
   "cell_type": "markdown",
   "metadata": {},
   "source": [
    "     'a' is at index 0 and 'b' is at index 1 respectively in list 'spam'."
   ]
  },
  {
   "cell_type": "markdown",
   "metadata": {},
   "source": [
    "Let's pretend bacon has the list [3.14,'cat',11,'cat',True] for the next three questions."
   ]
  },
  {
   "cell_type": "markdown",
   "metadata": {},
   "source": [
    "Q.6 : What is the value of bacon.index('cat')?"
   ]
  },
  {
   "cell_type": "markdown",
   "metadata": {},
   "source": [
    "A.6 :\n",
    "\n",
    "     bacon.index('cat') is a method to get the index value of the first occurance of the element 'cat' given within the paranthesis that is present in the list 'bacon'.\n",
    "     The following code shows it :"
   ]
  },
  {
   "cell_type": "code",
   "execution_count": 7,
   "metadata": {},
   "outputs": [
    {
     "name": "stdout",
     "output_type": "stream",
     "text": [
      "1\n"
     ]
    }
   ],
   "source": [
    "# A.6 :\n",
    "\n",
    "bacon = [3.14,'cat',11,'cat',True]\n",
    "print(bacon.index('cat'))"
   ]
  },
  {
   "cell_type": "markdown",
   "metadata": {},
   "source": [
    "\n",
    "\n",
    "        The above solution shows that the 'cat' is present 2 times in the string one at index 1 and other at index 3, But according to the defination of index method it will only give index of first occurance of 'cat' in list 'bacon'."
   ]
  },
  {
   "cell_type": "markdown",
   "metadata": {},
   "source": [
    "Q.7 : How does bacon.append(99) change the look of the list value in bacon?"
   ]
  },
  {
   "cell_type": "markdown",
   "metadata": {},
   "source": [
    "A.7 :\n",
    "    \n",
    "     bacon.append(99) will add the integer 99 at the end of the list i.e it will increase the length of the list by 1 and after that add the 99 at the last index of the increased length.\n",
    "     \n",
    "    The code will show it :"
   ]
  },
  {
   "cell_type": "code",
   "execution_count": 9,
   "metadata": {},
   "outputs": [
    {
     "name": "stdout",
     "output_type": "stream",
     "text": [
      "[3.14, 'cat', 11, 'cat', True, 99]\n"
     ]
    }
   ],
   "source": [
    "# A.7 :\n",
    "\n",
    "bacon = [3.14,'cat',11,'cat',True]\n",
    "bacon.append(99)\n",
    "print(bacon)"
   ]
  },
  {
   "cell_type": "markdown",
   "metadata": {},
   "source": [
    "    Before append operation the length of the bacon list was 5, Now after appending the length of the bacon list is 6 with 99 at index number : 5."
   ]
  },
  {
   "cell_type": "markdown",
   "metadata": {},
   "source": [
    "Q.8 : How does bacon.remove('cat') change the look of the list in bacon?"
   ]
  },
  {
   "cell_type": "markdown",
   "metadata": {},
   "source": [
    "A.8 :\n",
    "    \n",
    "     bacon.remove('cat') will remove the first occurance of the element 'cat' given within the paranthesis that is present in the list 'bacon'.\n",
    "     \n",
    "     The code shows it :"
   ]
  },
  {
   "cell_type": "code",
   "execution_count": 10,
   "metadata": {},
   "outputs": [
    {
     "name": "stdout",
     "output_type": "stream",
     "text": [
      "[3.14, 11, 'cat', True]\n"
     ]
    }
   ],
   "source": [
    "# A.8 :\n",
    "\n",
    "bacon = [3.14,'cat',11,'cat',True]\n",
    "bacon.remove('cat')\n",
    "print(bacon)"
   ]
  },
  {
   "cell_type": "markdown",
   "metadata": {},
   "source": [
    "    From the above code we understand that from the original list 'bacon' the element 'cat' at index 1 removed since it is the first occurance of 'cat' and the 'cat' at index 3 is retained. Also within the original list all the elements has shifted its index by 1 position in left hand side i.e :\n",
    "    11 : now at index 1\n",
    "    'cat' : now at index 2\n",
    "    True : now at index 3"
   ]
  },
  {
   "cell_type": "markdown",
   "metadata": {},
   "source": [
    "Q.9 : What are the list concatenation and list replication operators?"
   ]
  },
  {
   "cell_type": "markdown",
   "metadata": {},
   "source": [
    "A.9 :\n",
    "    \n",
    "     List concatination merges two list with operator used as \"+\" sign between two list.\n",
    "     E.g : L = [1,2,3,4,6]\n",
    "           L2 = [9,6,7,8,9,12]\n",
    "           L+L2 ---> First elements within L will be shown followed by elements of L2 in a new list.\n",
    "     \n",
    "     List replication is repeatiting of the same list with operator used as \"*\" with an integer value.\n",
    "     E.g : L = [1,2,3,4,6]\n",
    "           L*3 ---> Here L will be repeating three times in a new list.\n",
    "           \n",
    "      The following code shows it :"
   ]
  },
  {
   "cell_type": "code",
   "execution_count": 11,
   "metadata": {},
   "outputs": [
    {
     "name": "stdout",
     "output_type": "stream",
     "text": [
      "[1, 2, 3, 4, 6, 9, 6, 7, 8, 9, 12]\n"
     ]
    }
   ],
   "source": [
    "# list concatination\n",
    "\n",
    "L = [1,2,3,4,6]\n",
    "L2 = [9,6,7,8,9,12]\n",
    "print(L+L2)"
   ]
  },
  {
   "cell_type": "code",
   "execution_count": 12,
   "metadata": {},
   "outputs": [
    {
     "name": "stdout",
     "output_type": "stream",
     "text": [
      "[1, 2, 3, 4, 6, 1, 2, 3, 4, 6, 1, 2, 3, 4, 6]\n"
     ]
    }
   ],
   "source": [
    "# list replication\n",
    "\n",
    "L = [1,2,3,4,6]\n",
    "print(L*3)"
   ]
  },
  {
   "cell_type": "markdown",
   "metadata": {},
   "source": [
    "Q.10 : What is difference between list methods append() and insert()?"
   ]
  },
  {
   "cell_type": "markdown",
   "metadata": {},
   "source": [
    "A.10 :\n",
    "    \n",
    "      append(element) : The append method will add the element within the paranthesis at the end of the index while increasing the length of the original list.\n",
    "      insert(index_value,element) : The insert method provides the feasibility of adding element in the place of any index within limit of declared original list indices.\n",
    "      \n",
    "      The following code shows it :"
   ]
  },
  {
   "cell_type": "code",
   "execution_count": 13,
   "metadata": {},
   "outputs": [
    {
     "name": "stdout",
     "output_type": "stream",
     "text": [
      "[0, 1, 2, 3, 4, 5, 6, 7]\n",
      "[0, 1, 2, -1, 3, 4, 5, 6, 7]\n"
     ]
    }
   ],
   "source": [
    "L = [0,1,2,3,4,5,6]\n",
    "\n",
    "L.append(7)\n",
    "print(L)\n",
    "L.insert(3,-1)\n",
    "print(L)"
   ]
  },
  {
   "cell_type": "markdown",
   "metadata": {},
   "source": [
    "Q.11 : What are the two methods for removing items from a list?"
   ]
  },
  {
   "cell_type": "markdown",
   "metadata": {},
   "source": [
    "A.11 : \n",
    "    \n",
    "      remove() and pop()"
   ]
  },
  {
   "cell_type": "markdown",
   "metadata": {},
   "source": [
    "Q.12 : Describe how list values and string values are identical."
   ]
  },
  {
   "cell_type": "markdown",
   "metadata": {},
   "source": [
    "A.12 :\n",
    "\n",
    "      (i) list values and string values both are itterable datatypes.\n",
    "      (ii) we can perform index extracting both in list and string values in similiar manner.\n",
    "      (iii) string and list slicing is also similiar.\n",
    "      (iv) string and list concatination is also identical.\n",
    "      (v) string and list replication is also same."
   ]
  },
  {
   "cell_type": "code",
   "execution_count": 14,
   "metadata": {},
   "outputs": [
    {
     "name": "stdout",
     "output_type": "stream",
     "text": [
      "1\n",
      "2\n",
      "3\n",
      "4\n",
      "5\n",
      "B\n",
      "u\n",
      "r\n",
      "h\n",
      "a\n",
      "n\n",
      "3\n",
      "r\n",
      "[1, 2]\n",
      "Bu\n",
      "Burhan\tKapadia\n",
      "[1, 2, 3, 4, 5, 3, 5, 6, 7, 8, 9]\n",
      "BurhanBurhan\n",
      "[1, 2, 3, 4, 5, 1, 2, 3, 4, 5]\n"
     ]
    }
   ],
   "source": [
    "# A.12 :\n",
    "\n",
    "# list and string itteration :\n",
    "\n",
    "L = [1,2,3,4,5]\n",
    "for i in L :\n",
    "    print(i)\n",
    "\n",
    "string1 = 'Burhan'\n",
    "for j in string1 :\n",
    "    print(j)\n",
    "    \n",
    "# list and string extraction through index position\n",
    "\n",
    "print(L[2])\n",
    "print(string1[2])\n",
    "\n",
    "# string and list slicing\n",
    "\n",
    "print(L[0:2])\n",
    "print(string1[0:2])\n",
    "\n",
    "# string and list concatination\n",
    "\n",
    "L2 = [3,5,6,7,8,9]\n",
    "string2 = \"\\tKapadia\"\n",
    "\n",
    "print(string1 + string2)\n",
    "print(L + L2)\n",
    "\n",
    "# string and list replication\n",
    "\n",
    "print(string1*2)\n",
    "print(L*2)"
   ]
  },
  {
   "cell_type": "markdown",
   "metadata": {},
   "source": [
    "Q.13 : What's the difference between tuples and lists?"
   ]
  },
  {
   "cell_type": "markdown",
   "metadata": {},
   "source": [
    "A.13 : \n",
    "\n",
    "      tuples : tuples are datatypes which stores collection of homogeneous or heterogeneous data which are enclosed in normal paranthesis \"()\" and are immutable.This means that element within the tuple cannot be reassigned by index calling of the original tuple.\n",
    "     \n",
    "     E.g : t = (1,2,3,4,'Burhan',True,[1,2,3])\n",
    "           t[4] = 'Kapadia' ---> It shows TypeError: 'tuple' object does not support item assignment\n",
    "\n",
    "    Lists : Lists are datatypes which stores collection of homogeneous or heterogeneous data which are enclosed in square brackets \"[]\" and are mutable.This means that element within the lists can be reassigned by index calling of the original Lists.\n",
    "    \n",
    "    E.g : L = [1,2,3,4,'Burhan',4+6j,False]\n",
    "          L[4] = 'Kapadia'\n",
    "          Now L = [1,2,3,4,'Kapadia',4+6j,False]"
   ]
  },
  {
   "cell_type": "markdown",
   "metadata": {},
   "source": [
    "Q.14 : How do you type a tuple value that only contains the integer 42?"
   ]
  },
  {
   "cell_type": "code",
   "execution_count": 17,
   "metadata": {},
   "outputs": [
    {
     "data": {
      "text/plain": [
       "tuple"
      ]
     },
     "execution_count": 17,
     "metadata": {},
     "output_type": "execute_result"
    }
   ],
   "source": [
    "# A.14 :\n",
    "tup = (44,)\n",
    "type(tup)"
   ]
  },
  {
   "cell_type": "markdown",
   "metadata": {},
   "source": [
    "Q.15 : How do you get list value's tuple form? How do you get a tuple value's list form?"
   ]
  },
  {
   "cell_type": "code",
   "execution_count": 18,
   "metadata": {},
   "outputs": [
    {
     "name": "stdout",
     "output_type": "stream",
     "text": [
      "[1, 2, 3, 4]\n",
      "(1, 2, 3, 4)\n"
     ]
    }
   ],
   "source": [
    "# A.15 :\n",
    "\n",
    "# tuple value's list form :\n",
    "\n",
    "tuple1 = (1,2,3,4)\n",
    "List1 = list(tuple1)\n",
    "print(List1)\n",
    "\n",
    "# list value's tuple form :\n",
    "\n",
    "List2 = [1,2,3,4]\n",
    "tuple2 = tuple(List2)\n",
    "print(tuple2)"
   ]
  },
  {
   "cell_type": "markdown",
   "metadata": {},
   "source": [
    "Q.16 : Variables that \"contain\" list values are not necessarily lists themselves. Instead, what do they contain?"
   ]
  },
  {
   "cell_type": "markdown",
   "metadata": {},
   "source": [
    "A.16 : \n",
    "    \n",
    "    \n",
    "    ]Variables inside the list can be of datatype :\n",
    "        (i) integer\n",
    "        (ii) float\n",
    "        (iii) strings\n",
    "        (iv) tuples\n",
    "        (v) sets\n",
    "        (vi) dictionaries\n",
    "        (vii) boolean values (True or False)\n",
    "        (viii) complex nummber"
   ]
  },
  {
   "cell_type": "markdown",
   "metadata": {},
   "source": [
    "Q.17 : How do you distinguish between copy.copy() and copy.deepcopy()?"
   ]
  },
  {
   "cell_type": "code",
   "execution_count": 60,
   "metadata": {},
   "outputs": [
    {
     "name": "stdout",
     "output_type": "stream",
     "text": [
      "With shallow copy we see lst1 : [1, 2, 3, 4] is not equal to lst2 : [1, 2, 8, 4].\n",
      "\n",
      "[1, 2, 3, 4] [1, 2, 8, 4] \n",
      "\n",
      "In case of no nesting in the list deep copy i.e copy.deepcopy() is same as shallow copy copy.copy()\n"
     ]
    }
   ],
   "source": [
    "# A.17 :\n",
    "\n",
    "import copy\n",
    "\n",
    "# no nesting of list\n",
    "\n",
    "# shallow copy\n",
    "\n",
    "Lst1 = [1,2,3,4]\n",
    "lst2 = copy.copy(lst1)\n",
    "lst2[2] = 8\n",
    "print(\"With shallow copy we see lst1 : {} is not equal to lst2 : {}.\\n\".format(lst1,lst2))\n",
    "\n",
    "# deep copy\n",
    "\n",
    "Lst3 = [1,2,3,4]\n",
    "lst4 = copy.deepcopy(lst3)\n",
    "lst4[2] = 8\n",
    "print(lst3,lst4,\"\\n\")\n",
    "print(\"In case of no nesting in the list deep copy i.e copy.deepcopy() is same as shallow copy copy.copy()\")"
   ]
  },
  {
   "cell_type": "code",
   "execution_count": 57,
   "metadata": {},
   "outputs": [
    {
     "name": "stdout",
     "output_type": "stream",
     "text": [
      "[[0, 2, 3], [3, 4, 5], [6, 7, 8]] [[0, 2, 3], [3, 4, 5], [6, 7, 8]]\n"
     ]
    }
   ],
   "source": [
    "# with nesting\n",
    "\n",
    "# shallow copy\n",
    "import copy\n",
    "lst5 = [[1,2,3],[3,4,5],[6,7,8]]\n",
    "lst6 = copy.copy(lst5)\n",
    "lst6[0][0] = 0\n",
    "print(lst5,lst6)"
   ]
  },
  {
   "cell_type": "markdown",
   "metadata": {},
   "source": [
    "    As we see lst5 and lst6 both becomes same when we change the object within the nested list since the copy.copy() command makes the compiler to refer lst5 and lst6 to refer to the same object within the nested list, due to which we see the same change in lst5 and lst6 respectively."
   ]
  },
  {
   "cell_type": "code",
   "execution_count": 59,
   "metadata": {},
   "outputs": [
    {
     "name": "stdout",
     "output_type": "stream",
     "text": [
      "[[1, 2, 3], [3, 4, 5], [6, 7, 8]] [[0, 2, 3], [3, 4, 5], [6, 7, 8]]\n"
     ]
    }
   ],
   "source": [
    "# with nesting\n",
    "\n",
    "# deep copy\n",
    "\n",
    "import copy\n",
    "lst7 = [[1,2,3],[3,4,5],[6,7,8]]\n",
    "lst8 = copy.deepcopy(lst7)\n",
    "lst8[0][0] = 0\n",
    "print(lst7,lst8)"
   ]
  },
  {
   "cell_type": "markdown",
   "metadata": {},
   "source": [
    "    As we see lst5 and lst6 both are different lst7 retains the old data while lst8 changes, copy.deepcopy() command makes the compiler to refer lst5 and lst6 to two different memory location due to which change in the lst8 doesn't have any effect in lst7."
   ]
  }
 ],
 "metadata": {
  "kernelspec": {
   "display_name": "Python 3",
   "language": "python",
   "name": "python3"
  },
  "language_info": {
   "codemirror_mode": {
    "name": "ipython",
    "version": 3
   },
   "file_extension": ".py",
   "mimetype": "text/x-python",
   "name": "python",
   "nbconvert_exporter": "python",
   "pygments_lexer": "ipython3",
   "version": "3.8.3"
  }
 },
 "nbformat": 4,
 "nbformat_minor": 4
}
