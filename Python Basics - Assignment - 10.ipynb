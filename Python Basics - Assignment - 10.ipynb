{
 "cells": [
  {
   "cell_type": "markdown",
   "metadata": {},
   "source": [
    "# Assignment - 10 - Python Basics"
   ]
  },
  {
   "cell_type": "markdown",
   "metadata": {},
   "source": [
    "Q.1 : How do you distinguish between shutil.copy() and shutil.copytree()?"
   ]
  },
  {
   "cell_type": "markdown",
   "metadata": {},
   "source": [
    "A.1 : \n",
    "     \n",
    "    (i) shutil.copy() : This command is within the shutil module, here it will copy a single file from a source path and paste into the destination folder (folder should be already present). If the destination is a filename, it will rename the file in the destination path as a copied file.\n",
    "    (ii) shutil.copytree() : This command is also within the shutil module, here will copy the files,subfolders in the source path and then create a folder in the destination path and save the copied files and folders within it."
   ]
  },
  {
   "cell_type": "markdown",
   "metadata": {},
   "source": [
    "Q.2 : What function is used to rename files??"
   ]
  },
  {
   "cell_type": "markdown",
   "metadata": {},
   "source": [
    "A.2 :\n",
    "      \n",
    "      from OS module we will use os.rename() function to rename files within the current working directory."
   ]
  },
  {
   "cell_type": "markdown",
   "metadata": {},
   "source": [
    "Q.3 : What is the difference between the delete functions in the send2trash and shutil modules"
   ]
  },
  {
   "cell_type": "markdown",
   "metadata": {},
   "source": [
    "A.3 :\n",
    "    \n",
    "     The delete function in send2trash module (send2trash.send2trash) will not permenantly delete the file or folder but send it to the recycle bin. The delete function in shutil module (shutil.rmtree()) will permenantly delete the file or folder from the OS."
   ]
  },
  {
   "cell_type": "markdown",
   "metadata": {},
   "source": [
    "Q.4 : ZipFile objects have a close() method just like File objects’ close() method. What ZipFile method is equivalent to File objects’ open() method?"
   ]
  },
  {
   "cell_type": "markdown",
   "metadata": {},
   "source": [
    "A.4 :\n",
    "\n",
    "    zipfile.ZipFile() is the method which is equivalent to open() method in file objects. It takes first arguement as file name and second arguement as mode which is read, write and append mode."
   ]
  },
  {
   "cell_type": "markdown",
   "metadata": {},
   "source": [
    "Q.5 : Create a programme that searches a folder tree for files with a certain file extension (such as .pdf or .jpg). Copy these files from whatever location they are in to a new folder."
   ]
  },
  {
   "cell_type": "code",
   "execution_count": 3,
   "metadata": {},
   "outputs": [],
   "source": [
    "import os\n",
    "import shutil\n",
    "os.getcwd()\n",
    "l = os.listdir(os.getcwd())\n",
    "l2 = []\n",
    "for i in range(len(l)) :\n",
    "    if '.ipynb' in l[i] :\n",
    "        l2.append(l[i])\n",
    "os.mkdir('tree')\n",
    "for i in range(len(l2)) :\n",
    "    move = l2[i]\n",
    "    source = 'D:\\Python practice - Burhan/' + move\n",
    "    destination = 'D:\\Python practice - Burhan/tree'\n",
    "    shutil.copy(source,destination)"
   ]
  }
 ],
 "metadata": {
  "kernelspec": {
   "display_name": "Python 3",
   "language": "python",
   "name": "python3"
  },
  "language_info": {
   "codemirror_mode": {
    "name": "ipython",
    "version": 3
   },
   "file_extension": ".py",
   "mimetype": "text/x-python",
   "name": "python",
   "nbconvert_exporter": "python",
   "pygments_lexer": "ipython3",
   "version": "3.7.6"
  }
 },
 "nbformat": 4,
 "nbformat_minor": 4
}
