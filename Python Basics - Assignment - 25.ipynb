{
 "cells": [
  {
   "cell_type": "markdown",
   "metadata": {},
   "source": [
    "# Assignment - 25 - Python Basics"
   ]
  },
  {
   "cell_type": "markdown",
   "metadata": {},
   "source": [
    "Q.1 : What is the difference between enclosing a list comprehension in square brackets and parentheses?"
   ]
  },
  {
   "cell_type": "markdown",
   "metadata": {},
   "source": [
    "A.1 : \n",
    "    \n",
    "     As the defination of list confirms that a list is the collection within a square brackets([]) so if we perform list comprehension in a square bracket we will obtain output in the form of list.\n",
    "     If we itend to perform list comprehension within a parantheses ('()') we will not get an output in the form of a list, But a genrator function will be obtained."
   ]
  },
  {
   "cell_type": "markdown",
   "metadata": {},
   "source": [
    "Q.2 : What is the relationship between generators and iterators?"
   ]
  },
  {
   "cell_type": "markdown",
   "metadata": {},
   "source": [
    "A.2 :\n",
    "     \n",
    "   \n",
    "    genrators can be converted to iterator since it holds an iterable results. "
   ]
  },
  {
   "cell_type": "code",
   "execution_count": 11,
   "metadata": {},
   "outputs": [],
   "source": [
    "# A.2 :\n",
    "\n",
    "def gen() :\n",
    "    l = [1,2]\n",
    "    for i in l :\n",
    "        yield i\n",
    "b = iter(gen())  \n",
    "# b is an iterator and converts the generator into iterator through iter()."
   ]
  },
  {
   "cell_type": "code",
   "execution_count": 12,
   "metadata": {},
   "outputs": [
    {
     "data": {
      "text/plain": [
       "1"
      ]
     },
     "execution_count": 12,
     "metadata": {},
     "output_type": "execute_result"
    }
   ],
   "source": [
    "next(b) # The elements in the sequence can be obtained by next() command. "
   ]
  },
  {
   "cell_type": "code",
   "execution_count": 13,
   "metadata": {},
   "outputs": [
    {
     "data": {
      "text/plain": [
       "2"
      ]
     },
     "execution_count": 13,
     "metadata": {},
     "output_type": "execute_result"
    }
   ],
   "source": [
    "next(b)"
   ]
  },
  {
   "cell_type": "markdown",
   "metadata": {},
   "source": [
    "Q.3 : What are the signs that a function is a generator function?"
   ]
  },
  {
   "cell_type": "markdown",
   "metadata": {},
   "source": [
    "A.3 : \n",
    "     \n",
    "    A genrator function is said to be a genrator once it has a yield statement within its body."
   ]
  },
  {
   "cell_type": "markdown",
   "metadata": {},
   "source": [
    "Q.4 : What is the purpose of a yield statement?"
   ]
  },
  {
   "cell_type": "markdown",
   "metadata": {},
   "source": [
    "A.4 : \n",
    "    \n",
    "    yield statement can be used within a generator function to return a sequence of elements in an iterable format which can later be iterate over the sequence, they won't store the entire sequence in the memory."
   ]
  },
  {
   "cell_type": "markdown",
   "metadata": {},
   "source": [
    "Q.5 : What is the relationship between map calls and list comprehensions? Make a comparison and contrast between the two."
   ]
  },
  {
   "cell_type": "markdown",
   "metadata": {},
   "source": [
    "A.5 :\n",
    "    \n",
    "    Both map and list comprehension are required to perform operations on a collection of data.\n",
    "    (i) list comprehension returns a list directly whereas map returns a map object"
   ]
  },
  {
   "cell_type": "code",
   "execution_count": 15,
   "metadata": {},
   "outputs": [
    {
     "name": "stdout",
     "output_type": "stream",
     "text": [
      "[0, 1, 2, 3, 4, 5, 6, 7, 8, 9]\n",
      "<map object at 0x000001957C3EFBC8>\n"
     ]
    }
   ],
   "source": [
    "# list comprehension return :\n",
    "l = [x for x in range(10)]\n",
    "print(l)\n",
    "\n",
    "# map return :\n",
    "li = [1,2,3,4]\n",
    "print(map(lambda x : 2*x,li))"
   ]
  },
  {
   "cell_type": "markdown",
   "metadata": {},
   "source": [
    "    (ii) Map is faster in case of calling an already defined function than list comprehension."
   ]
  },
  {
   "cell_type": "code",
   "execution_count": 24,
   "metadata": {},
   "outputs": [
    {
     "name": "stdout",
     "output_type": "stream",
     "text": [
      "The time taken for list comprehension execution : 4.9504197999995085\n",
      "The time taken for map execution : 0.6245362000008754\n"
     ]
    }
   ],
   "source": [
    "# time comparision between map and list :\n",
    "\n",
    "import timeit\n",
    "\n",
    "# list comprehension\n",
    "\n",
    "X = timeit.timeit('[x for x in range(100)]',number = 1000000)\n",
    "print('The time taken for list comprehension execution :',X)\n",
    "\n",
    "# map call :\n",
    "\n",
    "Y = timeit.timeit('map(lambda x : x,range(100))',number = 1000000)\n",
    "print('The time taken for map execution :',Y)"
   ]
  },
  {
   "cell_type": "markdown",
   "metadata": {},
   "source": [
    "    (iii) Whenver expression are too long and complex list comprehension is faster than map calls.\n",
    "    (iv) list comprehension is more concise and easier to read.\n",
    "    (v) list comprehension allows filtering of number of elements, map call doesn't have this feature."
   ]
  }
 ],
 "metadata": {
  "kernelspec": {
   "display_name": "Python 3",
   "language": "python",
   "name": "python3"
  },
  "language_info": {
   "codemirror_mode": {
    "name": "ipython",
    "version": 3
   },
   "file_extension": ".py",
   "mimetype": "text/x-python",
   "name": "python",
   "nbconvert_exporter": "python",
   "pygments_lexer": "ipython3",
   "version": "3.7.6"
  }
 },
 "nbformat": 4,
 "nbformat_minor": 4
}
