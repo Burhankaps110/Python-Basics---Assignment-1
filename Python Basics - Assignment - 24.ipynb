{
 "cells": [
  {
   "cell_type": "markdown",
   "metadata": {},
   "source": [
    "# Assignment - 24 - Python Basics"
   ]
  },
  {
   "cell_type": "markdown",
   "metadata": {},
   "source": [
    "Q.1 : What is the relationship between def statements and lambda expressions."
   ]
  },
  {
   "cell_type": "markdown",
   "metadata": {},
   "source": [
    "A.1 : \n",
    "      \n",
    "      Lambda function and def statement both are functions and takes arguements to perform some operation within its body that returns an output. Def statements provides a name to a function which can later be used to call. lambda function is an anonymous (without a name) function and returns expression value without any return statement. "
   ]
  },
  {
   "cell_type": "markdown",
   "metadata": {},
   "source": [
    "Q.2 : What is the benefit of lambda?"
   ]
  },
  {
   "cell_type": "markdown",
   "metadata": {},
   "source": [
    "A.2 : \n",
    "    \n",
    "    (i) Instant use (one time usage).\n",
    "    (ii) If we want to use function for a small code, we can replace it with lambda function to improve the readibility of the program.\n",
    "    (iii) To pass function as an arguement to another function, lambda function is the best option.\n",
    "    (iv) It doesn't require any return statement, the function itself returns the output."
   ]
  },
  {
   "cell_type": "markdown",
   "metadata": {},
   "source": [
    "Q.3 : Compare and contrast map, filter, and reduce"
   ]
  },
  {
   "cell_type": "markdown",
   "metadata": {},
   "source": [
    "A.3 : \n",
    "     \n",
    "     (i) map(function,itterable) : This function takes every element in an itterable (list,strings,tuples,etc) and apply a function (user-defined, anonymous and built-in functions) to generate a new element with the required changes."
   ]
  },
  {
   "cell_type": "code",
   "execution_count": 2,
   "metadata": {},
   "outputs": [
    {
     "name": "stdout",
     "output_type": "stream",
     "text": [
      "[4, 9, 16, 25, 36, 49, 64]\n"
     ]
    }
   ],
   "source": [
    "# E.g for map() :\n",
    "\n",
    "li = [2,3,4,5,6,7,8]\n",
    "l = list(map(lambda x : x * x, li))\n",
    "print(l)"
   ]
  },
  {
   "cell_type": "markdown",
   "metadata": {},
   "source": [
    "    (ii) filer(function,itterable) : This function takes every element in an itterable (list,strings,tuples,etc) and apply a function (user-defined, anonymous and built-in functions) that segerates elements of itterable based on a condition."
   ]
  },
  {
   "cell_type": "code",
   "execution_count": 8,
   "metadata": {},
   "outputs": [
    {
     "name": "stdout",
     "output_type": "stream",
     "text": [
      "[2, 4, 6, 8]\n"
     ]
    }
   ],
   "source": [
    "# E.g for filter() :\n",
    "\n",
    "li = [2,3,4,5,6,7,8]\n",
    "l = list(filter(lambda x : x % 2 == 0, li))\n",
    "print(l)"
   ]
  },
  {
   "cell_type": "markdown",
   "metadata": {},
   "source": [
    "    (iii) reduce(function.itterable) : This function takes every element in an itterable (list,strings,tuples,etc) and apply a function (user-defined, anonymous and built-in functions) to reduce itterables into a single valued output."
   ]
  },
  {
   "cell_type": "code",
   "execution_count": 12,
   "metadata": {},
   "outputs": [
    {
     "name": "stdout",
     "output_type": "stream",
     "text": [
      "35\n"
     ]
    }
   ],
   "source": [
    "# E.g for reduce() :\n",
    "\n",
    "from functools import reduce\n",
    "li = [2,3,4,5,6,7,8]\n",
    "c = reduce(lambda a,b : a + b, li)\n",
    "print(c)"
   ]
  },
  {
   "cell_type": "markdown",
   "metadata": {},
   "source": [
    "Q.4 : What are function annotations, and how are they used?"
   ]
  },
  {
   "cell_type": "markdown",
   "metadata": {},
   "source": [
    "A.4 :\n",
    "\n",
    "     Function annotations are Python's arbitarary expression that are kept in the function defination for the given arguements and what return type it should produce after running the code. \n",
    "     It is the information given to the compiler, that are evaluated at the compile time and has no influence in runtime enviroment.\n",
    "     They are used as follows :\n",
    "     (i) for normal parameters : def function_name (x : expression, y : expression = value) ---> return type expression\n",
    "     (ii) for *args and *kwargs : def (*args : expression, y : expression) ---> return type expression."
   ]
  },
  {
   "cell_type": "markdown",
   "metadata": {},
   "source": [
    "Q.5 : What are recursive functions, and how are they used?"
   ]
  },
  {
   "cell_type": "markdown",
   "metadata": {},
   "source": [
    "A.5 :\n",
    "     \n",
    "     A function that calls itself are known as 'recursive functions'.\n",
    "     They are used within the body of the defined functions that calls itself again and again until the function gets exhausted to provide an output.\n",
    "     E.g : factorial(n) = n * factorial(n-1)"
   ]
  },
  {
   "cell_type": "markdown",
   "metadata": {},
   "source": [
    "Q.6 : What are some general design guidelines for coding functions"
   ]
  },
  {
   "cell_type": "markdown",
   "metadata": {},
   "source": [
    "A.6 : \n",
    "     \n",
    "    (i) Using 4-space identation and no tabs.\n",
    "    (ii) Usage of 'doc-strings' that gives detail information about the function.\n",
    "    (iii) More usage of comments to understand the code within the function.\n",
    "    (iv) Use of meaningful function name to have better understanding of what the function will perform.\n",
    "    (v) While defining the function within a class start the function name with lower_case letter with underscore.\n",
    "    (vi) Apply return statement majorly than print statement."
   ]
  },
  {
   "cell_type": "markdown",
   "metadata": {},
   "source": [
    "Q.7 : Name three or more ways that functions can communicate results to a caller."
   ]
  },
  {
   "cell_type": "markdown",
   "metadata": {},
   "source": [
    "A.7 :\n",
    "      \n",
    "     (i) Printing the output in the console through print() statement, But it will be a Nonetype.\n",
    "     (ii) return keyword to provide output in the console and return the output data-type.\n",
    "     (iii) yield keyword which will make the function as a generator function and we can itterate through the function to get the desired output.\n",
    "     (iv) Saving the result in a log file by using log levels inside a function.\n",
    "     (v) Saving the result in a text file by applying file handling concept."
   ]
  }
 ],
 "metadata": {
  "kernelspec": {
   "display_name": "Python 3",
   "language": "python",
   "name": "python3"
  },
  "language_info": {
   "codemirror_mode": {
    "name": "ipython",
    "version": 3
   },
   "file_extension": ".py",
   "mimetype": "text/x-python",
   "name": "python",
   "nbconvert_exporter": "python",
   "pygments_lexer": "ipython3",
   "version": "3.7.6"
  }
 },
 "nbformat": 4,
 "nbformat_minor": 4
}
