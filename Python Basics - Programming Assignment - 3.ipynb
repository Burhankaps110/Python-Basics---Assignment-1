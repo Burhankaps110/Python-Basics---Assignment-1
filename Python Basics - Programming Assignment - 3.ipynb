{
 "cells": [
  {
   "cell_type": "markdown",
   "metadata": {},
   "source": [
    "# Programming Assignment - 3"
   ]
  },
  {
   "cell_type": "markdown",
   "metadata": {},
   "source": [
    "Q.1 : Write a Python Program to check if a number is positive, negative or zero?"
   ]
  },
  {
   "cell_type": "code",
   "execution_count": 1,
   "metadata": {},
   "outputs": [
    {
     "name": "stdout",
     "output_type": "stream",
     "text": [
      "Enter a number : -25\n",
      "-25 is a negative number.\n",
      "Enter a number : 25\n",
      "25 is a positive number.\n",
      "Enter a number : 0\n",
      "0, this is zero.\n"
     ]
    }
   ],
   "source": [
    "# A.1 :\n",
    "for i in range(0,3) :\n",
    "    num = int(input(\"Enter a number : \"))\n",
    "    if num > 0 :\n",
    "        print(\"{} is a positive number.\".format(num))\n",
    "    elif num < 0:\n",
    "        print(\"{} is a negative number.\".format(num))\n",
    "    else:\n",
    "        print(\"{}, this is zero.\".format(num))"
   ]
  },
  {
   "cell_type": "markdown",
   "metadata": {},
   "source": [
    "Q.2 : Write a python program to check if a number is odd or even?"
   ]
  },
  {
   "cell_type": "code",
   "execution_count": 2,
   "metadata": {},
   "outputs": [
    {
     "name": "stdout",
     "output_type": "stream",
     "text": [
      "Enter a number : 23\n",
      "23 is an odd number.\n",
      "Enter a number : 88\n",
      "88 is an even number.\n"
     ]
    }
   ],
   "source": [
    "# A.2 :\n",
    "for i in range(0,2) :\n",
    "    value = int(input(\"Enter a number : \"))\n",
    "    if value % 2 == 0 :\n",
    "        print(\"{} is an even number.\".format(value))\n",
    "    else:\n",
    "        print(\"{} is an odd number.\".format(value))"
   ]
  },
  {
   "cell_type": "markdown",
   "metadata": {},
   "source": [
    "Q.3 : Write a python program to check leap year?"
   ]
  },
  {
   "cell_type": "code",
   "execution_count": 3,
   "metadata": {},
   "outputs": [
    {
     "name": "stdout",
     "output_type": "stream",
     "text": [
      "Enter a year of your choice : 2020\n",
      "2020 is a leap year.\n",
      "Enter a year of your choice : 1998\n",
      "1998 is not a leap year.\n"
     ]
    }
   ],
   "source": [
    "# A.3 : \n",
    "for i in range(0,2) :\n",
    "    year = int(input(\"Enter a year of your choice : \"))\n",
    "    if year % 4 == 0 and year % 100 != 0 or year % 400 == 0 :\n",
    "        print(\"{} is a leap year.\".format(year))\n",
    "    else:\n",
    "        print(\"{} is not a leap year.\".format(year))"
   ]
  },
  {
   "cell_type": "markdown",
   "metadata": {},
   "source": [
    "Q.4 : Write a python program to check prime number?"
   ]
  },
  {
   "cell_type": "code",
   "execution_count": 7,
   "metadata": {},
   "outputs": [
    {
     "name": "stdout",
     "output_type": "stream",
     "text": [
      "Enter a number : 221\n",
      "221 is not a prime number.\n",
      "Enter a number : 29\n",
      "29 is prime number.\n",
      "Enter a number : 0\n",
      "zero is neither composite nor prime number.\n"
     ]
    }
   ],
   "source": [
    "# A.4 :\n",
    "for i in range(0,3):\n",
    "    val = int(input(\"Enter a number : \"))\n",
    "    for j in range(2,val) :\n",
    "        if val % j == 0 :\n",
    "            print(\"{} is not a prime number.\".format(val))\n",
    "            break\n",
    "    else :\n",
    "        if val == 0:\n",
    "            print(\"zero is neither composite nor prime number.\")\n",
    "        else :\n",
    "            print(\"{} is prime number.\".format(val))    "
   ]
  },
  {
   "cell_type": "markdown",
   "metadata": {},
   "source": [
    "Q.5 : Write a python program to print all prime numbers in an interval of 1 - 1000?"
   ]
  },
  {
   "cell_type": "code",
   "execution_count": 17,
   "metadata": {
    "scrolled": true
   },
   "outputs": [
    {
     "name": "stdout",
     "output_type": "stream",
     "text": [
      "2\t 3\t 5\t 7\t 11\t 13\t 17\t 19\t 23\t 29\t 31\t 37\t 41\t 43\t 47\t 53\t 59\t 61\t 67\t 71\t 73\t 79\t 83\t 89\t 97\t 101\t 103\t 107\t 109\t 113\t 127\t 131\t 137\t 139\t 149\t 151\t 157\t 163\t 167\t 173\t 179\t 181\t 191\t 193\t 197\t 199\t 211\t 223\t 227\t 229\t 233\t 239\t 241\t 251\t 257\t 263\t 269\t 271\t 277\t 281\t 283\t 293\t 307\t 311\t 313\t 317\t 331\t 337\t 347\t 349\t 353\t 359\t 367\t 373\t 379\t 383\t 389\t 397\t 401\t 409\t 419\t 421\t 431\t 433\t 439\t 443\t 449\t 457\t 461\t 463\t 467\t 479\t 487\t 491\t 499\t 503\t 509\t 521\t 523\t 541\t 547\t 557\t 563\t 569\t 571\t 577\t 587\t 593\t 599\t 601\t 607\t 613\t 617\t 619\t 631\t 641\t 643\t 647\t 653\t 659\t 661\t 673\t 677\t 683\t 691\t 701\t 709\t 719\t 727\t 733\t 739\t 743\t 751\t 757\t 761\t 769\t 773\t 787\t 797\t 809\t 811\t 821\t 823\t 827\t 829\t 839\t 853\t 857\t 859\t 863\t 877\t 881\t 883\t 887\t 907\t 911\t 919\t 929\t 937\t 941\t 947\t 953\t 967\t 971\t 977\t 983\t 991\t 997\t \n",
      "\n",
      "All the above numbers are prime numbers.\n"
     ]
    }
   ],
   "source": [
    "# A.5 :\n",
    "a = list()\n",
    "for i in range(1,1001) :\n",
    "    a.append(i)\n",
    "for j in range(len(a)):\n",
    "    for k in range(2,a[j]) : \n",
    "        if a[j] % k == 0 :\n",
    "            break\n",
    "    else :\n",
    "        if a[j] == 1 :\n",
    "            continue\n",
    "        print(\"{}\\t\".format(a[j]),end = ' ')\n",
    "print(\"\\n\")\n",
    "print(\"All the above numbers are prime numbers.\")"
   ]
  }
 ],
 "metadata": {
  "kernelspec": {
   "display_name": "Python 3",
   "language": "python",
   "name": "python3"
  },
  "language_info": {
   "codemirror_mode": {
    "name": "ipython",
    "version": 3
   },
   "file_extension": ".py",
   "mimetype": "text/x-python",
   "name": "python",
   "nbconvert_exporter": "python",
   "pygments_lexer": "ipython3",
   "version": "3.8.3"
  }
 },
 "nbformat": 4,
 "nbformat_minor": 4
}
