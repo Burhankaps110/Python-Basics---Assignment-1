{
 "cells": [
  {
   "cell_type": "markdown",
   "metadata": {},
   "source": [
    "#  Assignment - 23 - Python Basics"
   ]
  },
  {
   "cell_type": "markdown",
   "metadata": {},
   "source": [
    "Q.1 : What is the result of the code, and why?\n",
    "    \n",
    "     def func(a, b = 6, c = 8) :\n",
    "         print(a,b,c)\n",
    "     func(1,2)"
   ]
  },
  {
   "cell_type": "code",
   "execution_count": 5,
   "metadata": {},
   "outputs": [
    {
     "name": "stdout",
     "output_type": "stream",
     "text": [
      "1 2 8\n"
     ]
    }
   ],
   "source": [
    "# A.1 :\n",
    "\n",
    "def func(a, b = 6, c = 8) :\n",
    "    print(a,b,c)\n",
    "func(1,2)"
   ]
  },
  {
   "cell_type": "markdown",
   "metadata": {},
   "source": [
    "    In the above code we have defined a function named 'func' where we have given 3 parameters within the defination as a (declared), b = 6 (initilized) and c = 8 (initialized) and then we require to print a,b and c values. While calling we have parsed value of a as 1, then we have overriden the value of b as 2 and we haven't given anything for 'c' due to which Python takes whatever value we have given in the defination. This makes us obtain output as 1,2 and 8 for a,b and c respectively."
   ]
  },
  {
   "cell_type": "markdown",
   "metadata": {},
   "source": [
    "Q.2 : What is the result of this code, and why?\n",
    "      \n",
    "      def func(a, b, c=5):\n",
    "         print(a, b, c)\n",
    "      func(1, c=3, b=2)"
   ]
  },
  {
   "cell_type": "code",
   "execution_count": 6,
   "metadata": {},
   "outputs": [
    {
     "name": "stdout",
     "output_type": "stream",
     "text": [
      "1 2 3\n"
     ]
    }
   ],
   "source": [
    "# A.2 :\n",
    "\n",
    "def func(a, b, c=5):\n",
    "    print(a, b, c)\n",
    "func(1, c=3, b=2)"
   ]
  },
  {
   "cell_type": "markdown",
   "metadata": {},
   "source": [
    "    In the above code we have defined a function named 'func' where we have given 3 parameters within the defination as a (declared), b (declared) and c = 5 (initialized) and then we require to print a,b and c values. While calling we have parsed value of a and b as 1 and 2, then we have overriden the value of c as 3 from 5, the order of parsing values doesn't matter since we have given in the form of initializing the varaibles.This makes us obtain output as 1,2 and 3 for a,b and c respectively."
   ]
  },
  {
   "cell_type": "markdown",
   "metadata": {},
   "source": [
    "Q.3 : How about this code: what is its result, and why?\n",
    "      \n",
    "      def func(a, *pargs):\n",
    "          print(a, pargs)\n",
    "      func(1, 2, 3)"
   ]
  },
  {
   "cell_type": "code",
   "execution_count": 7,
   "metadata": {},
   "outputs": [
    {
     "name": "stdout",
     "output_type": "stream",
     "text": [
      "1 (2, 3)\n"
     ]
    }
   ],
   "source": [
    "# A.3 :\n",
    "\n",
    "def func(a, *pargs):\n",
    "    print(a, pargs)\n",
    "func(1, 2, 3)"
   ]
  },
  {
   "cell_type": "markdown",
   "metadata": {},
   "source": [
    "    In the above code we have defined a function named 'func' where we have given 2 parameters :\n",
    "    1. normal arguement variable (a) - accepts one value as an input at any time.\n",
    "    2. positional arguement variable (*pargs) - accepts multiple value as an input at a time as tuples.\n",
    "    So when we parse 1,2,3 on a function call the 1 is being assign to 'a' (we have declared as an arguement first in the order) then 2 and 3 to pargs in the form of tuple."
   ]
  },
  {
   "cell_type": "markdown",
   "metadata": {},
   "source": [
    "Q.4 : What does this code print, and why?\n",
    "    \n",
    "      def func(a, **kargs):\n",
    "          print(a, kargs)\n",
    "      func(a=1, c=3, b=2)"
   ]
  },
  {
   "cell_type": "code",
   "execution_count": 10,
   "metadata": {},
   "outputs": [
    {
     "name": "stdout",
     "output_type": "stream",
     "text": [
      "1 {'c': 3, 'b': 2}\n"
     ]
    }
   ],
   "source": [
    "# A.4 :\n",
    "\n",
    "def func(a, **kargs):\n",
    "    print(a, kargs)\n",
    "func(a=1, c=3, b=2)"
   ]
  },
  {
   "cell_type": "markdown",
   "metadata": {},
   "source": [
    "    In the above code we have defined a function named 'func' where we have given 2 parameters :\n",
    "    1. normal arguement variable (a) - accepts one value as an input at any time.\n",
    "    2. keyword arguement variable (**kargs) - accepts key-value pair as values at any time.\n",
    "    So when we parse a = 1,b = 2 and c = 3 on a function call the 1 is being assign to 'a' (we have declared as an arguement first in the order) then 'c' is and 'b' is taken as keys and 3 and 2 as values repectively in the form of dictionary."
   ]
  },
  {
   "cell_type": "markdown",
   "metadata": {},
   "source": [
    "Q.5 : What gets printed by this, and explain?\n",
    "      \n",
    "      def func(a, b, c=8, d=5): print(a, b, c, d)\n",
    "      func(1, *(5, 6))"
   ]
  },
  {
   "cell_type": "code",
   "execution_count": 11,
   "metadata": {},
   "outputs": [
    {
     "name": "stdout",
     "output_type": "stream",
     "text": [
      "1 5 6 5\n"
     ]
    }
   ],
   "source": [
    "# A.5 :\n",
    "\n",
    "def func(a, b, c=8, d=5): print(a, b, c, d)\n",
    "func(1, *(5, 6))"
   ]
  },
  {
   "cell_type": "markdown",
   "metadata": {},
   "source": [
    "    In the above code we have defined a function named 'func' where we have given 4 parameters as a(declared), b(declared), c = 8(initialized) and d = 5(initialized), then we require to print a,b,c and d values. While function calling we have given value for 'a' as 1 and then we have assigned 'b' and reassigned 'c' in the form of destructuring assignment of variables due to which b holds value of 5 and c holds value of 6. So finally we get output as a,b,c and d holding 1,5,6 and 5 as values repectively. "
   ]
  },
  {
   "cell_type": "markdown",
   "metadata": {},
   "source": [
    "Q.6 : What is the result of this, and explain?\n",
    "\n",
    "      def func(a, b, c): a = 2; b[0] = 'x'; c['a'] = 'y'\n",
    "          l=1; m=[1]; n={'a':0}\n",
    "      func(l, m, n)\n",
    "      l, m, n"
   ]
  },
  {
   "cell_type": "code",
   "execution_count": 5,
   "metadata": {},
   "outputs": [
    {
     "data": {
      "text/plain": [
       "(1, ['x'], {'a': 'y'})"
      ]
     },
     "execution_count": 5,
     "metadata": {},
     "output_type": "execute_result"
    }
   ],
   "source": [
    "# A.6 :\n",
    "\n",
    "def func(a, b, c):a = 2;b[0] = 'x';c['a'] = 'y'\n",
    "l=1;m=[1];n={'a':0}\n",
    "func(l, m, n)\n",
    "l, m, n"
   ]
  },
  {
   "cell_type": "markdown",
   "metadata": {},
   "source": [
    "    In the above code we have defined a function named 'func' where we have given 4 parameters as a(declared), b(declared), c(declared) and then within the body of the function we have assigned 'a' as 2, an observe is made that we are considering 'b' as a list and reassigning value in 0th index as 'x' and 'c' we observe to be a dictionary where the value reassigning operation is performed.\n",
    "    This ends our function, then we initialized three global variables l = 1, m = [1] and n = {'a' : 0} and parse these variables inside the function while calling it so due to which now l = a,m = b and n = c, Later the body of function is invoked and the respective operations are being performed on these varaibles and finally we get new values of l,m and n as 1, ['x'] and {'a' : 'y'} respectively in the form of tuple."
   ]
  }
 ],
 "metadata": {
  "kernelspec": {
   "display_name": "Python 3",
   "language": "python",
   "name": "python3"
  },
  "language_info": {
   "codemirror_mode": {
    "name": "ipython",
    "version": 3
   },
   "file_extension": ".py",
   "mimetype": "text/x-python",
   "name": "python",
   "nbconvert_exporter": "python",
   "pygments_lexer": "ipython3",
   "version": "3.7.6"
  }
 },
 "nbformat": 4,
 "nbformat_minor": 4
}
