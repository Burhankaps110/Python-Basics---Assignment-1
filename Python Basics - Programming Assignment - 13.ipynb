{
 "cells": [
  {
   "cell_type": "markdown",
   "metadata": {},
   "source": [
    "# Programming Assignment - 13 - Python Basics"
   ]
  },
  {
   "cell_type": "markdown",
   "metadata": {},
   "source": [
    "Q.1 : Write a program that calculates and prints the value according to the given formula:\n",
    "\n",
    "Q = Square root of [(2 * C * D)/H]\n",
    "\n",
    "Following are the fixed values of C and H:\n",
    "\n",
    "C is 50. H is 30.\n",
    "\n",
    "D is the variable whose values should be input to your program in a comma-separated sequence.\n",
    "\n",
    "Example\n",
    "\n",
    "Let us assume the following comma separated input sequence is given to the program:\n",
    "\n",
    "100,150,180\n",
    "\n",
    "The output of the program should be:\n",
    "\n",
    "18,22,24\n"
   ]
  },
  {
   "cell_type": "code",
   "execution_count": 19,
   "metadata": {},
   "outputs": [
    {
     "name": "stdout",
     "output_type": "stream",
     "text": [
      "Enter a comma seperated numbers : 100,150,180\n",
      "18.257418583505537,22.360679774997898,24.49489742783178,"
     ]
    }
   ],
   "source": [
    "# A.1 :\n",
    "\n",
    "comma_input = input(\"Enter a comma seperated numbers : \")\n",
    "D = comma_input.split(',')\n",
    "#print(D)\n",
    "C = 50\n",
    "H = 30\n",
    "for i in range(len(D)) :\n",
    "    Q = ((2 * C * int(D[i])) / H) ** (0.5)\n",
    "    print(Q,end = ',')"
   ]
  },
  {
   "cell_type": "raw",
   "metadata": {},
   "source": [
    "-------------------------------------------------------------------------------------------------------------------------------"
   ]
  },
  {
   "cell_type": "markdown",
   "metadata": {},
   "source": [
    "Q.2:\n",
    "Write a program which takes 2 digits, X,Y as input and generates a 2-dimensional array. The element value in the i-th row and j-th column of the array should be i*j.\n",
    "\n",
    "Note: i=0,1.., X-1; j=0,1,¡¬Y-1.\n",
    "\n",
    "Example\n",
    "\n",
    "Suppose the following inputs are given to the program:\n",
    "\n",
    "3,5\n",
    "\n",
    "Then, the output of the program should be:\n",
    "\n",
    "[[0, 0, 0, 0, 0], [0, 1, 2, 3, 4], [0, 2, 4, 6, 8]] \n"
   ]
  },
  {
   "cell_type": "code",
   "execution_count": 24,
   "metadata": {},
   "outputs": [
    {
     "name": "stdout",
     "output_type": "stream",
     "text": [
      "Enter rows and columns in this format (row,col) : 4,6\n",
      "[[0, 0, 0, 0, 0, 0], [0, 1, 2, 3, 4, 5], [0, 2, 4, 6, 8, 10], [0, 3, 6, 9, 12, 15]]\n"
     ]
    }
   ],
   "source": [
    "# A.2 :\n",
    "\n",
    "comma_input = input(\"Enter rows and columns in this format (row,col) : \")\n",
    "RC = comma_input.split(',')\n",
    "l = []\n",
    "diff = 0\n",
    "for i in range(int(RC[0])) :\n",
    "    a = 0\n",
    "    l1 = []\n",
    "    for j in range(int(RC[1])) :\n",
    "        l1.append(a)\n",
    "        a = a + diff\n",
    "    diff = diff + 1\n",
    "    l.append(l1)\n",
    "print(l)"
   ]
  },
  {
   "cell_type": "raw",
   "metadata": {},
   "source": [
    "-------------------------------------------------------------------------------"
   ]
  },
  {
   "cell_type": "markdown",
   "metadata": {},
   "source": [
    "Q.3 : Write a program that accepts a comma separated sequence of words as input and prints the words in a comma-separated sequence after sorting them alphabetically.\n",
    "\n",
    "Suppose the following input is supplied to the program:\n",
    "\n",
    "without,hello,bag,world\n",
    "\n",
    "Then, the output should be:\n",
    "\n",
    "bag,hello,without,world\n"
   ]
  },
  {
   "cell_type": "code",
   "execution_count": 3,
   "metadata": {},
   "outputs": [
    {
     "name": "stdout",
     "output_type": "stream",
     "text": [
      "Enter a set of comma seperated words : without,hello,bag,world\n",
      "The alphabetically sorted comma seperated word sequence are : bag,hello,without,world\n"
     ]
    }
   ],
   "source": [
    "# A.3 : \n",
    "comma_input = input(\"Enter a set of comma seperated words : \")\n",
    "Words = comma_input.split(',')\n",
    "#print(Words)\n",
    "Words_sort = sorted(Words)\n",
    "s = ','.join(Words_sort)\n",
    "print(\"The alphabetically sorted comma seperated word sequence are :\",s)"
   ]
  },
  {
   "cell_type": "raw",
   "metadata": {},
   "source": [
    "-------------------------------------------------------------------------------"
   ]
  },
  {
   "cell_type": "markdown",
   "metadata": {},
   "source": [
    "Q.4 : Write a program that accepts a sequence of whitespace separated words as \n",
    "\n",
    "input and prints the words after removing all duplicate words and sorting them \n",
    "\n",
    "alphanumerically.\n",
    "\n",
    "Suppose the following input is supplied to the program:\n",
    "\n",
    "hello world and practice makes perfect and hello world again\n",
    "\n",
    "Then, the output should be:\n",
    "\n",
    "again and hello makes perfect practice world\n"
   ]
  },
  {
   "cell_type": "code",
   "execution_count": 12,
   "metadata": {},
   "outputs": [
    {
     "name": "stdout",
     "output_type": "stream",
     "text": [
      "Enter a sentence : hello world and practice makes perfect 123 and hello world again 123 456 667 456 123\n",
      "123 456 667 again and hello makes perfect practice world\n"
     ]
    }
   ],
   "source": [
    "# A.4 :\n",
    "\n",
    "sentence = input(\"Enter a sentence : \")\n",
    "sentence_list = sentence.split(' ')\n",
    "li2 = []\n",
    "for i in range(len(sentence_list)) :\n",
    "    if sentence_list[i] not in li2 :\n",
    "        li2.append(sentence_list[i])\n",
    "sentence_list = sorted(li2)\n",
    "sentence2 = ' '.join(sentence_list)\n",
    "print(sentence2)"
   ]
  },
  {
   "cell_type": "raw",
   "metadata": {},
   "source": [
    "-------------------------------------------------------------------------------"
   ]
  },
  {
   "cell_type": "markdown",
   "metadata": {},
   "source": [
    "Q.5 : Write a program that accepts a sentence and calculate the number of letters and digits.\n",
    "\n",
    "Suppose the following input is supplied to the program:\n",
    "\n",
    "hello world! 123\n",
    "\n",
    "Then, the output should be:\n",
    "\n",
    "LETTERS 10\n",
    "\n",
    "DIGITS 3"
   ]
  },
  {
   "cell_type": "code",
   "execution_count": 14,
   "metadata": {},
   "outputs": [
    {
     "name": "stdout",
     "output_type": "stream",
     "text": [
      "Enter a sentence : Hello Burhanuddin Kapadia 777 786 45 ! $\n",
      "LETTERS : 23\n",
      "DIGITS : 8\n"
     ]
    }
   ],
   "source": [
    "# A.5 :\n",
    "\n",
    "sentence = input(\"Enter a sentence : \")\n",
    "count = 0\n",
    "count2 = 0\n",
    "for i in sentence :\n",
    "    if i.isalpha() :\n",
    "        count = count + 1\n",
    "    elif i.isdigit() :\n",
    "        count2 = count2 + 1\n",
    "print('LETTERS :',count)\n",
    "print('DIGITS :',count2)"
   ]
  },
  {
   "cell_type": "raw",
   "metadata": {},
   "source": [
    "-------------------------------------------------------------------------------"
   ]
  },
  {
   "cell_type": "markdown",
   "metadata": {},
   "source": [
    "Q.6 : A website requires the users to input username and password to register. Write a program to check the validity of password input by users.\n",
    "\n",
    "Following are the criteria for checking the password:\n",
    "\n",
    "1. At least 1 letter between [a-z]\n",
    "\n",
    "2. At least 1 number between [0-9]\n",
    "\n",
    "1. At least 1 letter between [A-Z]\n",
    "\n",
    "3. At least 1 character from [$#@]\n",
    "\n",
    "4. Minimum length of transaction password: 6\n",
    "\n",
    "5. Maximum length of transaction password: 12\n",
    "\n",
    "Your program should accept a sequence of comma separated passwords and will check them according to the above criteria. Passwords that match the criteria are to be printed, each separated by a comma.\n",
    "\n",
    "Example\n",
    "\n",
    "If the following passwords are given as input to the program:\n",
    "\n",
    "ABd1234@1,a F1#,2w3E*,2We3345\n",
    "\n",
    "Then, the output of the program should be:\n",
    "\n",
    "ABd1234@1\n"
   ]
  },
  {
   "cell_type": "code",
   "execution_count": 24,
   "metadata": {},
   "outputs": [
    {
     "name": "stdout",
     "output_type": "stream",
     "text": [
      "Enter a sequence of password seperated by comma : bur@1,786Burh$,Bu110@,burH11,Buq1,vCt112%$\n",
      "786Burh$,Bu110@,vCt112%$\n"
     ]
    }
   ],
   "source": [
    "# A.6 :\n",
    "\n",
    "password_series = input(\"Enter a sequence of password seperated by comma : \")\n",
    "pass_list = password_series.split(',')\n",
    "count1 = 0\n",
    "count2 = 0\n",
    "count3 = 0\n",
    "li2 = []\n",
    "for i in pass_list :\n",
    "    if len(i) >= 6 and len(i) <= 12 :\n",
    "        if i.isalnum() != True :\n",
    "            for j in i :\n",
    "                if j.islower() :\n",
    "                    count1 = count1 + 1\n",
    "                elif j.isupper() :\n",
    "                    count2 = count2 + 1\n",
    "                elif j.isdigit() :\n",
    "                    count3 = count3 + 1\n",
    "            if count1 >= 1 and count2 >= 1 and count3 >= 1 :\n",
    "                li2.append(i)\n",
    "print(','.join(li2))"
   ]
  }
 ],
 "metadata": {
  "kernelspec": {
   "display_name": "Python 3",
   "language": "python",
   "name": "python3"
  },
  "language_info": {
   "codemirror_mode": {
    "name": "ipython",
    "version": 3
   },
   "file_extension": ".py",
   "mimetype": "text/x-python",
   "name": "python",
   "nbconvert_exporter": "python",
   "pygments_lexer": "ipython3",
   "version": "3.7.6"
  }
 },
 "nbformat": 4,
 "nbformat_minor": 4
}
