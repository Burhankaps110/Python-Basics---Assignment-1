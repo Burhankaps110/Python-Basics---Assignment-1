{
 "cells": [
  {
   "cell_type": "markdown",
   "metadata": {},
   "source": [
    "# Programming Assignment - 5"
   ]
  },
  {
   "cell_type": "markdown",
   "metadata": {},
   "source": [
    "Q.1 : Write a Python Program to Find LCM?"
   ]
  },
  {
   "cell_type": "code",
   "execution_count": 5,
   "metadata": {},
   "outputs": [
    {
     "name": "stdout",
     "output_type": "stream",
     "text": [
      "Enter the first number 30\n",
      "Enter the second number 45\n",
      "The LCM of 30 and 45 is : 90.\n"
     ]
    }
   ],
   "source": [
    "# A.1 : \n",
    "\n",
    "num1 = int(input(\"Enter the first number \"))\n",
    "num2 = int(input(\"Enter the second number \"))\n",
    "\n",
    "if num1 > num2 :\n",
    "    a = num1\n",
    "else :\n",
    "    a = num2\n",
    "\n",
    "while True :\n",
    "    if (a % num1 == 0) and (a % num2 == 0) :\n",
    "        LCM = a\n",
    "        break\n",
    "    a += 1\n",
    "print(\"The LCM of {} and {} is : {}.\".format(num1,num2,LCM))"
   ]
  },
  {
   "cell_type": "markdown",
   "metadata": {},
   "source": [
    "Q.2 : Write a Python Program to Find HCF?"
   ]
  },
  {
   "cell_type": "code",
   "execution_count": 1,
   "metadata": {},
   "outputs": [
    {
     "name": "stdout",
     "output_type": "stream",
     "text": [
      "Enter 1st number : 56\n",
      "Enter 2nd number : 66\n",
      "The HCF of 56 and 66 is : 2.\n"
     ]
    }
   ],
   "source": [
    "# A.2 : \n",
    "\n",
    "N1 = int(input(\"Enter 1st number : \"))\n",
    "N2 = int(input(\"Enter 2nd number : \"))\n",
    "\n",
    "lst1 = []\n",
    "lst2 = []\n",
    "\n",
    "i = 1\n",
    "while i <= N1 :\n",
    "    if N1 % i == 0 :\n",
    "        lst1.append(i)\n",
    "        i += 1\n",
    "    else :\n",
    "        i += 1\n",
    "        \n",
    "i = 1\n",
    "while i <= N2 :\n",
    "    if N2 % i == 0 :\n",
    "        lst2.append(i)\n",
    "        i += 1\n",
    "    else :\n",
    "        i += 1\n",
    "\n",
    "for i in range(len(lst1)) :\n",
    "    for j in range(len(lst2)) :\n",
    "        if lst1[i] == lst2[j] :\n",
    "            if lst1[i] > 1 and lst2[j] > 1 :\n",
    "                print(\"The HCF of {} and {} is : {}.\".format(N1,N2,lst1[i]))"
   ]
  },
  {
   "cell_type": "markdown",
   "metadata": {},
   "source": [
    "Q.3 : Write a Python Program to Convert Decimal to Binary, Octal and Hexadecimal?"
   ]
  },
  {
   "cell_type": "code",
   "execution_count": 2,
   "metadata": {},
   "outputs": [
    {
     "name": "stdout",
     "output_type": "stream",
     "text": [
      "Enter a decimal number : 29\n",
      "The binary equivalent of 29 is 11101.\n"
     ]
    }
   ],
   "source": [
    "# A.3 : \n",
    "\n",
    "#decimal to binary\n",
    "\n",
    "decimal_number = int(input(\"Enter a decimal number : \"))\n",
    "\n",
    "string = \"\"\n",
    "decimal_number2 = decimal_number\n",
    "i=2\n",
    "\n",
    "while decimal_number > 0 :\n",
    "    rem = decimal_number % 2\n",
    "    string = string + str(rem)\n",
    "    decimal_number = decimal_number // 2\n",
    "reverse = string[::-1]\n",
    "print(\"The binary equivalent of {} is {}.\".format(decimal_number2,int(reverse)))"
   ]
  },
  {
   "cell_type": "code",
   "execution_count": 31,
   "metadata": {},
   "outputs": [
    {
     "name": "stdout",
     "output_type": "stream",
     "text": [
      "Enter a decimal number : 6\n",
      "The octal equivalent of 6 is 6.\n",
      "Enter a decimal number : 1792\n",
      "The octal equivalent of 1792 is 3400.\n"
     ]
    }
   ],
   "source": [
    "# A.3 :\n",
    "\n",
    "# decimal to octal\n",
    "\n",
    "for j in range(0,2) : \n",
    "    dec_number = int(input(\"Enter a decimal number : \"))\n",
    "\n",
    "    string1 = ''\n",
    "    dec_number2 = dec_number\n",
    "    if dec_number <= 7 :\n",
    "        print(\"The octal equivalent of {} is {}.\".format(dec_number,dec_number))\n",
    "    else:\n",
    "        i = 8\n",
    "        while dec_number > 0 :\n",
    "            rem1 = dec_number % 8\n",
    "            string1 = str(rem1) + string1\n",
    "            dec_number //= 8\n",
    "        print(\"The octal equivalent of {} is {}.\".format(dec_number2,int(string1)))"
   ]
  },
  {
   "cell_type": "code",
   "execution_count": 3,
   "metadata": {},
   "outputs": [
    {
     "name": "stdout",
     "output_type": "stream",
     "text": [
      "Enter a decimal number : 590\n",
      "The hexadecimal equivalent of 590 is 24E.\n"
     ]
    }
   ],
   "source": [
    "# A.3 :\n",
    "\n",
    "# decimal to hexadecimal\n",
    "\n",
    "dec_num = int(input(\"Enter a decimal number : \"))\n",
    "\n",
    "dec_num2 = dec_num\n",
    "string2 = ''\n",
    "\n",
    "i = 16\n",
    "dict = {10 : 'A', 11 : 'B', 12 : 'C', 13 : 'D', 14 : 'E', 15 : 'F'}\n",
    "while dec_num > 0 :\n",
    "    rem2 = dec_num % 16\n",
    "    if rem2 > 9 :\n",
    "        string2 = dict[rem2] + string2\n",
    "        dec_num //= 16\n",
    "    else : \n",
    "        string2 = str(rem2) + string2\n",
    "        dec_num //= 16\n",
    "print(\"The hexadecimal equivalent of {} is {}.\".format(dec_num2,string2))"
   ]
  },
  {
   "cell_type": "markdown",
   "metadata": {},
   "source": [
    "Q.4 : Write a Python Program To Find ASCII value of a character?"
   ]
  },
  {
   "cell_type": "code",
   "execution_count": 3,
   "metadata": {},
   "outputs": [
    {
     "name": "stdout",
     "output_type": "stream",
     "text": [
      "Enter a character : R\n",
      "The ascii value of R is : 82\n"
     ]
    }
   ],
   "source": [
    "# A.4 :\n",
    "\n",
    "char = input(\"Enter a character : \")\n",
    "\n",
    "ascii_value = ord(char)\n",
    "\n",
    "print(\"The ascii value of {} is : {}\".format(char,ascii_value))"
   ]
  },
  {
   "cell_type": "markdown",
   "metadata": {},
   "source": [
    "Q.5 : Write a Python Program to Make a Simple Calculator with 4 basic mathematical operations?"
   ]
  },
  {
   "cell_type": "code",
   "execution_count": 5,
   "metadata": {},
   "outputs": [
    {
     "name": "stdout",
     "output_type": "stream",
     "text": [
      "Enter the first number : 24\n",
      "Enter the second number : 12\n",
      "The addition of 24 and 12 is : 36 \n",
      "\n",
      "The subtraction of 24 and 12 is : 12 \n",
      "\n",
      "The multiplication of 24 and 12 is : 288 \n",
      "\n",
      "The division of 24 and 12 is : 2.0 \n",
      "\n"
     ]
    }
   ],
   "source": [
    "# A.5 :\n",
    "\n",
    "number_1 = int(input(\"Enter the first number : \"))\n",
    "number_2 = int(input(\"Enter the second number : \"))\n",
    "\n",
    "# perform addition\n",
    "\n",
    "addition = number_1 + number_2\n",
    "print(\"The addition of {} and {} is : {}\".format(number_1,number_2,addition),'\\n')\n",
    "\n",
    "# perform subtraction\n",
    "\n",
    "subtraction = number_1 - number_2\n",
    "print(\"The subtraction of {} and {} is : {}\".format(number_1,number_2,subtraction),'\\n')\n",
    "\n",
    "#perform multiplication\n",
    "\n",
    "multiply = number_1 * number_2\n",
    "print(\"The multiplication of {} and {} is : {}\".format(number_1,number_2,multiply),'\\n')\n",
    "\n",
    "#perform division\n",
    "\n",
    "divide = number_1 / number_2\n",
    "print(\"The division of {} and {} is : {}\".format(number_1,number_2,divide),'\\n')"
   ]
  }
 ],
 "metadata": {
  "kernelspec": {
   "display_name": "Python 3",
   "language": "python",
   "name": "python3"
  },
  "language_info": {
   "codemirror_mode": {
    "name": "ipython",
    "version": 3
   },
   "file_extension": ".py",
   "mimetype": "text/x-python",
   "name": "python",
   "nbconvert_exporter": "python",
   "pygments_lexer": "ipython3",
   "version": "3.8.3"
  }
 },
 "nbformat": 4,
 "nbformat_minor": 4
}
