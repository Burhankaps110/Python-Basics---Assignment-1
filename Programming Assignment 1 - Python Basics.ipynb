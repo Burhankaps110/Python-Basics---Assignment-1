{
 "cells": [
  {
   "cell_type": "markdown",
   "metadata": {},
   "source": [
    "# Programming Assignment 1"
   ]
  },
  {
   "cell_type": "markdown",
   "metadata": {},
   "source": [
    "Q.1 : Write a Python program to print \"Hello World\"?"
   ]
  },
  {
   "cell_type": "code",
   "execution_count": 1,
   "metadata": {},
   "outputs": [
    {
     "name": "stdout",
     "output_type": "stream",
     "text": [
      "Hello World\n"
     ]
    }
   ],
   "source": [
    "print(\"Hello World\")"
   ]
  },
  {
   "cell_type": "markdown",
   "metadata": {},
   "source": [
    "Q.2 : Write a Python program to do arithmetical operations addition and \n",
    "      division?"
   ]
  },
  {
   "cell_type": "code",
   "execution_count": 2,
   "metadata": {},
   "outputs": [
    {
     "name": "stdout",
     "output_type": "stream",
     "text": [
      "Enter a value : 2\n",
      "Enter another value : 5\n",
      "Addition of a and b is : 7\n"
     ]
    }
   ],
   "source": [
    "# A.2 : performing addition operation\n",
    "\n",
    "a = int(input(\"Enter a value : \"))\n",
    "b = int(input(\"Enter another value : \"))\n",
    "\n",
    "c = a + b\n",
    "print(\"Addition of a and b is :\",c)"
   ]
  },
  {
   "cell_type": "code",
   "execution_count": 3,
   "metadata": {},
   "outputs": [
    {
     "name": "stdout",
     "output_type": "stream",
     "text": [
      "Enter a value : 2\n",
      "Enter another value : 5\n",
      "0.4\n"
     ]
    }
   ],
   "source": [
    "# A.2 : performing division operation\n",
    "d = int(input(\"Enter a value : \"))\n",
    "e = int(input(\"Enter another value : \"))\n",
    "\n",
    "f = d / e\n",
    "\n",
    "print(f)"
   ]
  },
  {
   "cell_type": "markdown",
   "metadata": {},
   "source": [
    "Q.3 : Write a Python program to find the area of a triangle?"
   ]
  },
  {
   "cell_type": "code",
   "execution_count": 5,
   "metadata": {},
   "outputs": [
    {
     "name": "stdout",
     "output_type": "stream",
     "text": [
      "Enter the base value of the triangle : 10\n",
      "Enter the height value of the triangle : 12\n",
      "The area of the triangle is : 60.0\n"
     ]
    }
   ],
   "source": [
    "# A.3 : finding area of a triangle\n",
    "    \n",
    "base = int(input(\"Enter the base value of the triangle : \"))\n",
    "height = int(input(\"Enter the height value of the triangle : \"))\n",
    "    \n",
    "area = 0.5 * base * height\n",
    "print(\"The area of the triangle is :\",area)"
   ]
  },
  {
   "cell_type": "markdown",
   "metadata": {},
   "source": [
    "Q.4 : Write a Python program to swap two variables?"
   ]
  },
  {
   "cell_type": "code",
   "execution_count": 10,
   "metadata": {},
   "outputs": [
    {
     "name": "stdout",
     "output_type": "stream",
     "text": [
      "Enter the first value : 5\n",
      "Enter the second value : 6\n",
      "Now after swaping first value is : 6\n",
      "Now after swaping second value is : 5\n"
     ]
    }
   ],
   "source": [
    "# A.4 : python program to swap two variables\n",
    "\n",
    "first_value = int((input(\"Enter the first value : \")))\n",
    "second_value = int((input(\"Enter the second value : \")))\n",
    "temp = 0\n",
    "\n",
    "temp = first_value\n",
    "first_value = second_value\n",
    "second_value = temp\n",
    "\n",
    "print(\"Now after swaping first value is :\", first_value)\n",
    "print(\"Now after swaping second value is :\", second_value)"
   ]
  },
  {
   "cell_type": "markdown",
   "metadata": {},
   "source": [
    "Q.5 : Write a Python program to generate a random number?"
   ]
  },
  {
   "cell_type": "code",
   "execution_count": 11,
   "metadata": {
    "scrolled": true
   },
   "outputs": [
    {
     "name": "stdout",
     "output_type": "stream",
     "text": [
      "Enter a random number : 1238448\n",
      "1238448.0\n"
     ]
    }
   ],
   "source": [
    "# A.5 : python program to generate a random number\n",
    "\n",
    "random_number = float(input(\"Enter a random number : \"))\n",
    "print(random_number)"
   ]
  }
 ],
 "metadata": {
  "kernelspec": {
   "display_name": "Python 3",
   "language": "python",
   "name": "python3"
  },
  "language_info": {
   "codemirror_mode": {
    "name": "ipython",
    "version": 3
   },
   "file_extension": ".py",
   "mimetype": "text/x-python",
   "name": "python",
   "nbconvert_exporter": "python",
   "pygments_lexer": "ipython3",
   "version": "3.8.3"
  }
 },
 "nbformat": 4,
 "nbformat_minor": 4
}
