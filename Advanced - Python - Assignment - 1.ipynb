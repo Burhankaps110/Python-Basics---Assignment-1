{
 "cells": [
  {
   "cell_type": "markdown",
   "metadata": {},
   "source": [
    "# Advance Python Assignment - Assignment - 1"
   ]
  },
  {
   "cell_type": "markdown",
   "metadata": {},
   "source": [
    "Q1 : What is the purpose of Python's OOP?"
   ]
  },
  {
   "cell_type": "markdown",
   "metadata": {},
   "source": [
    "A.1 :\n",
    "    \n",
    "    1. Object Orientated Programming (OOP's) makes the program to be readable easily and provides reusability along with sharability of the code.\n",
    "    2. Data is under privacy with the use of it's feature i.e abstraction.\n",
    "    3. It supports modularity and structurabilty of the code."
   ]
  },
  {
   "cell_type": "markdown",
   "metadata": {},
   "source": [
    "Q.2 : Where does an inheritance search look for an attribute?"
   ]
  },
  {
   "cell_type": "markdown",
   "metadata": {},
   "source": [
    "A.2 :\n",
    "    \n",
    "    Python searches for an attribute in an upward tree of attributes. Tt first searches for the attribute in its instance and then looks in the class it is generated from, then to all super classes listed in its class header"
   ]
  },
  {
   "cell_type": "markdown",
   "metadata": {},
   "source": [
    "Q.3 : How do you distinguish between a class object and an instance object?"
   ]
  },
  {
   "cell_type": "markdown",
   "metadata": {},
   "source": [
    "A.3 :\n",
    "    \n",
    "    (i) Classes are blueprints to create objects that contains attributes and methods defined, objects are the instance of the class that calls the class to make the blueprint activate.\n",
    "    \n",
    "    (ii) Classes do not hold an memory space, while object once created holds a memory space within the system.\n",
    "    \n",
    "    (iii) For a single class there can be multiple objects which will take multiple memory space."
   ]
  },
  {
   "cell_type": "markdown",
   "metadata": {},
   "source": [
    "Q.4 : What makes the first argument in a class’s method function special?"
   ]
  },
  {
   "cell_type": "markdown",
   "metadata": {},
   "source": [
    "A.4 :\n",
    "    \n",
    "    The first argument in the class method is 'self' which acts as a pointer to the class itself.\n",
    "    Whenever the object calls the class with some attributes, these attributes are understood by class through 'self' pointer. The data stored in the attributes get activated to perform the respective task once self is associated with it.\n",
    "    e.g :\n",
    "    consider we have declared an attribute like a = 10 within the class\n",
    "    we will activate this variable as self.a = a\n",
    "    where a is the object attribute and self.a is the class attribute."
   ]
  },
  {
   "cell_type": "markdown",
   "metadata": {},
   "source": [
    "Q.5 : What is the purpose of the __init__ method?"
   ]
  },
  {
   "cell_type": "markdown",
   "metadata": {},
   "source": [
    "A.5 :\n",
    "    \n",
    "    The __init__ methods is a constructor (speacial method in Python's Class) that allows to initialize class attributes via object attributes."
   ]
  },
  {
   "cell_type": "markdown",
   "metadata": {},
   "source": [
    "Q.6 : What is the process for creating a class instance?"
   ]
  },
  {
   "cell_type": "markdown",
   "metadata": {},
   "source": [
    "A.6 :\n",
    "    \n",
    "    The class instance is an object which is declared as follows :\n",
    "        object1 = test_class(attribute_a, attribute_b)\n",
    "        here :\n",
    "        object1 ---> instance of the class.\n",
    "        test_class ---> class.\n",
    "        attribute_a and attribute_b ---> instance attributes or object attributes"
   ]
  },
  {
   "cell_type": "markdown",
   "metadata": {},
   "source": [
    "Q.7 : What is the process for creating a class?"
   ]
  },
  {
   "cell_type": "markdown",
   "metadata": {},
   "source": [
    "A.7 : \n",
    "    \n",
    "    The class is created as follows :\n",
    "        class Class_name :\n",
    "            body of the class"
   ]
  },
  {
   "cell_type": "code",
   "execution_count": 5,
   "metadata": {},
   "outputs": [],
   "source": [
    "# A.7 :\n",
    "\n",
    "class test :\n",
    "    pass"
   ]
  },
  {
   "cell_type": "markdown",
   "metadata": {},
   "source": [
    "Q.8 : How would you define the superclasses of a class?"
   ]
  },
  {
   "cell_type": "code",
   "execution_count": 6,
   "metadata": {},
   "outputs": [],
   "source": [
    "# A.8 :\n",
    "\n",
    "class test1 :\n",
    "    pass\n",
    "\n",
    "class test2(test1) :\n",
    "    pass"
   ]
  },
  {
   "cell_type": "markdown",
   "metadata": {},
   "source": [
    "    Above test1 is the superclass and test2 is the child class. we will declare the child class as follows :\n",
    "    class child_class(Parent_class)"
   ]
  }
 ],
 "metadata": {
  "kernelspec": {
   "display_name": "Python 3",
   "language": "python",
   "name": "python3"
  },
  "language_info": {
   "codemirror_mode": {
    "name": "ipython",
    "version": 3
   },
   "file_extension": ".py",
   "mimetype": "text/x-python",
   "name": "python",
   "nbconvert_exporter": "python",
   "pygments_lexer": "ipython3",
   "version": "3.8.3"
  }
 },
 "nbformat": 4,
 "nbformat_minor": 4
}
