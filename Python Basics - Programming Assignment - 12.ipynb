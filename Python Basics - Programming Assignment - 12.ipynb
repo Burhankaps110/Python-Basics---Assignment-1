{
 "cells": [
  {
   "cell_type": "markdown",
   "metadata": {},
   "source": [
    "# Programming Assignment - 12"
   ]
  },
  {
   "cell_type": "markdown",
   "metadata": {},
   "source": [
    "Q.1 : Write a Python program to Extract Unique values dictionary values?"
   ]
  },
  {
   "cell_type": "code",
   "execution_count": 51,
   "metadata": {},
   "outputs": [
    {
     "name": "stdout",
     "output_type": "stream",
     "text": [
      "{'Burhan': 123, 34: 'Kapadia', 67: 'data science', 21: 'Kapadia', 90: 'Gaurav', 76: 'data science', 99: 'Paven', 111: 'xyz'} \n",
      "\n",
      "The unique values in the dictionary values are :\n",
      "\n",
      "123 \n",
      "\n",
      "Gaurav \n",
      "\n",
      "Paven \n",
      "\n",
      "xyz \n",
      "\n"
     ]
    }
   ],
   "source": [
    "# A.1 :\n",
    "\n",
    "dict1 = {\"Burhan\" : 123, 34 : \"Kapadia\", 67 : \"data science\", 21 : \"Kapadia\", 90 : \"Gaurav\", 76 : \"data science\", 99 : \"Paven\", 111 : \"xyz\"}\n",
    "\n",
    "print(dict1,\"\\n\")\n",
    "\n",
    "list1 = list(dict1.values())\n",
    "\n",
    "print(\"The unique values in the dictionary values are :\\n\")\n",
    "\n",
    "for j in list1 :\n",
    "    if list1.count(j) > 1 :\n",
    "        continue\n",
    "    else :\n",
    "        print(j,\"\\n\")"
   ]
  },
  {
   "cell_type": "markdown",
   "metadata": {},
   "source": [
    "Q.2 : Write a Python program to find the sum of all items in a dictionary?"
   ]
  },
  {
   "cell_type": "code",
   "execution_count": 3,
   "metadata": {},
   "outputs": [
    {
     "name": "stdout",
     "output_type": "stream",
     "text": [
      "Sum of items in dictionary : 671\n"
     ]
    }
   ],
   "source": [
    "# A.2 :\n",
    "\n",
    "dict11 = {11:45,88:32,42:77,99:132,111:34}\n",
    "\n",
    "# sum of all keys :\n",
    "\n",
    "i = 0\n",
    "j = 0\n",
    "for key,val in dict11.items() :\n",
    "    i = i + key\n",
    "    j = j+val\n",
    "print(\"Sum of items in dictionary :\",(i+j))"
   ]
  },
  {
   "cell_type": "markdown",
   "metadata": {},
   "source": [
    "Q.3 : Write a Python program to Merging two Dictionaries?"
   ]
  },
  {
   "cell_type": "code",
   "execution_count": 49,
   "metadata": {},
   "outputs": [
    {
     "name": "stdout",
     "output_type": "stream",
     "text": [
      "{'Burhan': 123, 90: 'data science', 111: 'kapadia', 'hdbfhgf': 12, 'sbbdj': 34, 'wughuweghug': 54, 'uhueu': 33}\n"
     ]
    }
   ],
   "source": [
    "# A.3 :\n",
    "\n",
    "dict2 = {\"Burhan\" : 123, 90 : \"data science\", 111 : \"kapadia\"}\n",
    "dict3 = {\"hdbfhgf\" : 12, \"sbbdj\" : 34, \"wughuweghug\" : 54, \"uhueu\" : 33}\n",
    "\n",
    "dict4 = {}\n",
    "\n",
    "for k in dict2.keys() :\n",
    "    dict4.update({k : dict2[k]})\n",
    "for m in dict3.keys() :\n",
    "    dict4.update({m : dict3[m]})\n",
    "\n",
    "print(dict4)"
   ]
  },
  {
   "cell_type": "markdown",
   "metadata": {},
   "source": [
    "Q.4 : Write a Python program to convert key-values list to flat dictionary?"
   ]
  },
  {
   "cell_type": "code",
   "execution_count": 10,
   "metadata": {},
   "outputs": [
    {
     "name": "stdout",
     "output_type": "stream",
     "text": [
      "The flat dictionary with keys from first list and values from second list is :  {'Burhan': [1, 2, 3, 4], 'Kapadia': 'data science', 123: {1, 2, 3, 5, 45}, 455: 12, True: 32, (4+5j): False, (1, 2, 3, 4): 90}\n"
     ]
    }
   ],
   "source": [
    "# A.4 :\n",
    "\n",
    "list2 = ['Burhan','Kapadia',123,455,True,4+5j,(1,2,3,4)]\n",
    "\n",
    "list3 = [[1,2,3,4],'data science',{1,2,3,45,5},12,32,False,90]\n",
    "\n",
    "dict5 = {}\n",
    "\n",
    "for i in range(len(list2)) :\n",
    "    for j in range(i,len(list3)) :\n",
    "        dict5.update({list2[i] : list3[j]})\n",
    "        break\n",
    "print(\"The flat dictionary with keys from first list and values from second list is : \",dict5)"
   ]
  },
  {
   "cell_type": "code",
   "execution_count": null,
   "metadata": {},
   "outputs": [],
   "source": [
    "Q.5 : Write a Python program to insertion at the beginning in OrderedDict?"
   ]
  },
  {
   "cell_type": "code",
   "execution_count": 5,
   "metadata": {},
   "outputs": [
    {
     "name": "stdout",
     "output_type": "stream",
     "text": [
      "The original dictionary is : \n",
      " OrderedDict([('My_first_name', 'Burhan'), ('My_last_name', 'Kapadia'), ('My_education', 'Engineering')])\n",
      "The dictionary after updating a new-key value pair is : \n",
      " OrderedDict([('My_first_name', 'Burhan'), ('My_last_name', 'Kapadia'), ('My_education', 'Engineering'), ('My_address', 'JP Nagar')])\n",
      "The dictionary after insertion of new key-value pair at the beginning :\n",
      " OrderedDict([('My_address', 'JP Nagar'), ('My_first_name', 'Burhan'), ('My_last_name', 'Kapadia'), ('My_education', 'Engineering')])\n"
     ]
    }
   ],
   "source": [
    "# A.5 :\n",
    "\n",
    "from collections import OrderedDict\n",
    "\n",
    "od_dict = OrderedDict()\n",
    "\n",
    "od_dict[\"My_first_name\"] = \"Burhan\"\n",
    "od_dict[\"My_last_name\"] = \"Kapadia\"\n",
    "od_dict[\"My_education\"] = \"Engineering\"\n",
    "\n",
    "print(\"The original dictionary is : \\n\",od_dict)\n",
    "\n",
    "od_dict.update({\"My_address\" : \"JP Nagar\"})\n",
    "\n",
    "print(\"The dictionary after updating a new-key value pair is : \\n\",od_dict)\n",
    "\n",
    "od_dict.move_to_end(\"My_address\", last = False)\n",
    "\n",
    "print(\"The dictionary after insertion of new key-value pair at the beginning :\\n\",od_dict)"
   ]
  },
  {
   "cell_type": "markdown",
   "metadata": {},
   "source": [
    "Q.6 : Write a Python program to check order of character in string using OrderedDict()?"
   ]
  },
  {
   "cell_type": "code",
   "execution_count": 12,
   "metadata": {},
   "outputs": [
    {
     "name": "stdout",
     "output_type": "stream",
     "text": [
      "Enter a string : Burhanuddin Kapadia\n",
      "Enter the order of the character present in the above string : adKpda\n",
      "The order of character in the string matches!\n",
      "Enter a string : Burhanuddin Kapadia\n",
      "Enter the order of the character present in the above string : rBdnBa\n",
      "The order of character in the string didn't match!\n"
     ]
    }
   ],
   "source": [
    "# A.6 :\n",
    "\n",
    "from collections import OrderedDict\n",
    "for i in range(2) :\n",
    "    string = input('Enter a string : ')\n",
    "    pattern = input(\"Enter the order of the character present in the above string : \")\n",
    "    ord_dict = OrderedDict()\n",
    "    for i in range(len(string)) :\n",
    "        ord_dict.update({i : string[i]})\n",
    "    pattern_index = 0\n",
    "    for k,v in ord_dict.items() :\n",
    "        if (v == pattern[pattern_index]) :\n",
    "            pattern_index = pattern_index + 1\n",
    "            if (pattern_index == len(pattern)) :\n",
    "                print(\"The order of character in the string matches!\")\n",
    "                break\n",
    "    else :\n",
    "        print(\"The order of character in the string didn't match!\")"
   ]
  },
  {
   "cell_type": "markdown",
   "metadata": {},
   "source": [
    "Q.7 : Write a Python program to sort Python Dictionaries by Key or Value?"
   ]
  },
  {
   "cell_type": "code",
   "execution_count": 83,
   "metadata": {},
   "outputs": [
    {
     "name": "stdout",
     "output_type": "stream",
     "text": [
      "{110: 123, 122: 123, 'Burhan': 455, 22: 455, 'Me': 'Bachelors Mech', 'Kapadia': 'data science'}\n"
     ]
    }
   ],
   "source": [
    "# A.7 :\n",
    "\n",
    "dict5 = {'Burhan' : 455, 'Kapadia' : 'data science', 110 : 123, 122 : 123, 22 : 455, 'Me' : 'Bachelors Mech'}\n",
    "\n",
    "list4 = list(dict5.values())\n",
    "\n",
    "list5 = []\n",
    "\n",
    "for i in list4 :\n",
    "    if type(i) == str :\n",
    "        list5.append(i)\n",
    "        \n",
    "list5.sort()\n",
    "\n",
    "j = 0\n",
    "while j < len(list4) :\n",
    "    if type(list4[j]) == str :\n",
    "        list4.pop(j)\n",
    "        continue\n",
    "    j += 1\n",
    "    \n",
    "list4.sort()\n",
    "\n",
    "dict6 = {}\n",
    "for k in list4 :\n",
    "    for l in dict5 :\n",
    "        if k == dict5[l] :\n",
    "            dict6.update({l : k})\n",
    "\n",
    "for m in list5 :\n",
    "    for n in dict5 :\n",
    "        if m == dict5[n] :\n",
    "            dict6.update({n : m})\n",
    "print(dict6)"
   ]
  }
 ],
 "metadata": {
  "kernelspec": {
   "display_name": "Python 3",
   "language": "python",
   "name": "python3"
  },
  "language_info": {
   "codemirror_mode": {
    "name": "ipython",
    "version": 3
   },
   "file_extension": ".py",
   "mimetype": "text/x-python",
   "name": "python",
   "nbconvert_exporter": "python",
   "pygments_lexer": "ipython3",
   "version": "3.7.6"
  }
 },
 "nbformat": 4,
 "nbformat_minor": 4
}
