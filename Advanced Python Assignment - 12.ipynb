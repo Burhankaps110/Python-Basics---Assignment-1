{
 "cells": [
  {
   "cell_type": "markdown",
   "metadata": {},
   "source": [
    "# Advanced Python Assignment - 12"
   ]
  },
  {
   "cell_type": "markdown",
   "metadata": {},
   "source": [
    "Q.1 : Does assigning a value to a string's indexed character violate Python's string immutability?"
   ]
  },
  {
   "cell_type": "markdown",
   "metadata": {},
   "source": [
    "A.1 : \n",
    "\n",
    "    Assigning a value to a string's indexed character does violates string nature of immutibilty since the variable object in which the string is assigned is refering to a particular memory address and we are trying alter the value which it holds. This is not possible in case of Python's string data type."
   ]
  },
  {
   "cell_type": "code",
   "execution_count": 1,
   "metadata": {},
   "outputs": [
    {
     "ename": "TypeError",
     "evalue": "'str' object does not support item assignment",
     "output_type": "error",
     "traceback": [
      "\u001b[1;31m---------------------------------------------------------------------------\u001b[0m",
      "\u001b[1;31mTypeError\u001b[0m                                 Traceback (most recent call last)",
      "\u001b[1;32m<ipython-input-1-f06f82c1c311>\u001b[0m in \u001b[0;36m<module>\u001b[1;34m\u001b[0m\n\u001b[0;32m      1\u001b[0m \u001b[1;31m# A.1 :\u001b[0m\u001b[1;33m\u001b[0m\u001b[1;33m\u001b[0m\u001b[1;33m\u001b[0m\u001b[0m\n\u001b[0;32m      2\u001b[0m \u001b[0mstring\u001b[0m \u001b[1;33m=\u001b[0m \u001b[1;34m'Burhan'\u001b[0m\u001b[1;33m\u001b[0m\u001b[1;33m\u001b[0m\u001b[0m\n\u001b[1;32m----> 3\u001b[1;33m \u001b[0mstring\u001b[0m\u001b[1;33m[\u001b[0m\u001b[1;36m2\u001b[0m\u001b[1;33m]\u001b[0m \u001b[1;33m=\u001b[0m \u001b[1;34m'h'\u001b[0m\u001b[1;33m\u001b[0m\u001b[1;33m\u001b[0m\u001b[0m\n\u001b[0m",
      "\u001b[1;31mTypeError\u001b[0m: 'str' object does not support item assignment"
     ]
    }
   ],
   "source": [
    "# A.1 :\n",
    "string = 'Burhan'\n",
    "string[2] = 'h'"
   ]
  },
  {
   "cell_type": "markdown",
   "metadata": {},
   "source": [
    "    The above 'TypeError' is due to string being immutable."
   ]
  },
  {
   "cell_type": "markdown",
   "metadata": {},
   "source": [
    "Q.2 : Does using the += operator to concatenate strings violate Python's string immutability? Why or why not?"
   ]
  },
  {
   "cell_type": "markdown",
   "metadata": {},
   "source": [
    "A.2 : \n",
    "\n",
    "    Using += operator doesn't violates strings immutability nature since by this operation we are making the variable which hold the new value to point to another memory address while retaining the old memory address. But if we try to reassign some character within the string directly through indexing than the Python will not allow it.\n",
    "    This explaination can be prooved as follows :"
   ]
  },
  {
   "cell_type": "code",
   "execution_count": 5,
   "metadata": {},
   "outputs": [
    {
     "name": "stdout",
     "output_type": "stream",
     "text": [
      "The current value of the variable string is 'Burhan' and its memory location id is '1758629088816'.\n",
      "The new value of the variable string is 'Burhan Kapadia' and its memory location id is '1758630300080'.\n"
     ]
    }
   ],
   "source": [
    "string = 'Burhan'\n",
    "print(\"The current value of the variable string is '{}' and its memory location id is '{}'.\".format(string,id(string)))\n",
    "string += ' ' + 'Kapadia'\n",
    "print(\"The new value of the variable string is '{}' and its memory location id is '{}'.\".format(string,id(string)))"
   ]
  },
  {
   "cell_type": "markdown",
   "metadata": {},
   "source": [
    "    In the above code we observe after using '+=' operator the id number of old variable is different than the same variable which has been reassigned."
   ]
  },
  {
   "cell_type": "markdown",
   "metadata": {},
   "source": [
    "Q.3 : In Python, how many different ways are there to index a character?"
   ]
  },
  {
   "cell_type": "code",
   "execution_count": 12,
   "metadata": {},
   "outputs": [
    {
     "name": "stdout",
     "output_type": "stream",
     "text": [
      "r\n",
      "2\n",
      "2\n"
     ]
    }
   ],
   "source": [
    "# A.3 : (i) first way : through direct indexing :\n",
    "\n",
    "string = 'Burhan'\n",
    "print(string[2])\n",
    "\n",
    "# (ii) Second way : through in-built string method :\n",
    "\n",
    "string = 'Burhan'\n",
    "print(string.find('r'))\n",
    "print(string.index('r'))"
   ]
  },
  {
   "cell_type": "markdown",
   "metadata": {},
   "source": [
    "Q.4 : What is the relationship between indexing and slicing?"
   ]
  },
  {
   "cell_type": "markdown",
   "metadata": {},
   "source": [
    "A.4 : \n",
    "    \n",
    "    Slicing is a way of extracting a substring of the characters already present within the string.\n",
    "    Indexing is way of extracting a particular character within the string.\n",
    "    \n",
    "    The slicing operation uses a range of index values of the string to perform its task. While indexing only uses one particular index value.\n",
    "    \n",
    "    Both of them when used to perform string variable reassignment violates Python's string immutability nature."
   ]
  },
  {
   "cell_type": "markdown",
   "metadata": {},
   "source": [
    "Q.5 : What is an indexed character's exact data type? What is the data form of a slicing-generated substring?"
   ]
  },
  {
   "cell_type": "markdown",
   "metadata": {},
   "source": [
    "A.5 : \n",
    "       \n",
    "    Both indexed character's annd slicing generated substring is of string data-type as shown in the below code."
   ]
  },
  {
   "cell_type": "code",
   "execution_count": 17,
   "metadata": {},
   "outputs": [
    {
     "name": "stdout",
     "output_type": "stream",
     "text": [
      "<class 'str'>\n",
      "<class 'str'>\n"
     ]
    }
   ],
   "source": [
    "string = 'Burhan'\n",
    "print(type(string[0]))\n",
    "print(type(string[0:2]))"
   ]
  },
  {
   "cell_type": "markdown",
   "metadata": {},
   "source": [
    "Q.6 : What is the relationship between string and character \"types\" in Python?"
   ]
  },
  {
   "cell_type": "markdown",
   "metadata": {},
   "source": [
    "A.6 : \n",
    "\n",
    "    We don't have character data-type in Python, which implies there is no relationship that exists between string and character 'types' in Python."
   ]
  },
  {
   "cell_type": "markdown",
   "metadata": {},
   "source": [
    "Q.7 : Identify at least two operators and one method that allow you to combine one or more smaller strings to create a larger string."
   ]
  },
  {
   "cell_type": "code",
   "execution_count": 29,
   "metadata": {},
   "outputs": [
    {
     "name": "stdout",
     "output_type": "stream",
     "text": [
      "Burhan Kapadia\n",
      "Burhan Kapadia\n",
      "Burhan Burhan Burhan \n"
     ]
    }
   ],
   "source": [
    "# A.7 : (i) concatination operation :\n",
    "\n",
    "string1 = 'Burhan '\n",
    "string2 = 'Kapadia'\n",
    "string3 = string1 + string2\n",
    "print(string3)\n",
    "\n",
    "# (ii) join function :\n",
    "string4 = ''.join(string1 + string2)\n",
    "print(string4)\n",
    "\n",
    "# (iii) repetition operation :\n",
    "string5 = string1 * 3\n",
    "print(string5)"
   ]
  },
  {
   "cell_type": "markdown",
   "metadata": {},
   "source": [
    "Q.8 : What is the benefit of first checking the target string with in or not in before using the index method to find a substring?"
   ]
  },
  {
   "cell_type": "markdown",
   "metadata": {},
   "source": [
    "A.8 : \n",
    "\n",
    "    The benefit of first check a substring in a string with 'in' or 'not in' operator is that we can beforehand know weather a particular character is presnt in the string or not. It will either give us True or False. So we can later provide a condition if it is True than perform indexing."
   ]
  },
  {
   "cell_type": "code",
   "execution_count": 33,
   "metadata": {},
   "outputs": [
    {
     "name": "stdout",
     "output_type": "stream",
     "text": [
      "'Kur ' is not present in string 'Burhan'.\n"
     ]
    }
   ],
   "source": [
    "string = 'Burhan'\n",
    "if 'Kur' in string : \n",
    "    print(string.index('Kur'))\n",
    "else : \n",
    "    print(\"'Kur ' is not present in string 'Burhan'.\")"
   ]
  },
  {
   "cell_type": "markdown",
   "metadata": {},
   "source": [
    "    In the above code we provided the variable 'string' a value as 'Burhan' and then we gave a conditional statement to check weather 'K is present in the assigned string 'Burhan', this internally results Python to evaluate 'False' which results in no error and it goes into else statement and performs print command."
   ]
  },
  {
   "cell_type": "code",
   "execution_count": 34,
   "metadata": {},
   "outputs": [
    {
     "ename": "ValueError",
     "evalue": "substring not found",
     "output_type": "error",
     "traceback": [
      "\u001b[1;31m---------------------------------------------------------------------------\u001b[0m",
      "\u001b[1;31mValueError\u001b[0m                                Traceback (most recent call last)",
      "\u001b[1;32m<ipython-input-34-2f88b464644d>\u001b[0m in \u001b[0;36m<module>\u001b[1;34m\u001b[0m\n\u001b[0;32m      1\u001b[0m \u001b[0mstring\u001b[0m \u001b[1;33m=\u001b[0m \u001b[1;34m'Burhan'\u001b[0m\u001b[1;33m\u001b[0m\u001b[1;33m\u001b[0m\u001b[0m\n\u001b[1;32m----> 2\u001b[1;33m \u001b[0mprint\u001b[0m\u001b[1;33m(\u001b[0m\u001b[0mstring\u001b[0m\u001b[1;33m.\u001b[0m\u001b[0mindex\u001b[0m\u001b[1;33m(\u001b[0m\u001b[1;34m'Kur'\u001b[0m\u001b[1;33m)\u001b[0m\u001b[1;33m)\u001b[0m\u001b[1;33m\u001b[0m\u001b[1;33m\u001b[0m\u001b[0m\n\u001b[0m",
      "\u001b[1;31mValueError\u001b[0m: substring not found"
     ]
    }
   ],
   "source": [
    "string = 'Burhan'\n",
    "print(string.index('Kur'))"
   ]
  },
  {
   "cell_type": "markdown",
   "metadata": {},
   "source": [
    "    If we have not checked the availibility of the substring in the intended string it will results as shwon above."
   ]
  },
  {
   "cell_type": "markdown",
   "metadata": {},
   "source": [
    "Q.9 : Which operators and built-in string methods produce simple Boolean (true/false) results?"
   ]
  },
  {
   "cell_type": "markdown",
   "metadata": {},
   "source": [
    "A.9 : \n",
    "\n",
    "    1. Operators :\n",
    "       \n",
    "       '==', '>', '<', '>=', '<=', '!=' ,etc.\n",
    "    \n",
    "    2. built-in methods :\n",
    "       \n",
    "       isalpha(), isalnum(), islower(), isupper(), isascii(), isdigit(),etc."
   ]
  }
 ],
 "metadata": {
  "kernelspec": {
   "display_name": "Python 3",
   "language": "python",
   "name": "python3"
  },
  "language_info": {
   "codemirror_mode": {
    "name": "ipython",
    "version": 3
   },
   "file_extension": ".py",
   "mimetype": "text/x-python",
   "name": "python",
   "nbconvert_exporter": "python",
   "pygments_lexer": "ipython3",
   "version": "3.7.6"
  }
 },
 "nbformat": 4,
 "nbformat_minor": 4
}
