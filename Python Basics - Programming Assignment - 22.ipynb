{
 "cells": [
  {
   "cell_type": "markdown",
   "metadata": {},
   "source": [
    "# Programming Assignment - 22"
   ]
  },
  {
   "cell_type": "markdown",
   "metadata": {},
   "source": [
    "Q.1 : Create a function that takes three parameters where:\n",
    "\n",
    " x is the start of the range (inclusive).\n",
    "\n",
    " y is the end of the range (inclusive).\n",
    "\n",
    " n is the divisor to be checked against.\n",
    "\n",
    "Return an ordered list with numbers in the range that are divisible by the third parameter n.\n",
    "\n",
    "Return an empty list if there are no numbers that are divisible by n.\n",
    "\n",
    "Examples\n",
    "\n",
    "list_operation(1, 10, 3) ➞ [3, 6, 9]\n",
    "\n",
    "list_operation(7, 9, 2) ➞ [8]\n",
    "\n",
    "list_operation(15, 20, 7) ➞ []"
   ]
  },
  {
   "cell_type": "code",
   "execution_count": 3,
   "metadata": {},
   "outputs": [
    {
     "data": {
      "text/plain": [
       "[3, 6, 9]"
      ]
     },
     "execution_count": 3,
     "metadata": {},
     "output_type": "execute_result"
    }
   ],
   "source": [
    "def list_operation(start,end,divisor) :\n",
    "    lst = []\n",
    "    for i in range(start,(end + 1)) :\n",
    "        if i % divisor == 0 :\n",
    "            lst.append(i)\n",
    "    else :\n",
    "        return lst\n",
    "list_operation(1,10,3)"
   ]
  },
  {
   "cell_type": "code",
   "execution_count": 4,
   "metadata": {},
   "outputs": [
    {
     "data": {
      "text/plain": [
       "[]"
      ]
     },
     "execution_count": 4,
     "metadata": {},
     "output_type": "execute_result"
    }
   ],
   "source": [
    "list_operation(15,20,7)"
   ]
  },
  {
   "cell_type": "markdown",
   "metadata": {},
   "source": [
    "Q.2 : Create a function that takes in two lists and returns True if the second list follows the first list\n",
    "by one element, and False otherwise. In other words, determine if the second list is the first\n",
    "list shifted to the right by 1.\n",
    "\n",
    "Examples\n",
    "\n",
    "simon_says([1, 2], [5, 1]) ➞ True\n",
    "\n",
    "simon_says([1, 2], [5, 5]) ➞ False\n",
    "\n",
    "simon_says([1, 2, 3, 4, 5], [0, 1, 2, 3, 4]) ➞ True\n",
    "\n",
    "simon_says([1, 2, 3, 4, 5], [5, 5, 1, 2, 3]) ➞ False\n",
    "\n",
    "Notes\n",
    "\n",
    " Both input lists will be of the same length, and will have a minimum length of 2.\n",
    "\n",
    " The values of the 0-indexed element in the second list and the n-1th indexed element in the first list do not matter."
   ]
  },
  {
   "cell_type": "code",
   "execution_count": 16,
   "metadata": {},
   "outputs": [
    {
     "data": {
      "text/plain": [
       "True"
      ]
     },
     "execution_count": 16,
     "metadata": {},
     "output_type": "execute_result"
    }
   ],
   "source": [
    "# A.2 :\n",
    "\n",
    "def simon_says(lst1,lst2) :\n",
    "    lst3 = []\n",
    "    lst4 = []\n",
    "    if len(lst1) == len(lst2) and len(lst1) >= 2 and len(lst2) >= 2 :\n",
    "        for i in range(len(lst1)-1) :\n",
    "            lst3.append(lst1[i])\n",
    "            lst4.append(lst2[i+1])\n",
    "        if lst3 == lst4 :\n",
    "            return True\n",
    "        else :\n",
    "            return False\n",
    "    else :\n",
    "        return 'Invalid Input!'\n",
    "simon_says([1,2,3,4,5],[0,1,2,3,4])"
   ]
  },
  {
   "cell_type": "markdown",
   "metadata": {},
   "source": [
    "Q.3 : A group of friends have decided to start a secret society. The name will be the first letter of\n",
    "each of their names, sorted in alphabetical order.\n",
    "\n",
    "Create a function that takes in a list of names and returns the name of the secret society.\n",
    "\n",
    "Examples\n",
    "\n",
    "society_name([&quot;Adam&quot;, &quot;Sarah&quot;, &quot;Malcolm&quot;]) ➞ &quot;AMS&quot;\n",
    "\n",
    "society_name([&quot;Harry&quot;, &quot;Newt&quot;, &quot;Luna&quot;, &quot;Cho&quot;]) ➞ &quot;CHLN&quot;\n",
    "\n",
    "society_name([&quot;Phoebe&quot;, &quot;Chandler&quot;, &quot;Rachel&quot;, &quot;Ross&quot;, &quot;Monica&quot;, &quot;Joey&quot;])"
   ]
  },
  {
   "cell_type": "code",
   "execution_count": 30,
   "metadata": {},
   "outputs": [
    {
     "data": {
      "text/plain": [
       "'AMS'"
      ]
     },
     "execution_count": 30,
     "metadata": {},
     "output_type": "execute_result"
    }
   ],
   "source": [
    "# A.3 :\n",
    "\n",
    "def society_name(lst5) :\n",
    "    lst6 = []\n",
    "    for i in lst5 :\n",
    "        lst6.append(i[0])\n",
    "    lst6.sort()\n",
    "    string_1 = ''.join(lst6)\n",
    "    return string_1\n",
    "society_name(['Adam','Sarah','Malcolm'])"
   ]
  },
  {
   "cell_type": "markdown",
   "metadata": {},
   "source": [
    "Q.4 : An isogram is a word that has no duplicate letters. Create a function that takes a string and\n",
    "returns either True or False depending on whether or not it&#39;s an &quot;isogram&quot;.\n",
    "\n",
    "Examples\n",
    "\n",
    "is_isogram(&quot;Algorism&quot;) ➞ True\n",
    "\n",
    "is_isogram(&quot;PasSword&quot;) ➞ False\n",
    "#Not case sensitive.\n",
    "\n",
    "is_isogram(&quot;Consecutive&quot;) ➞ False\n",
    "\n",
    "Notes\n",
    "\n",
    " Ignore letter case (should not be case sensitive).\n",
    "\n",
    " All test cases contain valid one word strings."
   ]
  },
  {
   "cell_type": "code",
   "execution_count": 37,
   "metadata": {},
   "outputs": [
    {
     "data": {
      "text/plain": [
       "False"
      ]
     },
     "execution_count": 37,
     "metadata": {},
     "output_type": "execute_result"
    }
   ],
   "source": [
    "# A.4 :\n",
    "\n",
    "def is_isogram(string) :\n",
    "    string1 =string.lower()\n",
    "    if len(string) > 1 :\n",
    "        for i in range(len(string1)) :\n",
    "            if string1.count(string1[i]) > 1 :\n",
    "                return False\n",
    "        else :\n",
    "            return True\n",
    "    else :\n",
    "        return 'Should provide a atleast one word.'\n",
    "is_isogram('PasSword')"
   ]
  },
  {
   "cell_type": "markdown",
   "metadata": {},
   "source": [
    "Q.5 : Create a function that takes a string and returns True or False, depending on whether the\n",
    "characters are in order or not.\n",
    "\n",
    "Examples\n",
    "\n",
    "is_in_order(&quot;abc&quot;) ➞ True\n",
    "\n",
    "is_in_order(&quot;edabit&quot;) ➞ False\n",
    "\n",
    "is_in_order(&quot;123&quot;) ➞ True\n",
    "\n",
    "is_in_order(&quot;xyzz&quot;) ➞ True\n",
    "\n",
    "Notes\n",
    "\n",
    "You don&#39;t have to handle empty strings."
   ]
  },
  {
   "cell_type": "code",
   "execution_count": 63,
   "metadata": {},
   "outputs": [
    {
     "data": {
      "text/plain": [
       "True"
      ]
     },
     "execution_count": 63,
     "metadata": {},
     "output_type": "execute_result"
    }
   ],
   "source": [
    "# A.5 :\n",
    "\n",
    "def is_in_order(string3) :\n",
    "    lst20 = []\n",
    "    ascii_number = ord(string3[0])\n",
    "    for i in range(len(string3)) :\n",
    "        if ord(string3[i]) == ascii_number :\n",
    "            lst20.append(True)\n",
    "            ascii_number = ascii_number + 1\n",
    "        elif ord(string3[i]) == ascii_number - 1 :\n",
    "            lst20.append(True)\n",
    "        else : \n",
    "            lst20.append(False)\n",
    "    if False in lst20 :\n",
    "        return False\n",
    "    else :\n",
    "        return True\n",
    "is_in_order('aabbccc')"
   ]
  }
 ],
 "metadata": {
  "kernelspec": {
   "display_name": "Python 3",
   "language": "python",
   "name": "python3"
  },
  "language_info": {
   "codemirror_mode": {
    "name": "ipython",
    "version": 3
   },
   "file_extension": ".py",
   "mimetype": "text/x-python",
   "name": "python",
   "nbconvert_exporter": "python",
   "pygments_lexer": "ipython3",
   "version": "3.8.3"
  }
 },
 "nbformat": 4,
 "nbformat_minor": 4
}
