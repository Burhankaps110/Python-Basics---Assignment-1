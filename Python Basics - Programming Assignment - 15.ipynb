{
 "cells": [
  {
   "cell_type": "markdown",
   "metadata": {},
   "source": [
    "# Programming Assignment - 15 - Python Basics"
   ]
  },
  {
   "cell_type": "markdown",
   "metadata": {},
   "source": [
    "Q.1: Please write a program using generator to print the numbers which can be divisible by 5 and 7 between 0 and n in comma separated form while n is input by console.\n",
    "\n",
    "Example:\n",
    "\n",
    "If the following n is given as input to the program:\n",
    "\n",
    "100\n",
    "\n",
    "Then, the output of the program should be:\n",
    "\n",
    "0,35,70\n"
   ]
  },
  {
   "cell_type": "code",
   "execution_count": 3,
   "metadata": {},
   "outputs": [
    {
     "name": "stdout",
     "output_type": "stream",
     "text": [
      "Enter the limit for check : 100\n",
      "0,35,70\n"
     ]
    }
   ],
   "source": [
    "# A.1 :\n",
    "\n",
    "def gen_div_5_and_7() :\n",
    "    num = int(input(\"Enter the limit for check : \"))\n",
    "    for i in range(num + 1) :\n",
    "        if i % 5 == 0 and i % 7 == 0 :\n",
    "            yield i\n",
    "li = []\n",
    "for i in gen_div_5_and_7() :\n",
    "    li.append(str(i))\n",
    "print(','.join(li))"
   ]
  },
  {
   "cell_type": "raw",
   "metadata": {},
   "source": [
    "-------------------------------------------------------------------------------"
   ]
  },
  {
   "cell_type": "markdown",
   "metadata": {},
   "source": [
    "Q.2 : Please write a program using generator to print the even numbers between 0 and n in comma separated form while n is input by console.\n",
    "\n",
    "Example:\n",
    "\n",
    "If the following n is given as input to the program:\n",
    "\n",
    "10\n",
    "\n",
    "Then, the output of the program should be:\n",
    "\n",
    "0,2,4,6,8,10\n"
   ]
  },
  {
   "cell_type": "code",
   "execution_count": 7,
   "metadata": {},
   "outputs": [
    {
     "name": "stdout",
     "output_type": "stream",
     "text": [
      "Enter the limit for check : 10\n",
      "0,2,4,6,8,10\n"
     ]
    }
   ],
   "source": [
    "# A.2 :\n",
    "\n",
    "def even_number_div_10() :\n",
    "    num2 = int(input(\"Enter the limit for check : \"))\n",
    "    for i in range(num2 + 1) :\n",
    "        if i % 2 == 0 :\n",
    "            yield i\n",
    "li2 = []\n",
    "for i in even_number_div_10() :\n",
    "    li2.append(str(i))\n",
    "print(','.join(li2))"
   ]
  },
  {
   "cell_type": "raw",
   "metadata": {},
   "source": [
    "-------------------------------------------------------------------------------"
   ]
  },
  {
   "cell_type": "markdown",
   "metadata": {},
   "source": [
    "Q.3 :\n",
    "The Fibonacci Sequence is computed based on the following formula:\n",
    "\n",
    "f(n)=0 if n=0\n",
    "\n",
    "f(n)=1 if n=1\n",
    "\n",
    "f(n)=f(n-1)+f(n-2) if n>1\n",
    "\n",
    "Please write a program using list comprehension to print the Fibonacci Sequence in comma separated form with a given n input by console.\n",
    "\n",
    "Example:\n",
    "\n",
    "If the following n is given as input to the program:\n",
    "\n",
    "7\n",
    "\n",
    "Then, the output of the program should be:\n",
    "\n",
    "0,1,1,2,3,5,8,13\n"
   ]
  },
  {
   "cell_type": "code",
   "execution_count": 4,
   "metadata": {},
   "outputs": [
    {
     "name": "stdout",
     "output_type": "stream",
     "text": [
      "Enter the limit for the fibonacci series : 10\n",
      "0,1,1,2,3,5,8,13,21,34,55\n"
     ]
    }
   ],
   "source": [
    "# A.3 :\n",
    "\n",
    "num = int(input(\"Enter the limit for the fibonacci series : \"))\n",
    "li = [0, 1]\n",
    "li2 = [li.append(li[-2] + li[-1]) for i in range(num-1)]\n",
    "li3 = []\n",
    "for i in li :\n",
    "    li3.append(str(i))\n",
    "print(','.join(li3))"
   ]
  },
  {
   "cell_type": "raw",
   "metadata": {},
   "source": [
    "-------------------------------------------------------------------------------"
   ]
  },
  {
   "cell_type": "markdown",
   "metadata": {},
   "source": [
    "Q.4 : Assuming that we have some email addresses in the \"username@companyname.com\" format, please write program to print the user name of a given email address. Both user names and company names are composed of letters only.\n",
    "\n",
    "Example:\n",
    "\n",
    "If the following email address is given as input to the program:\n",
    "\n",
    "john@google.com\n",
    "\n",
    "Then, the output of the program should be:\n",
    "\n",
    "john"
   ]
  },
  {
   "cell_type": "code",
   "execution_count": 18,
   "metadata": {},
   "outputs": [
    {
     "name": "stdout",
     "output_type": "stream",
     "text": [
      "Enter an email id : john@google.com\n",
      "john\n"
     ]
    }
   ],
   "source": [
    "# A.4 : \n",
    "\n",
    "emailid = input(\"Enter an email id : \")\n",
    "username = ''\n",
    "for i in emailid :\n",
    "    if i == '@' :\n",
    "        break\n",
    "    else :\n",
    "        username = username + i\n",
    "print(username)"
   ]
  },
  {
   "cell_type": "raw",
   "metadata": {},
   "source": [
    "-------------------------------------------------------------------------------"
   ]
  },
  {
   "cell_type": "markdown",
   "metadata": {},
   "source": [
    "Q.5 : Define a class named Shape and its subclass Square. The Square class has an init function which takes a length as argument. Both classes have a area function which can print the area of the shape where Shape's area is 0 by default."
   ]
  },
  {
   "cell_type": "code",
   "execution_count": 25,
   "metadata": {},
   "outputs": [
    {
     "name": "stdout",
     "output_type": "stream",
     "text": [
      "The area for 'Square' subclass is : 100\n",
      "The area for 'Shape' class is : 0\n"
     ]
    }
   ],
   "source": [
    "# A.5 :\n",
    "\n",
    "class Shape :\n",
    "    \n",
    "    def area(self,area = 0) :\n",
    "        return area\n",
    "\n",
    "class Square(Shape) :\n",
    "    \n",
    "    def __init__(self, length) :\n",
    "        self.length = length\n",
    "    \n",
    "    def area(self) :\n",
    "        area = self.length ** 2\n",
    "        return area\n",
    "\n",
    "obj = Square(10)\n",
    "print(\"The area for 'Square' subclass is :\",obj.area())\n",
    "obj2 = Shape()\n",
    "print(\"The area for 'Shape' class is :\",obj2.area())"
   ]
  }
 ],
 "metadata": {
  "kernelspec": {
   "display_name": "Python 3",
   "language": "python",
   "name": "python3"
  },
  "language_info": {
   "codemirror_mode": {
    "name": "ipython",
    "version": 3
   },
   "file_extension": ".py",
   "mimetype": "text/x-python",
   "name": "python",
   "nbconvert_exporter": "python",
   "pygments_lexer": "ipython3",
   "version": "3.7.6"
  }
 },
 "nbformat": 4,
 "nbformat_minor": 4
}
