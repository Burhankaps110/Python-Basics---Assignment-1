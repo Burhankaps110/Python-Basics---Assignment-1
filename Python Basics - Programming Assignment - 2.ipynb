{
 "cells": [
  {
   "cell_type": "markdown",
   "metadata": {},
   "source": [
    "# Programming Assignment - 2 "
   ]
  },
  {
   "cell_type": "markdown",
   "metadata": {},
   "source": [
    "Q.1 : Write a Python programming to convert kilometers to miles?"
   ]
  },
  {
   "cell_type": "code",
   "execution_count": 3,
   "metadata": {},
   "outputs": [
    {
     "name": "stdout",
     "output_type": "stream",
     "text": [
      "Enter the desired kilometer : 22.1\n",
      "\n",
      "The equivalent conversion of kilometer to miles is : 13.732277\n"
     ]
    }
   ],
   "source": [
    "# A.1 :\n",
    "\n",
    "kilo_meter = float(input(\"Enter the desired kilometer : \"))\n",
    "miles = kilo_meter * 0.62137\n",
    "print(\"\\nThe equivalent conversion of kilometer to miles is :\",miles)"
   ]
  },
  {
   "cell_type": "markdown",
   "metadata": {},
   "source": [
    "Q.2 : Write a Python program to convert Celsius to Fahrenheit?"
   ]
  },
  {
   "cell_type": "code",
   "execution_count": 4,
   "metadata": {},
   "outputs": [
    {
     "name": "stdout",
     "output_type": "stream",
     "text": [
      "Enter the temperature in Celcius : 323\n",
      "\n",
      "The equivalent conversion of Celcius to Fahrenheit is : 613.4\n"
     ]
    }
   ],
   "source": [
    "# A.2 :\n",
    "\n",
    "Celcius = float(input(\"Enter the temperature in Celcius : \"))\n",
    "Fahrenheit = (Celcius * (9/5)) + 32\n",
    "print(\"\\nThe equivalent conversion of Celcius to Fahrenheit is :\",Fahrenheit)"
   ]
  },
  {
   "cell_type": "markdown",
   "metadata": {},
   "source": [
    "Q.3 : Write a Python program to display calendar?"
   ]
  },
  {
   "cell_type": "code",
   "execution_count": 13,
   "metadata": {},
   "outputs": [
    {
     "name": "stdout",
     "output_type": "stream",
     "text": [
      "Input the number of days in the month (28-31): 30\n",
      "Input the starting day (Su=Sun, Mo=Mon,...): Mo\n",
      "Su Mo Tu We Th Fr Sa\n",
      "   1  2  3  4  5  6  \n",
      " 7  8  9 10 11 12 13  \n",
      "14 15 16 17 18 19 20  \n",
      "21 22 23 24 25 26 27  \n",
      "28 29 30 "
     ]
    }
   ],
   "source": [
    "# A.3 :\n",
    "\n",
    "n = int(input(\"Input the number of days in the month (28-31): \"))\n",
    "s = input(\"Input the starting day (Su=Sun, Mo=Mon,...): \")\n",
    "if s == \"Su\":\n",
    "    d = 0\n",
    "elif s == \"Mo\":\n",
    "    d = 1\n",
    "elif s == \"Tu\":\n",
    "    d = 2\n",
    "elif s == \"We\":\n",
    "    d = 3\n",
    "elif s == \"Th\":\n",
    "    d = 4\n",
    "elif s == \"Fr\":\n",
    "    d = 5\n",
    "elif s == \"Sa\":\n",
    "    d = 6\n",
    " \n",
    "print (\"Su Mo Tu We Th Fr Sa\")\n",
    "for j in range(d):\n",
    "    print (\" \", end = \" \"),\n",
    "i = 1\n",
    "while i <= n:\n",
    "    if i < 10:\n",
    "        print (\"\",i,end=\" \"),\n",
    "    else:\n",
    "        print(i,end=\" \"),\n",
    "    if(i + d) % 7 == 0:\n",
    "        print (\" \")\n",
    "    i = i + 1"
   ]
  },
  {
   "cell_type": "markdown",
   "metadata": {},
   "source": [
    "Q.4 : Write a Python program to solve quadratic equation?"
   ]
  },
  {
   "cell_type": "code",
   "execution_count": 7,
   "metadata": {},
   "outputs": [
    {
     "name": "stdout",
     "output_type": "stream",
     "text": [
      "Enter the coefficient of x^2 : 4\n",
      "Enter the coefficient of x : 12\n",
      "Enter the constant of the equation : 3\n",
      "\n",
      "The first root is : -0.27525512860841106 \n",
      "\n",
      "The second root is : -2.724744871391589\n"
     ]
    }
   ],
   "source": [
    "# A.4 :\n",
    "\n",
    "a = float(input(\"Enter the coefficient of x^2 : \"))\n",
    "b = float(input(\"Enter the coefficient of x : \"))\n",
    "c = float(input(\"Enter the constant of the equation : \"))\n",
    "\n",
    "x1 = ((-b) + ((b*b)-(4*a*c))**(0.5)) / (2*a)\n",
    "x2 = ((-b) - ((b*b)-(4*a*c))**(0.5)) / (2*a)\n",
    "print(\"\\nThe first root is :\",x1,'\\n')\n",
    "print(\"The second root is :\",x2)"
   ]
  },
  {
   "cell_type": "markdown",
   "metadata": {},
   "source": [
    "Q.5 : Write a Python program to swap two variables without temp variable?"
   ]
  },
  {
   "cell_type": "code",
   "execution_count": 6,
   "metadata": {},
   "outputs": [
    {
     "name": "stdout",
     "output_type": "stream",
     "text": [
      "Enter 1st number of your choice : 33.56\n",
      "Enter 2nd number of your choice : 12.33\n",
      "\n",
      "1st number after swap is : 12.33 \n",
      "\n",
      "2nd number after swap is : 33.56\n"
     ]
    }
   ],
   "source": [
    "# A.5 :\n",
    "\n",
    "number_1 = float(input(\"Enter 1st number of your choice : \"))\n",
    "number_2 = float(input(\"Enter 2nd number of your choice : \"))\n",
    "\n",
    "number_1,number_2 = number_2,number_1\n",
    "print(\"\\n1st number after swap is :\",number_1,'\\n')\n",
    "print(\"2nd number after swap is :\", number_2)"
   ]
  }
 ],
 "metadata": {
  "kernelspec": {
   "display_name": "Python 3",
   "language": "python",
   "name": "python3"
  },
  "language_info": {
   "codemirror_mode": {
    "name": "ipython",
    "version": 3
   },
   "file_extension": ".py",
   "mimetype": "text/x-python",
   "name": "python",
   "nbconvert_exporter": "python",
   "pygments_lexer": "ipython3",
   "version": "3.8.3"
  }
 },
 "nbformat": 4,
 "nbformat_minor": 4
}
