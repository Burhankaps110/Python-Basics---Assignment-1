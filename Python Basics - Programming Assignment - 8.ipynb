{
 "cells": [
  {
   "cell_type": "markdown",
   "metadata": {},
   "source": [
    "# Programming Assignment - 8"
   ]
  },
  {
   "cell_type": "markdown",
   "metadata": {},
   "source": [
    "Q.1 : Write a Python Program to Add Two Matrices."
   ]
  },
  {
   "cell_type": "code",
   "execution_count": 11,
   "metadata": {},
   "outputs": [
    {
     "name": "stdout",
     "output_type": "stream",
     "text": [
      "The matrix addition of 1st matrix and 2nd matrix is :\n",
      " [[4, 6, 8], [19, 41, 11], [104, 107, 27]]\n"
     ]
    }
   ],
   "source": [
    "# A.1 :\n",
    "\n",
    "A = [[3,4,5],[9,8,7],[6,5,4]]\n",
    "B = [[1,2,3],[10,33,4],[98,102,23]]\n",
    "D = []\n",
    "for i in range(len(A)) :\n",
    "    C = []\n",
    "    for j in range(len(B)) :\n",
    "        sum = 0\n",
    "        sum = sum + A[i][j] + B[i][j]\n",
    "        C.append(sum)\n",
    "    D.append(C)\n",
    "print('The matrix addition of 1st matrix and 2nd matrix is :\\n',D)"
   ]
  },
  {
   "cell_type": "markdown",
   "metadata": {},
   "source": [
    "Q.2 : Write a Python Program to Multiply Two Matrices."
   ]
  },
  {
   "cell_type": "code",
   "execution_count": 4,
   "metadata": {},
   "outputs": [
    {
     "name": "stdout",
     "output_type": "stream",
     "text": [
      "[[26, 182, 817], [46, 382, 1859], [28, 241, 1190]]\n"
     ]
    }
   ],
   "source": [
    "# A.2 :\n",
    "\n",
    "A = [[3,4,5],[9,8,7],[6,5,4]]\n",
    "B = [[1,2,3],[10,33,4],[98,102,23]]\n",
    "\n",
    "prod = [[0,0,0],[0,0,0],[0,0,0]]\n",
    "\n",
    "for i in range(len(A)) :\n",
    "    for j in range(len(B)) :\n",
    "        for k in range(len(B)) :\n",
    "            prod[i][j] += A[i][k] * B[j][k]\n",
    "            \n",
    "print(prod)"
   ]
  },
  {
   "cell_type": "code",
   "execution_count": null,
   "metadata": {},
   "outputs": [],
   "source": []
  },
  {
   "cell_type": "markdown",
   "metadata": {},
   "source": [
    "Q.3 : Write a Python Program to Transpose a Matrix."
   ]
  },
  {
   "cell_type": "code",
   "execution_count": 22,
   "metadata": {},
   "outputs": [
    {
     "name": "stdout",
     "output_type": "stream",
     "text": [
      "The transpose of matrix [[3, 4, 5], [9, 8, 7], [6, 5, 4]] is : \n",
      "[[3, 9, 6], [4, 8, 5], [5, 7, 4]].\n"
     ]
    }
   ],
   "source": [
    "# A.3 :\n",
    "\n",
    "import copy\n",
    "A = [[3,4,5],[9,8,7],[6,5,4]]\n",
    "E = copy.deepcopy(A)\n",
    "G = []\n",
    "for i in range(len(A)) :\n",
    "    F = []\n",
    "    for j in range(len(A)) :\n",
    "        E[i][j] = A[j][i]\n",
    "        F.append(E[i][j])\n",
    "    G.append(F)\n",
    "print('The transpose of matrix {} is : \\n{}.'.format(A,G))"
   ]
  },
  {
   "cell_type": "markdown",
   "metadata": {},
   "source": [
    "Q.4 : Write a Python Program to Sort Words in Alphabetic Order."
   ]
  },
  {
   "cell_type": "code",
   "execution_count": 38,
   "metadata": {},
   "outputs": [
    {
     "data": {
      "text/plain": [
       "['Burhan', 'Burobby', 'Data', 'Learn', 'Science']"
      ]
     },
     "execution_count": 38,
     "metadata": {},
     "output_type": "execute_result"
    }
   ],
   "source": [
    "words = ['Burhan','Burobby','Data','Science','Learn']\n",
    "words.sort()\n",
    "words"
   ]
  },
  {
   "cell_type": "markdown",
   "metadata": {},
   "source": [
    "Q.5 : Write a Python Program to Remove Punctuation From a String?"
   ]
  },
  {
   "cell_type": "code",
   "execution_count": 32,
   "metadata": {},
   "outputs": [
    {
     "name": "stdout",
     "output_type": "stream",
     "text": [
      "Enter a text : The white swamphen (Porphyrio albus) was a rail found on Lord Howe Island, east of the Australian mainland. All contemporary accounts and illustrations were produced between 1788 and 1790, when the bird was first encountered by British ship crews. Today, two specimens exist: one in World Museum (pictured) in Liverpool, England, and the holotype in the Natural History Museum of Vienna. It is thought to have been most similar to the Australasian swamphen. The white swamphen was 36 to 55 cm (14 to 22 in) long. Contemporary accounts indicate that individual bird plumage was white, blue, or mixed blue-and-white. The bird's bill, frontal shield and legs were red, and it had a claw (or spur) on its wing. It was probably either flightless or a poor flier; this and its docility made the bird easy prey for visiting humans, who killed it with sticks. Reportedly once common, the species may have been hunted to extinction before 1834, when Lord Howe Island was settled.\n",
      "\n",
      "The text without punctuation is now as follows :\n",
      " The white swamphen Porphyrio albus was a rail found on Lord Howe Island east of the Australian mainland All contemporary accounts and illustrations were produced between 1788 and 1790 when the bird was first encountered by British ship crews Today two specimens exist one in World Museum pictured in Liverpool England and the holotype in the Natural History Museum of Vienna It is thought to have been most similar to the Australasian swamphen The white swamphen was 36 to 55 cm 14 to 22 in long Contemporary accounts indicate that individual bird plumage was white blue or mixed blueandwhite The birds bill frontal shield and legs were red and it had a claw or spur on its wing It was probably either flightless or a poor flier this and its docility made the bird easy prey for visiting humans who killed it with sticks Reportedly once common the species may have been hunted to extinction before 1834 when Lord Howe Island was settled\n"
     ]
    }
   ],
   "source": [
    "# A.5 :\n",
    "\n",
    "s = input(\"Enter a text : \")\n",
    "K = []\n",
    "K.extend(s)\n",
    "i = 0\n",
    "while i < len(K) :\n",
    "    if K[i] == '.' or K[i] == ',' or K[i] == '?' or K[i] == ':' or K[i] == ';' or K[i] == '!' or K[i] == \"'\" or K[i] == '('or K[i] == ')' or K[i] == '{'or K[i] == '}'or K[i] == '{'or K[i] == '}' or K[i] == '\"'or K[i] == '\"' or K[i] == '-' or K[i] == '_' or K[i] == '/' or K[i] == '@' or K[i] == '*' :\n",
    "        K.pop(i)\n",
    "        continue\n",
    "    i += 1\n",
    "string = ''.join(K)\n",
    "print('\\nThe text without punctuation is now as follows :\\n',string)"
   ]
  }
 ],
 "metadata": {
  "kernelspec": {
   "display_name": "Python 3",
   "language": "python",
   "name": "python3"
  },
  "language_info": {
   "codemirror_mode": {
    "name": "ipython",
    "version": 3
   },
   "file_extension": ".py",
   "mimetype": "text/x-python",
   "name": "python",
   "nbconvert_exporter": "python",
   "pygments_lexer": "ipython3",
   "version": "3.8.3"
  }
 },
 "nbformat": 4,
 "nbformat_minor": 4
}
