{
 "cells": [
  {
   "cell_type": "markdown",
   "metadata": {},
   "source": [
    "# Assignment - 9"
   ]
  },
  {
   "cell_type": "markdown",
   "metadata": {},
   "source": [
    "Q.1 : To what does a relative path refer?"
   ]
  },
  {
   "cell_type": "markdown",
   "metadata": {},
   "source": [
    "A.1 : \n",
    "      \n",
    "    relative path is any file name such as '.pdf', '.txt', '.csv' which we are trying to open to read or write from the default directory or current working directory."
   ]
  },
  {
   "cell_type": "code",
   "execution_count": 1,
   "metadata": {},
   "outputs": [
    {
     "data": {
      "text/plain": [
       "'F:\\\\I-neuron data science course\\\\Python Basics\\\\Python Assisgnments solutions'"
      ]
     },
     "execution_count": 1,
     "metadata": {},
     "output_type": "execute_result"
    }
   ],
   "source": [
    "pwd()"
   ]
  },
  {
   "cell_type": "code",
   "execution_count": 6,
   "metadata": {},
   "outputs": [
    {
     "data": {
      "text/plain": [
       "'My name is Burhanuddin Kapadia.'"
      ]
     },
     "execution_count": 6,
     "metadata": {},
     "output_type": "execute_result"
    }
   ],
   "source": [
    "file = open('text1.txt','r+')\n",
    "file.write('My name is Burhanuddin Kapadia.')\n",
    "file.seek(0)\n",
    "file.read()"
   ]
  },
  {
   "cell_type": "code",
   "execution_count": 7,
   "metadata": {},
   "outputs": [
    {
     "data": {
      "text/plain": [
       "True"
      ]
     },
     "execution_count": 7,
     "metadata": {},
     "output_type": "execute_result"
    }
   ],
   "source": [
    "import os\n",
    "os.path.exists('F:\\\\I-neuron data science course\\\\Python Basics\\\\Python Assisgnments solutions\\\\text1.txt')"
   ]
  },
  {
   "cell_type": "markdown",
   "metadata": {},
   "source": [
    "Q.2 : What does an absolute path start with your operating system?"
   ]
  },
  {
   "cell_type": "markdown",
   "metadata": {},
   "source": [
    "A.2 : \n",
    "\n",
    "    In any operating system the absolute path starts with the home directory. My home directory is : 'C:\\Users\\HP'"
   ]
  },
  {
   "cell_type": "markdown",
   "metadata": {},
   "source": [
    "Q.3 : What do the functions os.getcwd() and os.chdir() do?"
   ]
  },
  {
   "cell_type": "markdown",
   "metadata": {},
   "source": [
    "A.3 : \n",
    "\n",
    "    (i) The os.getcwd() within the 'os' module shows the current working directory.\n",
    "    (ii) The os.chdir() within the 'os' module changes the current directory to a new directory and that becomes the current directory."
   ]
  },
  {
   "cell_type": "code",
   "execution_count": 8,
   "metadata": {},
   "outputs": [
    {
     "data": {
      "text/plain": [
       "'F:\\\\I-neuron data science course\\\\Python Basics\\\\Python Assisgnments solutions'"
      ]
     },
     "execution_count": 8,
     "metadata": {},
     "output_type": "execute_result"
    }
   ],
   "source": [
    "import os\n",
    "os.getcwd()"
   ]
  },
  {
   "cell_type": "code",
   "execution_count": 10,
   "metadata": {},
   "outputs": [],
   "source": [
    "os.chdir('C:\\\\Users\\\\HP')"
   ]
  },
  {
   "cell_type": "code",
   "execution_count": 11,
   "metadata": {},
   "outputs": [
    {
     "data": {
      "text/plain": [
       "'C:\\\\Users\\\\HP'"
      ]
     },
     "execution_count": 11,
     "metadata": {},
     "output_type": "execute_result"
    }
   ],
   "source": [
    "pwd()"
   ]
  },
  {
   "cell_type": "markdown",
   "metadata": {},
   "source": [
    "Q.4 : What are the . and .. folders?"
   ]
  },
  {
   "cell_type": "markdown",
   "metadata": {},
   "source": [
    "A.4 : \n",
    "     \n",
    "    (i) '.' is the current working folder.\n",
    "    (ii) '..' is the parent folder to the current working folder."
   ]
  },
  {
   "cell_type": "markdown",
   "metadata": {},
   "source": [
    "Q.5 : In 'C:\\bacon\\eggs\\spam.txt', which part is the dir name, and which part is the base name?"
   ]
  },
  {
   "cell_type": "markdown",
   "metadata": {},
   "source": [
    "A.5 : \n",
    "    \n",
    "    (i) The base name in 'C:\\bacon\\eggs\\spam.txt' is 'spam.txt'.\n",
    "    (ii) The directory name in 'C:\\bacon\\eggs\\spam.txt' is 'eggs'."
   ]
  },
  {
   "cell_type": "markdown",
   "metadata": {},
   "source": [
    "Q.6 : What are the three “mode” arguments that can be passed to the open() function?"
   ]
  },
  {
   "cell_type": "markdown",
   "metadata": {},
   "source": [
    "A.6 : \n",
    "    \n",
    "    We can pass three modes to the open() function : \n",
    "        (i) 'r' : It is a default mode that (means if we don't write any mode after the file name it will by default consider this mode) opens for reading.\n",
    "        (ii) 'w' : open for writing, truncating the file first.\n",
    "        (iii) 'x' : create a new file and open it for writing."
   ]
  },
  {
   "cell_type": "markdown",
   "metadata": {},
   "source": [
    "Q.7 : What happens if an existing file is opened in write mode?"
   ]
  },
  {
   "cell_type": "markdown",
   "metadata": {},
   "source": [
    "A.7 : \n",
    "    \n",
    "    If an existing file like a '.txt' file is open in write mode it will first delete all the information which already there in it and the cursor will start from the very starting of the file to write anything again."
   ]
  },
  {
   "cell_type": "markdown",
   "metadata": {},
   "source": [
    "Q.8 : How do you tell the difference between read() and readlines()?"
   ]
  },
  {
   "cell_type": "markdown",
   "metadata": {},
   "source": [
    "A.8 :\n",
    "\n",
    "     (i) read() : This command will read all the data present within the text file or from whereever the cursor currently is present within the file till the end of the file.\n",
    "     (ii) readlines() : This command will return all the lines within the file in the form of list, where each element of the list is a particular line within the file.\n",
    "     The read() command will return string type.\n",
    "     The readlines() command will return list type."
   ]
  },
  {
   "cell_type": "code",
   "execution_count": 5,
   "metadata": {},
   "outputs": [
    {
     "name": "stdout",
     "output_type": "stream",
     "text": [
      "My name is Burhanuddin Kapadia.\n",
      "I am pursuing data science course.\n",
      "['My name is Burhanuddin Kapadia.\\n', 'I am pursuing data science course.']\n",
      "<class 'str'>\n",
      "<class 'list'>\n"
     ]
    }
   ],
   "source": [
    "file = open('text2.txt','w+')\n",
    "file.write('My name is Burhanuddin Kapadia.\\nI am pursuing data science course.')\n",
    "file.seek(0)\n",
    "r = file.read()\n",
    "file.seek(0)\n",
    "r2 = file.readlines()\n",
    "print(r)\n",
    "print(r2)\n",
    "print(type(r))\n",
    "print(type(r2))"
   ]
  },
  {
   "cell_type": "markdown",
   "metadata": {},
   "source": [
    "Q.9 : What data structure does a shelf value resemble?"
   ]
  },
  {
   "cell_type": "markdown",
   "metadata": {},
   "source": [
    "A.9 : A self value resemebles a dictionary type as a data structure."
   ]
  }
 ],
 "metadata": {
  "kernelspec": {
   "display_name": "Python 3",
   "language": "python",
   "name": "python3"
  },
  "language_info": {
   "codemirror_mode": {
    "name": "ipython",
    "version": 3
   },
   "file_extension": ".py",
   "mimetype": "text/x-python",
   "name": "python",
   "nbconvert_exporter": "python",
   "pygments_lexer": "ipython3",
   "version": "3.8.3"
  }
 },
 "nbformat": 4,
 "nbformat_minor": 4
}
