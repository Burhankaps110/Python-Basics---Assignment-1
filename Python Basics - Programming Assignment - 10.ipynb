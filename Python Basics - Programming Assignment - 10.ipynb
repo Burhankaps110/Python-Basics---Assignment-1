{
 "cells": [
  {
   "cell_type": "markdown",
   "metadata": {},
   "source": [
    "# Programming Assignment - 10"
   ]
  },
  {
   "cell_type": "markdown",
   "metadata": {},
   "source": [
    "Q.1 : Write a Python program to find sum of elements in list?"
   ]
  },
  {
   "cell_type": "code",
   "execution_count": 21,
   "metadata": {
    "scrolled": true
   },
   "outputs": [
    {
     "name": "stdout",
     "output_type": "stream",
     "text": [
      "Enter the number of elements to be there in the list : 7\n",
      "Enter the element in the list at index 0 : 1\n",
      "Enter the element in the list at index 1 : 2\n",
      "Enter the element in the list at index 2 : 3\n",
      "Enter the element in the list at index 3 : 4\n",
      "Enter the element in the list at index 4 : 5\n",
      "Enter the element in the list at index 5 : 6\n",
      "Enter the element in the list at index 6 : 7\n",
      "The sum of elements in the list1 is 28\n"
     ]
    }
   ],
   "source": [
    "# A.1 :\n",
    "\n",
    "n = int(input(\"Enter the number of elements to be there in the list : \"))\n",
    "list1 = list()\n",
    "for j in range(0,n) :\n",
    "    k = int(input(\"Enter the element in the list at index {} : \".format(j)))\n",
    "    list1.append(k)\n",
    "summation = 0\n",
    "for i in list1 :\n",
    "    summation = summation + i\n",
    "print(\"The sum of elements in the list1 is {}\".format(summation))"
   ]
  },
  {
   "cell_type": "markdown",
   "metadata": {},
   "source": [
    "Q.2 : Write a Python program to multiply all numbers in the list?"
   ]
  },
  {
   "cell_type": "code",
   "execution_count": 22,
   "metadata": {},
   "outputs": [
    {
     "name": "stdout",
     "output_type": "stream",
     "text": [
      "Enter the length of the list : 7\n",
      "Enter the element in the list at index 0 : 1\n",
      "Enter the element in the list at index 1 : 2\n",
      "Enter the element in the list at index 2 : 3\n",
      "Enter the element in the list at index 3 : 4\n",
      "Enter the element in the list at index 4 : 5\n",
      "Enter the element in the list at index 5 : 6\n",
      "Enter the element in the list at index 6 : 7\n",
      "The product of elements in the list2 is 5040\n"
     ]
    }
   ],
   "source": [
    "# A.2 :\n",
    "\n",
    "length = int(input(\"Enter the length of the list : \"))\n",
    "list2 = list()\n",
    "for j in range(0,length) :\n",
    "    k = int(input(\"Enter the element in the list at index {} : \".format(j)))\n",
    "    list2.append(k)\n",
    "multiply = 1\n",
    "for i in list2 :\n",
    "    multiply = multiply * i\n",
    "print(\"The product of elements in the list2 is {}\".format(multiply))"
   ]
  },
  {
   "cell_type": "markdown",
   "metadata": {},
   "source": [
    "Q.3 : Write a Python program to find smallest number in the list?"
   ]
  },
  {
   "cell_type": "code",
   "execution_count": 20,
   "metadata": {
    "scrolled": true
   },
   "outputs": [
    {
     "name": "stdout",
     "output_type": "stream",
     "text": [
      "Enter the length of the list : 7\n",
      "Enter the element in the list at index 0 : 54\n",
      "Enter the element in the list at index 1 : 23\n",
      "Enter the element in the list at index 2 : 12\n",
      "Enter the element in the list at index 3 : 89\n",
      "Enter the element in the list at index 4 : 3\n",
      "Enter the element in the list at index 5 : 74\n",
      "Enter the element in the list at index 6 : 66\n",
      "The smallest number in the list3 is 3\n"
     ]
    }
   ],
   "source": [
    "# A.3 :\n",
    "\n",
    "element_index = int(input(\"Enter the length of the list : \"))\n",
    "list3 = list()\n",
    "for j in range(0,element_index) :\n",
    "    k = int(input(\"Enter the element in the list at index {} : \".format(j)))\n",
    "    list3.append(k)\n",
    "smallest_value = min(list3)\n",
    "print(\"The smallest number in the list3 is {}\".format(smallest_value))"
   ]
  },
  {
   "cell_type": "markdown",
   "metadata": {},
   "source": [
    "Q.4 : Write a Python program to find largest number in the list?"
   ]
  },
  {
   "cell_type": "code",
   "execution_count": 23,
   "metadata": {},
   "outputs": [
    {
     "name": "stdout",
     "output_type": "stream",
     "text": [
      "Enter the length of the list : 7\n",
      "Enter the element in the list at index 0 : 54\n",
      "Enter the element in the list at index 1 : 23\n",
      "Enter the element in the list at index 2 : 12\n",
      "Enter the element in the list at index 3 : 89\n",
      "Enter the element in the list at index 4 : 3\n",
      "Enter the element in the list at index 5 : 74\n",
      "Enter the element in the list at index 6 : 66\n",
      "The largest number in the list4 is 89\n"
     ]
    }
   ],
   "source": [
    "# A.4 :\n",
    "\n",
    "indices = int(input(\"Enter the length of the list : \"))\n",
    "list4 = list()\n",
    "for j in range(0,indices) :\n",
    "    k = int(input(\"Enter the element in the list at index {} : \".format(j)))\n",
    "    list4.append(k)\n",
    "largest_value = max(list4)\n",
    "print(\"The largest number in the list4 is {}\".format(largest_value))"
   ]
  },
  {
   "cell_type": "markdown",
   "metadata": {},
   "source": [
    "Q.5 : Write a Python program to find second largest number in a list?"
   ]
  },
  {
   "cell_type": "code",
   "execution_count": 1,
   "metadata": {
    "scrolled": false
   },
   "outputs": [
    {
     "name": "stdout",
     "output_type": "stream",
     "text": [
      "Enter the length of the list : 7\n",
      "Enter the element in the list at index 0 : 54\n",
      "Enter the element in the list at index 1 : 101\n",
      "Enter the element in the list at index 2 : -101\n",
      "Enter the element in the list at index 3 : 101\n",
      "Enter the element in the list at index 4 : 98\n",
      "Enter the element in the list at index 5 : 56\n",
      "Enter the element in the list at index 6 : 62\n",
      "The second largest number in the list5 is 98.\n"
     ]
    }
   ],
   "source": [
    "# A.5 :\n",
    "\n",
    "limit = int(input(\"Enter the length of the list : \"))\n",
    "list5 = []\n",
    "for j in range(0,limit) :\n",
    "    k = int(input(\"Enter the element in the list at index {} : \".format(j)))\n",
    "    list5.append(k)\n",
    "copy_list = []\n",
    "for i in list5 :\n",
    "    if i not in copy_list :\n",
    "        copy_list.append(i)\n",
    "copy_list.sort(reverse = True)\n",
    "copy_list.remove(max(copy_list))\n",
    "second_largest = max(copy_list)\n",
    "print(\"The second largest number in the list5 is {}.\".format(second_largest))"
   ]
  },
  {
   "cell_type": "markdown",
   "metadata": {},
   "source": [
    "Q.6 : Write a Python program to find N largest number from a list?"
   ]
  },
  {
   "cell_type": "code",
   "execution_count": 24,
   "metadata": {
    "scrolled": true
   },
   "outputs": [
    {
     "name": "stdout",
     "output_type": "stream",
     "text": [
      "Which largest element required? 4\n",
      "Enter the length of the list : 6\n",
      "Enter the element in the list at index 0 : -3\n",
      "Enter the element in the list at index 1 : 7\n",
      "Enter the element in the list at index 2 : 22\n",
      "Enter the element in the list at index 3 : 5\n",
      "Enter the element in the list at index 4 : 6\n",
      "Enter the element in the list at index 5 : 8\n",
      "The 4 largest element in the list is 6\n"
     ]
    }
   ],
   "source": [
    "# A.6 :\n",
    "\n",
    "N = int(input(\"Which largest element required? \"))  \n",
    "index = int(input(\"Enter the length of the list : \"))\n",
    "list6 = []\n",
    "for j in range(0,index) :\n",
    "    k = int(input(\"Enter the element in the list at index {} : \".format(j)))\n",
    "    list6.append(k)\n",
    "list6_copy = []\n",
    "for i in list6:\n",
    "    list6_copy.append(i)\n",
    "list6_copy.sort(reverse = True)\n",
    "if N == 1 :\n",
    "    print(\"The {} largest element in the list is {}\".format(N,list6_copy[N-1]))\n",
    "else :\n",
    "    print(\"The {} largest element in the list is {}\".format(N,list6_copy[N-1]))"
   ]
  },
  {
   "cell_type": "markdown",
   "metadata": {},
   "source": [
    "Q.7 : Write a Python Program to print even numbers in a list?"
   ]
  },
  {
   "cell_type": "code",
   "execution_count": 1,
   "metadata": {},
   "outputs": [
    {
     "name": "stdout",
     "output_type": "stream",
     "text": [
      "Enter the length of the list : 7\n",
      "Enter the element in the list at index 0 : 54\n",
      "Enter the element in the list at index 1 : 101\n",
      "Enter the element in the list at index 2 : 82\n",
      "Enter the element in the list at index 3 : 76\n",
      "Enter the element in the list at index 4 : 13\n",
      "Enter the element in the list at index 5 : 22\n",
      "Enter the element in the list at index 6 : 25\n",
      "\n",
      "The below elements are even numbers in list7 :\n",
      "54 \n",
      "82 \n",
      "76 \n",
      "22 \n"
     ]
    }
   ],
   "source": [
    "# A.7 :\n",
    "\n",
    "total = int(input(\"Enter the length of the list : \"))\n",
    "list7 = []\n",
    "for j in range(0,total) :\n",
    "    k = int(input(\"Enter the element in the list at index {} : \".format(j)))\n",
    "    list7.append(k)\n",
    "print(\"\\nThe below elements are even numbers in list7 :\")\n",
    "for i in list7 :\n",
    "    if i % 2 == 0 :\n",
    "        print(\"{} \".format(i))"
   ]
  },
  {
   "cell_type": "markdown",
   "metadata": {},
   "source": [
    "Q.8 : Write a Python Program to print odd numbers in a list?"
   ]
  },
  {
   "cell_type": "code",
   "execution_count": 3,
   "metadata": {},
   "outputs": [
    {
     "name": "stdout",
     "output_type": "stream",
     "text": [
      "Enter the length of the list : 7\n",
      "Enter the element in the list at index 0 : 54\n",
      "Enter the element in the list at index 1 : 101\n",
      "Enter the element in the list at index 2 : 82\n",
      "Enter the element in the list at index 3 : 76\n",
      "Enter the element in the list at index 4 : 13\n",
      "Enter the element in the list at index 5 : 22\n",
      "Enter the element in the list at index 6 : 25\n",
      "\n",
      "The below elements are odd numbers in list8 :\n",
      "101 \n",
      "13 \n",
      "25 \n"
     ]
    }
   ],
   "source": [
    "# A.8 :\n",
    "\n",
    "I = int(input(\"Enter the length of the list : \"))\n",
    "list8 = []\n",
    "for j in range(0,I) :\n",
    "    k = int(input(\"Enter the element in the list at index {} : \".format(j)))\n",
    "    list8.append(k)\n",
    "print(\"\\nThe below elements are odd numbers in list8 :\")\n",
    "for i in list8 :\n",
    "    if i % 2 != 0 :\n",
    "        print(\"{} \".format(i))"
   ]
  },
  {
   "cell_type": "markdown",
   "metadata": {},
   "source": [
    "Q.9 : Write a Python program to remove empty list from a list?"
   ]
  },
  {
   "cell_type": "code",
   "execution_count": 13,
   "metadata": {
    "scrolled": true
   },
   "outputs": [
    {
     "name": "stdout",
     "output_type": "stream",
     "text": [
      "Enter the length of the list : 8\n",
      "Enter the number of empty list to be added : 2\n",
      "Select the index at which empty list to be added : 4\n",
      "Select the index at which empty list to be added : 6\n",
      "Enter the normal integer values at remaining position : 11\n",
      "Enter the normal integer values at remaining position : 62\n",
      "Enter the normal integer values at remaining position : 88\n",
      "Enter the normal integer values at remaining position : 47\n",
      "Enter the normal integer values at remaining position : 33\n",
      "Enter the normal integer values at remaining position : 29\n",
      "\n",
      "The original list with empty list is : [11, 62, 88, 47, [], 33, [], 29].\n",
      "\n",
      "The list without empty list is : [11, 62, 88, 47, 33, 29].\n"
     ]
    }
   ],
   "source": [
    "# A.9\n",
    "\n",
    "ind = int(input(\"Enter the length of the list : \")) \n",
    "count_empty_list = int(input(\"Enter the number of empty list to be added : \")) \n",
    "list9 = []\n",
    "index_list = []\n",
    "for i in range(0,count_empty_list) :\n",
    "    empty_list_index = int(input(\"Select the index at which empty list to be added : \"))\n",
    "    index_list.append(empty_list_index)\n",
    "for j in range(0,ind) :\n",
    "    if j not in index_list : \n",
    "        other_values = int(input(\"Enter the normal integer values at remaining position : \"))\n",
    "        list9.append(other_values)\n",
    "    else :\n",
    "        list9.append([])\n",
    "alternate_list = []\n",
    "for m in list9 :\n",
    "    if m != [] :\n",
    "        alternate_list.append(m)\n",
    "print(\"\\nThe original list with empty list is : {}.\\n\".format(list9))\n",
    "print(\"The list without empty list is : {}.\".format(alternate_list))"
   ]
  },
  {
   "cell_type": "markdown",
   "metadata": {},
   "source": [
    " Q.10 : Write a Python program to cloning or copying a list?"
   ]
  },
  {
   "cell_type": "code",
   "execution_count": 32,
   "metadata": {},
   "outputs": [
    {
     "name": "stdout",
     "output_type": "stream",
     "text": [
      "Enter the length of the list : 7\n",
      "Enter the element in the list at index 0 : 55\n",
      "Enter the element in the list at index 1 : 66\n",
      "Enter the element in the list at index 2 : 78\n",
      "Enter the element in the list at index 3 : 32\n",
      "Enter the element in the list at index 4 : 44\n",
      "Enter the element in the list at index 5 : 96\n",
      "Enter the element in the list at index 6 : 77\n",
      "list10 is : [55, 66, 78, 32, 44, 96, 77].\n",
      " and list10_copy is : [55, 66, 78, 32, 44, 96, 77].\n"
     ]
    }
   ],
   "source": [
    "# A.10 :\n",
    "\n",
    "val = int(input(\"Enter the length of the list : \"))\n",
    "list10 = []\n",
    "for j in range(0,val) :\n",
    "    k = int(input(\"Enter the element in the list at index {} : \".format(j)))\n",
    "    list10.append(k)\n",
    "list10_copy = []\n",
    "for i in list10 :\n",
    "    list10_copy.append(i)\n",
    "print(\"list10 is : {}.\\n and list10_copy is : {}.\".format(list10,list10_copy))"
   ]
  },
  {
   "cell_type": "markdown",
   "metadata": {},
   "source": [
    "Q.11 : Write a Python program to count occurances of an element in a list?"
   ]
  },
  {
   "cell_type": "code",
   "execution_count": 17,
   "metadata": {
    "scrolled": false
   },
   "outputs": [
    {
     "name": "stdout",
     "output_type": "stream",
     "text": [
      "Enter the length of the list : 7\n",
      "Enter the element in the list at index 0 : 55\n",
      "Enter the element in the list at index 1 : 23\n",
      "Enter the element in the list at index 2 : 55\n",
      "Enter the element in the list at index 3 : 23\n",
      "Enter the element in the list at index 4 : \n",
      "Enter the element in the list at index 5 : 98\n",
      "Enter the element in the list at index 6 : 12\n",
      "55 is there in the list 2 time.\n",
      "\n",
      "23 is there in the list 2 time.\n",
      "\n",
      "55 is there in the list 2 time.\n",
      "\n",
      "23 is there in the list 2 time.\n",
      "\n",
      " is there in the list 1 time.\n",
      "\n",
      "98 is there in the list 1 time.\n",
      "\n",
      "12 is there in the list 1 time.\n",
      "\n"
     ]
    }
   ],
   "source": [
    "# A.11 :\n",
    "\n",
    "value = int(input(\"Enter the length of the list : \"))\n",
    "list11 = []\n",
    "for j in range(0,value) :\n",
    "    k = input(\"Enter the element in the list at index {} : \".format(j))\n",
    "    list11.append(k)\n",
    "for i in range(len(list11)) :\n",
    "    string = list11[i]\n",
    "    g = 0\n",
    "    \n",
    "    for m in range(len(list11)):\n",
    "        if list11[m] == string :\n",
    "            g = g + 1\n",
    "            continue\n",
    "        else :\n",
    "            continue            \n",
    "    print(\"{} is there in the list {} time.\\n\".format(string,g))"
   ]
  }
 ],
 "metadata": {
  "kernelspec": {
   "display_name": "Python 3",
   "language": "python",
   "name": "python3"
  },
  "language_info": {
   "codemirror_mode": {
    "name": "ipython",
    "version": 3
   },
   "file_extension": ".py",
   "mimetype": "text/x-python",
   "name": "python",
   "nbconvert_exporter": "python",
   "pygments_lexer": "ipython3",
   "version": "3.7.6"
  }
 },
 "nbformat": 4,
 "nbformat_minor": 4
}
