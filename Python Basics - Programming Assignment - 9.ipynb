{
 "cells": [
  {
   "cell_type": "markdown",
   "metadata": {},
   "source": [
    "# Programming Assignment - 9"
   ]
  },
  {
   "cell_type": "markdown",
   "metadata": {},
   "source": [
    "Q.1 : Write a Python program to check if the given number is a Disarium Number?"
   ]
  },
  {
   "cell_type": "code",
   "execution_count": 9,
   "metadata": {},
   "outputs": [
    {
     "name": "stdout",
     "output_type": "stream",
     "text": [
      "Enter a number of your choice : 175\n",
      "175 is a Disarium Number.\n",
      "Enter a number of your choice : 330\n",
      "330 is not a Disarium Number.\n"
     ]
    }
   ],
   "source": [
    "# A.1 :\n",
    "\n",
    "for j in range(0,2) :\n",
    "    num1 = input(\"Enter a number of your choice : \")\n",
    "\n",
    "    temp_num = num1\n",
    "    sum = 0\n",
    "    for i in range(len(temp_num)):\n",
    "        rem = int(num1) % 10\n",
    "        sum = sum + (rem**len(num1))\n",
    "        num1 = int(num1) // 10\n",
    "        num1 = str(num1)\n",
    "\n",
    "    if sum == int(temp_num):\n",
    "        print(\"{} is a Disarium Number.\".format(temp_num))\n",
    "    else :\n",
    "        print(\"{} is not a Disarium Number.\".format(temp_num))"
   ]
  },
  {
   "cell_type": "markdown",
   "metadata": {},
   "source": [
    "Q.2 : Write a Python program to print all disarium numbers between 1 to 100?"
   ]
  },
  {
   "cell_type": "code",
   "execution_count": 21,
   "metadata": {},
   "outputs": [
    {
     "name": "stdout",
     "output_type": "stream",
     "text": [
      "The following numbers are Disarium numbers between 1 and 100 :\n",
      "1 \t\n",
      "2 \t\n",
      "3 \t\n",
      "4 \t\n",
      "5 \t\n",
      "6 \t\n",
      "7 \t\n",
      "8 \t\n",
      "9 \t\n",
      "89 \t\n"
     ]
    }
   ],
   "source": [
    "# A.2 :\n",
    "\n",
    "print(\"The following numbers are Disarium numbers between 1 and 100 : \")\n",
    "for i in range(1,101) :\n",
    "    summation = 0\n",
    "    k = i\n",
    "    for j in range(len(str(k))) :\n",
    "        rem1 = i % 10\n",
    "        summation = summation + (rem1**len(str(i)))\n",
    "        i = i // 10\n",
    "    if summation == k :\n",
    "        print(k,'\\t')"
   ]
  },
  {
   "cell_type": "markdown",
   "metadata": {},
   "source": [
    "Q.3 : Write a Python program to check if the given number is Happy Number?"
   ]
  },
  {
   "cell_type": "code",
   "execution_count": 19,
   "metadata": {},
   "outputs": [
    {
     "name": "stdout",
     "output_type": "stream",
     "text": [
      "Enter a number : 3\n",
      "The number 3 is not a happy number.\n",
      "Enter a number : 19\n",
      "The number 19 is a happy number.\n"
     ]
    }
   ],
   "source": [
    "# A.3 :\n",
    "for j in range(0,2) :\n",
    "    number = int(input(\"Enter a number : \"))\n",
    "    number2 = number\n",
    "    i=2\n",
    "    add = 0\n",
    "    while number > 0 :\n",
    "        rem1 = number % 10\n",
    "        add = add + (rem1**i)\n",
    "        number = number // 10\n",
    "        if number == 0 :\n",
    "            if add != 1 and add != 4 :\n",
    "                number = add\n",
    "                add = 0\n",
    "            else :\n",
    "                if add == 1 :\n",
    "                    print(\"The number {} is a happy number.\".format(number2))\n",
    "                    break\n",
    "                elif add == 4 :\n",
    "                    print(\"The number {} is not a happy number.\".format(number2))\n",
    "                    break"
   ]
  },
  {
   "cell_type": "markdown",
   "metadata": {},
   "source": [
    "Q.4 : Write a Python program to print all happy numbers between 1 and 100?"
   ]
  },
  {
   "cell_type": "code",
   "execution_count": 9,
   "metadata": {},
   "outputs": [
    {
     "name": "stdout",
     "output_type": "stream",
     "text": [
      "The following are happy numbers between an interval of 1 and 100 :\n",
      "\n",
      "1 \t\n",
      "7 \t\n",
      "10 \t\n",
      "13 \t\n",
      "19 \t\n",
      "23 \t\n",
      "28 \t\n",
      "31 \t\n",
      "32 \t\n",
      "44 \t\n",
      "49 \t\n",
      "68 \t\n",
      "70 \t\n",
      "79 \t\n",
      "82 \t\n",
      "86 \t\n",
      "91 \t\n",
      "94 \t\n",
      "97 \t\n",
      "100 \t\n"
     ]
    }
   ],
   "source": [
    "# A.5 :\n",
    "print(\"The following are happy numbers between an interval of 1 and 100 :\\n\")\n",
    "for i in range(1,101) :\n",
    "    num3 = i\n",
    "    num4 = num3\n",
    "    j=2\n",
    "    total = 0\n",
    "    while num3 > 0 :\n",
    "        rem1 = num3 % 10\n",
    "        total = total + (rem1**j)\n",
    "        num3 = num3 // 10\n",
    "        if num3 == 0 :\n",
    "            if total != 1 and total != 4 :\n",
    "                num3 = total\n",
    "                total = 0\n",
    "            else :\n",
    "                if total == 1 :\n",
    "                    print(num4,'\\t')\n",
    "                    break\n",
    "                else :\n",
    "                    break"
   ]
  },
  {
   "cell_type": "markdown",
   "metadata": {},
   "source": [
    "Q.5 : Write a Python program to determine whether the given number is a Harshad Number?"
   ]
  },
  {
   "cell_type": "code",
   "execution_count": 2,
   "metadata": {},
   "outputs": [
    {
     "name": "stdout",
     "output_type": "stream",
     "text": [
      "Enter a number of your choice : 1729\n",
      "1729 is a Harshad Number.\n",
      "Enter a number of your choice : 83\n",
      "83 is not a Harshad Number.\n"
     ]
    }
   ],
   "source": [
    "# A.5 :\n",
    "for i in range(0,2) :\n",
    "    number_1 = int(input(\"Enter a number of your choice : \"))\n",
    "    number_2 = number_1\n",
    "    addition = 0\n",
    "\n",
    "    while number_1 > 0 :\n",
    "        remainder = number_1 % 10\n",
    "        addition = addition + remainder\n",
    "        number_1 //= 10\n",
    "    if number_2 % addition == 0 :\n",
    "        print(\"{} is a Harshad Number.\".format(number_2))\n",
    "    else :\n",
    "        print(\"{} is not a Harshad Number.\".format(number_2))"
   ]
  },
  {
   "cell_type": "markdown",
   "metadata": {},
   "source": [
    "Q.6 : Write a Python program to print all pronic numbers between 1 and 100?"
   ]
  },
  {
   "cell_type": "code",
   "execution_count": 7,
   "metadata": {},
   "outputs": [
    {
     "name": "stdout",
     "output_type": "stream",
     "text": [
      "The following are Pronic Numbers in an interval of 1 and 100 :\n",
      "\n",
      "0\n",
      "2\n",
      "6\n",
      "12\n",
      "20\n",
      "30\n",
      "42\n",
      "56\n",
      "72\n",
      "90\n",
      "110\n",
      "132\n",
      "156\n",
      "182\n",
      "210\n",
      "240\n",
      "272\n",
      "306\n",
      "342\n",
      "380\n",
      "420\n",
      "462\n",
      "506\n",
      "552\n",
      "600\n",
      "650\n",
      "702\n",
      "756\n",
      "812\n",
      "870\n",
      "930\n",
      "992\n",
      "1056\n",
      "1122\n",
      "1190\n",
      "1260\n",
      "1332\n",
      "1406\n",
      "1482\n",
      "1560\n",
      "1640\n",
      "1722\n",
      "1806\n",
      "1892\n",
      "1980\n",
      "2070\n",
      "2162\n",
      "2256\n",
      "2352\n",
      "2450\n",
      "2550\n",
      "2652\n",
      "2756\n",
      "2862\n",
      "2970\n",
      "3080\n",
      "3192\n",
      "3306\n",
      "3422\n",
      "3540\n",
      "3660\n",
      "3782\n",
      "3906\n",
      "4032\n",
      "4160\n",
      "4290\n",
      "4422\n",
      "4556\n",
      "4692\n",
      "4830\n",
      "4970\n",
      "5112\n",
      "5256\n",
      "5402\n",
      "5550\n",
      "5700\n",
      "5852\n",
      "6006\n",
      "6162\n",
      "6320\n",
      "6480\n",
      "6642\n",
      "6806\n",
      "6972\n",
      "7140\n",
      "7310\n",
      "7482\n",
      "7656\n",
      "7832\n",
      "8010\n",
      "8190\n",
      "8372\n",
      "8556\n",
      "8742\n",
      "8930\n",
      "9120\n",
      "9312\n",
      "9506\n",
      "9702\n",
      "9900\n",
      "10100\n"
     ]
    }
   ],
   "source": [
    "# A.6 : \n",
    "\n",
    "print(\"The following are Pronic Numbers in an interval of 1 and 100 :\\n\")\n",
    "i = 0\n",
    "for j in range(0,101) :\n",
    "    print(i*(i+1))\n",
    "    i += 1"
   ]
  }
 ],
 "metadata": {
  "kernelspec": {
   "display_name": "Python 3",
   "language": "python",
   "name": "python3"
  },
  "language_info": {
   "codemirror_mode": {
    "name": "ipython",
    "version": 3
   },
   "file_extension": ".py",
   "mimetype": "text/x-python",
   "name": "python",
   "nbconvert_exporter": "python",
   "pygments_lexer": "ipython3",
   "version": "3.8.3"
  }
 },
 "nbformat": 4,
 "nbformat_minor": 4
}
