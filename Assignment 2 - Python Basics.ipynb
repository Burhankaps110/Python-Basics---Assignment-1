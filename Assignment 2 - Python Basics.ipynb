{
 "cells": [
  {
   "cell_type": "markdown",
   "metadata": {},
   "source": [
    "# Assignment - 2"
   ]
  },
  {
   "cell_type": "markdown",
   "metadata": {},
   "source": [
    "Q.1 : What are the two values of the Boolean data type? How do you write them?\n",
    "\n",
    "A.1:\n",
    "\n",
    "      Two values of Boolean data type is as follows :\n",
    "      (i) True\n",
    "      (ii) False"
   ]
  },
  {
   "cell_type": "code",
   "execution_count": null,
   "metadata": {},
   "outputs": [],
   "source": [
    "# we can write them as follows :\n",
    "True"
   ]
  },
  {
   "cell_type": "code",
   "execution_count": null,
   "metadata": {},
   "outputs": [],
   "source": [
    "False"
   ]
  },
  {
   "cell_type": "markdown",
   "metadata": {},
   "source": [
    "Q.2 : What are the  three different types of Boolean operators?\n",
    "\n",
    "A.2 :\n",
    "      \n",
    "      Three different types of Boolean operators are as follows :\n",
    "      (i) AND \n",
    "      (ii) or\n",
    "      (iii) not"
   ]
  },
  {
   "cell_type": "markdown",
   "metadata": {},
   "source": [
    "Q.3 : Make a list of each Boolean operator's truth tables (i.e every possible combination of Boolean values for the operstor and what it evaluate).\n",
    "\n",
    "A.3 : (i) AND :\n"
   ]
  },
  {
   "cell_type": "markdown",
   "metadata": {},
   "source": [
    "|A||B||Result|\n",
    "|----||----||-----|\n",
    "|True||True||True|\n",
    "|True||False||False|\n",
    "|False||True||False|\n",
    "|False||False||False|"
   ]
  },
  {
   "cell_type": "markdown",
   "metadata": {},
   "source": [
    "\n",
    "\n",
    "(ii) OR :"
   ]
  },
  {
   "cell_type": "markdown",
   "metadata": {},
   "source": [
    "|A||B||Result|\n",
    "|----||-----||-----|\n",
    "|True||True||True|\n",
    "|True||False||True|\n",
    "|False||True||True|\n",
    "|False||False||False|"
   ]
  },
  {
   "cell_type": "markdown",
   "metadata": {},
   "source": [
    "(iii) NOT:"
   ]
  },
  {
   "cell_type": "markdown",
   "metadata": {},
   "source": [
    "|A||NOT|\n",
    "|----||----|\n",
    "|True||False|\n",
    "|False||True|"
   ]
  },
  {
   "cell_type": "markdown",
   "metadata": {},
   "source": [
    "Q.4 : What are the values of the following expressions?\n",
    "\n",
    "      (i) (5 > 4) and(3 == 5)\n",
    "      (ii) not(5 > 4)\n",
    "      (iii)(5 > 4) or (3==5)\n",
    "      (iv) not((5 > 4) or (3 == 5))\n",
    "      (v) (True and True) and (True == False)\n",
    "      (vi) (not False) or (not True)\n",
    "\n",
    "A.4 : \n",
    "\n",
    "          (i) False\n",
    "          (ii) False\n",
    "          (iii) True\n",
    "          (iv) False\n",
    "          (v) False\n",
    "          (vi) True"
   ]
  },
  {
   "cell_type": "markdown",
   "metadata": {},
   "source": [
    "Q.5 : What are the six comparision operators?\n",
    "\n",
    "A.5 :\n",
    "    \n",
    "        (i) less than (<)\n",
    "        (ii) less than or equal to (<=)\n",
    "        (iii) greater than(>)\n",
    "        (iv) greater than or equal to (>=)\n",
    "        (v) equal to (==)\n",
    "        (vi) not equal to (!=)\n",
    "        "
   ]
  },
  {
   "cell_type": "markdown",
   "metadata": {},
   "source": [
    "Q.6 : How do you tell the difference between the equal to and assignment operators? Describe a condition and when you would use one.\n",
    "\n",
    "A.6 : \n",
    "\n",
    "      equal to (==) : It is used to check weather a value or variable used on the right hand side is equal to left hand side of this boolean operator. If the condition satisfies it results in a boolean \"True\" and on the other hand it results in a boolean \"False\". It is used mostly in a while loop or if-elif-else condition block.\n",
    "      \n",
    "      assignment operator (equals) (=) : It is used to assign values or objects to a variable. With the use of this operator the value on the right hand side is assigned to the values on the left hand side.\n",
    "      "
   ]
  },
  {
   "cell_type": "code",
   "execution_count": 1,
   "metadata": {},
   "outputs": [
    {
     "name": "stdout",
     "output_type": "stream",
     "text": [
      "a is equal to b\n"
     ]
    }
   ],
   "source": [
    "# case for equal to operator and assignment operator (equals):\n",
    "\"\"\"\"we are using here assignment operator - equals which hold the value of \n",
    "3 and 3 in a and b respectively.\"\"\"     \n",
    "a = 3\n",
    "b = 3\n",
    "if a == b : # use of equal to boolean operator\n",
    "    print(\"a is equal to b\")\n",
    "else:\n",
    "    print(\"a is not equal to be\")"
   ]
  },
  {
   "cell_type": "markdown",
   "metadata": {},
   "source": [
    "Q.7 : Identify the three blocks in this code : \n",
    "\n",
    "        spam = 0\n",
    "        \n",
    "        if spam == 10 :\n",
    "        print('eggs')\n",
    "        if spam > 5 :\n",
    "        print('bacon')\n",
    "        else:\n",
    "        print('ham')\n",
    "        print('spam')\n",
    "        print('spam')"
   ]
  },
  {
   "cell_type": "code",
   "execution_count": 2,
   "metadata": {},
   "outputs": [
    {
     "name": "stdout",
     "output_type": "stream",
     "text": [
      "ham\n",
      "spam\n",
      "spam\n"
     ]
    }
   ],
   "source": [
    "# A.7 :\n",
    "\n",
    "spam = 0\n",
    "\n",
    "if spam == 10 :\n",
    "    print('eggs')  # This is first block of code.\n",
    "if spam > 5 :\n",
    "    print('bacon') # This is second block of code.\n",
    "else :\n",
    "    print('ham')  # This is third block of code.\n",
    "    print('spam')\n",
    "    print('spam')"
   ]
  },
  {
   "cell_type": "markdown",
   "metadata": {},
   "source": [
    "Q.8 : Write code that prints hello if 1 is stored in spam, prints Howdy if 2 is stored in spam, and prints Greetings! if anything else is stored in spam.\n"
   ]
  },
  {
   "cell_type": "code",
   "execution_count": 3,
   "metadata": {},
   "outputs": [
    {
     "name": "stdout",
     "output_type": "stream",
     "text": [
      "Enter a number : 1\n",
      "Hello\n",
      "Enter a number : 2\n",
      "Howdy\n",
      "Enter a number : 3\n",
      "Greetings!\n"
     ]
    }
   ],
   "source": [
    "# A.8 :\n",
    "\n",
    "# Taking input from the user 3 times.\n",
    "for i in range(0,3):\n",
    "    spam = int(input(\"Enter a number : \"))\n",
    "    if spam == 1 :\n",
    "        print('Hello')\n",
    "\n",
    "    elif spam == 2 :\n",
    "        print('Howdy')\n",
    "\n",
    "    else :\n",
    "        print('Greetings!')"
   ]
  },
  {
   "cell_type": "markdown",
   "metadata": {},
   "source": [
    "Q.9 : If your programme is stuck in an endless loop, what keys you 'll press?\n",
    "\n",
    "A.9 : \n",
    "\n",
    "      Press \"Cntrl + c\" to terminate the endless loop."
   ]
  },
  {
   "cell_type": "markdown",
   "metadata": {},
   "source": [
    "Q.10 :How can you tell the difference between break and continue?\n",
    "\n",
    "A.10 :\n",
    "\n",
    "       (i) break : The break keyword used anywhere within a conditional statement (if,elif,else) or a loop (while and for) will forcefully stop the set of instruction within that particular conditional statement or a loop without it being \"false\". It will also come out the current conditional statement or loop.\n",
    "       \n",
    "       (ii) continue : The continue keyword will redirect the compiler to the start of the current loop without executing other set of instruction within the same loop . It will also allows the loop to complete the entire looping process until the condition becomes false."
   ]
  },
  {
   "cell_type": "markdown",
   "metadata": {},
   "source": [
    "Q.11 : In a for loop, what is the difference between range(10), range(0,10) and range(0,10,1)?\n",
    "\n",
    "A.11 :\n",
    "\n",
    "       (i) range(10) : The compiler starts reading by default from 0 then 1,2,... till 9 and excludes ending bound 10.\n",
    "       (ii) range(0,10) : The compiler starts reading from the given start bound 0 then 1,2,... till 9 and excludes ending bound 10.\n",
    "       (iii) range(0,10,1) : The compiler starts reading from the given start bound 0 then takes a step size of 1 and reads 0+1 = 1, 1+1 = 2,... till 8+1 = 9 and excludes ending bound 10.\n",
    "       \n",
    "       The above explainination can be explained with a code as follows :"
   ]
  },
  {
   "cell_type": "code",
   "execution_count": 4,
   "metadata": {
    "scrolled": true
   },
   "outputs": [
    {
     "name": "stdout",
     "output_type": "stream",
     "text": [
      "c : [0, 1, 2, 3, 4, 5, 6, 7, 8, 9]\n",
      "d : [0, 1, 2, 3, 4, 5, 6, 7, 8, 9]\n",
      "e : [0, 1, 2, 3, 4, 5, 6, 7, 8, 9]\n"
     ]
    }
   ],
   "source": [
    "# code to explain range() function.\n",
    "\n",
    "c = list()\n",
    "d = list()\n",
    "e = list()\n",
    "\n",
    "for i in range(10) :\n",
    "    c.append(i)\n",
    "for j in range(0,10) :\n",
    "    d.append(j)\n",
    "for k in range(0,10,1) :\n",
    "    e.append(k)\n",
    "\n",
    "print(\"c :\",c)\n",
    "print(\"d :\",d)\n",
    "print(\"e :\",e)"
   ]
  },
  {
   "cell_type": "markdown",
   "metadata": {},
   "source": [
    "Q.12 : Write a short program that prints the number 1 to 10 using a for loop. Then write an equivalent program that prints the number 1 to 10 using a while loop?"
   ]
  },
  {
   "cell_type": "code",
   "execution_count": 7,
   "metadata": {},
   "outputs": [
    {
     "name": "stdout",
     "output_type": "stream",
     "text": [
      "0 1 2 3 4 5 6 7 8 9 10 "
     ]
    }
   ],
   "source": [
    "# A.12 :\n",
    "\n",
    "# printing 1 to 10 numbers using for loop\n",
    "\n",
    "for m in range(0,11) :\n",
    "    print(m, end = \" \")"
   ]
  },
  {
   "cell_type": "code",
   "execution_count": 6,
   "metadata": {
    "scrolled": true
   },
   "outputs": [
    {
     "name": "stdout",
     "output_type": "stream",
     "text": [
      "0 1 2 3 4 5 6 7 8 9 10 "
     ]
    }
   ],
   "source": [
    "# A.12 :\n",
    "\n",
    "# printing 1 to 10 numbers using while loop\n",
    "\n",
    "l = 0\n",
    "n = 10\n",
    "\n",
    "while l <= n :\n",
    "    print(l, end = \" \")\n",
    "    l += 1"
   ]
  },
  {
   "cell_type": "markdown",
   "metadata": {},
   "source": [
    "Q.13 : If you had a function named bacon() inside a module named spam, how\n",
    "       would you call it after importing spam?\n",
    "       \n",
    "A.13 : \n",
    "\n",
    "        In python we use following syntax to call a fucntion used inside an imported module :\n",
    "        module_name.function_name()\n",
    " \n",
    "        Here we will use :\n",
    "                 spam.bacon()"
   ]
  }
 ],
 "metadata": {
  "kernelspec": {
   "display_name": "Python 3",
   "language": "python",
   "name": "python3"
  },
  "language_info": {
   "codemirror_mode": {
    "name": "ipython",
    "version": 3
   },
   "file_extension": ".py",
   "mimetype": "text/x-python",
   "name": "python",
   "nbconvert_exporter": "python",
   "pygments_lexer": "ipython3",
   "version": "3.8.3"
  }
 },
 "nbformat": 4,
 "nbformat_minor": 4
}
