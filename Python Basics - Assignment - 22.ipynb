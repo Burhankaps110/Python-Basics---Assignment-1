{
 "cells": [
  {
   "cell_type": "markdown",
   "metadata": {},
   "source": [
    "# Assignment - 22"
   ]
  },
  {
   "cell_type": "markdown",
   "metadata": {},
   "source": [
    "Q.1 : What is the result of the code, and explain?"
   ]
  },
  {
   "cell_type": "code",
   "execution_count": 4,
   "metadata": {},
   "outputs": [
    {
     "name": "stdout",
     "output_type": "stream",
     "text": [
      "iNeuron\n"
     ]
    }
   ],
   "source": [
    "# A.1 :\n",
    "\n",
    "X = 'iNeuron'\n",
    "def func():\n",
    "    print(X)\n",
    "\n",
    "func()"
   ]
  },
  {
   "cell_type": "markdown",
   "metadata": {},
   "source": [
    "     In the above code we assigned string 'iNeuron' to variable X outside the function which is a local variable and we have printed X inside the function block without changing the value of X, so it still holds the value of X which is outside the scope of the function block and when the function is called it runs the body of function and prints the X value."
   ]
  },
  {
   "cell_type": "markdown",
   "metadata": {},
   "source": [
    "Q.2 : What is the result of the code, and explain?"
   ]
  },
  {
   "cell_type": "code",
   "execution_count": 72,
   "metadata": {
    "scrolled": true
   },
   "outputs": [
    {
     "name": "stdout",
     "output_type": "stream",
     "text": [
      "iNeuron\n"
     ]
    }
   ],
   "source": [
    "# A.2 : \n",
    "\n",
    "X = 'iNeuron'\n",
    "def func():\n",
    "    X = 'NI!'\n",
    "    \n",
    "func()\n",
    "print(X)"
   ]
  },
  {
   "cell_type": "markdown",
   "metadata": {},
   "source": [
    "    In the above code we assigned string 'iNeuron' to variable X outside the function which is a local variable and we have assigned X value as 'NI!' inside the function block which changes the value of X (which is still a local variable) only within the scope of this particular function, but we don't return or print the value of X in the body of the function. When this function is called it executes the function body but there is nothing to return or print.The print of X given outside the function block gives the output as iNeuron since now we are outside the scope of the function block."
   ]
  },
  {
   "cell_type": "markdown",
   "metadata": {},
   "source": [
    "Q.3 : What does this code print, and why?"
   ]
  },
  {
   "cell_type": "code",
   "execution_count": 73,
   "metadata": {},
   "outputs": [
    {
     "name": "stdout",
     "output_type": "stream",
     "text": [
      "NI\n",
      "iNeuron\n"
     ]
    }
   ],
   "source": [
    "X = 'iNeuron'\n",
    "def func():\n",
    "    X = 'NI'\n",
    "    print(X)\n",
    "\n",
    "func()\n",
    "print(X)"
   ]
  },
  {
   "cell_type": "markdown",
   "metadata": {},
   "source": [
    "    In the above code we assigned string 'iNeuron' to variable X outside the function which is a local variable and we have assigned X value as 'NI!' inside the function block which changes the value of X (which is still a local variable) only within the scope of this particular function, Here we provided print the value of X in the body of the function. When this function is called it executes the function body print the value of local variable X as NI!.The print of X given outside the function block gives the output as iNeuron since now we are outside the scope of the function block."
   ]
  },
  {
   "cell_type": "markdown",
   "metadata": {},
   "source": [
    "Q.4 : What output does this code produce? Why?"
   ]
  },
  {
   "cell_type": "code",
   "execution_count": 74,
   "metadata": {},
   "outputs": [
    {
     "name": "stdout",
     "output_type": "stream",
     "text": [
      "NI\n"
     ]
    }
   ],
   "source": [
    "# A.4 : \n",
    "\n",
    "X = 'iNeuron'\n",
    "def func():\n",
    "    global X\n",
    "    X = 'NI'\n",
    "\n",
    "func()\n",
    "print(X)"
   ]
  },
  {
   "cell_type": "markdown",
   "metadata": {},
   "source": [
    "    In the above code we assigned string 'iNeuron' to variable X outside the function which is a local variable. Again X is reassigned in the form of global variable as 'NI' inside the function body. Now the X has become a global variable and has the scope even outside this particular function defination and in other functions hereafter.There is no return or print provided inside the function body for global X due to which when function called it only runs the function but no output is given. The print(X) will give the value of global X now which is NI and overrides the local variable X defined before."
   ]
  },
  {
   "cell_type": "markdown",
   "metadata": {},
   "source": [
    "Q.5 : What about this code—what’s the output, and why?"
   ]
  },
  {
   "cell_type": "code",
   "execution_count": 75,
   "metadata": {},
   "outputs": [
    {
     "name": "stdout",
     "output_type": "stream",
     "text": [
      "NI\n"
     ]
    },
    {
     "data": {
      "text/plain": [
       "'iNeuron'"
      ]
     },
     "execution_count": 75,
     "metadata": {},
     "output_type": "execute_result"
    }
   ],
   "source": [
    "# A.5 :\n",
    "\n",
    "X = 'iNeuron'\n",
    "def func():\n",
    "    X = 'NI'\n",
    "    \n",
    "    def nested():\n",
    "        print(X)\n",
    "    nested()\n",
    "\n",
    "func()\n",
    "X"
   ]
  },
  {
   "cell_type": "markdown",
   "metadata": {},
   "source": [
    "    In the above code we assigned string 'iNeuron' to variable X outside the function which is a local variable. Again X is reassigned as a local variable as 'NI' which has the scope inside the function body 'func'.A nested function 'nested' is defined under the function 'func' which print the value of X. When nested function is called it prints X as 'NI' since the function 'nested' is inside the function 'func' so the variables will also hold the scope inside the nested function and inside the body of nested function print command is provided.\n",
    "    Later we again call 'func' function we don't get any output since we haven't provided any print or return command for X inside it's upper body.Finally when we just type X and execute we get the X as 'iNeuron' because the local variable outside the function defination is originally defined as 'iNeuron'."
   ]
  },
  {
   "cell_type": "markdown",
   "metadata": {},
   "source": [
    "Q.6 : How about this code: what is its output in Python 3, and explain?"
   ]
  },
  {
   "cell_type": "code",
   "execution_count": 76,
   "metadata": {},
   "outputs": [
    {
     "name": "stdout",
     "output_type": "stream",
     "text": [
      "Spam\n"
     ]
    }
   ],
   "source": [
    "def func():\n",
    "    X = 'NI'\n",
    "    def nested():\n",
    "        nonlocal X\n",
    "        X = 'Spam'\n",
    "    nested()\n",
    "    print(X)\n",
    "\n",
    "func()"
   ]
  },
  {
   "cell_type": "markdown",
   "metadata": {},
   "source": [
    "    In the above code we have defined a function named 'func, then declared X as 'NI' which is a local variable and the scope is within the function 'func'. Later we have defined a nested function 'nested' inside function 'func' and provided a keyword nonlocal X which reassigns X as 'Spam' which is local to the function 'func' and if in case we defined X outisde the scope of function 'func' will have no effect since it doesnt change the global X. when the nested function is called and later print of X is provided outside the function 'nested' we observe being in the scope of function 'func' the X value is changed to 'Spam' as expected."
   ]
  }
 ],
 "metadata": {
  "kernelspec": {
   "display_name": "Python 3",
   "language": "python",
   "name": "python3"
  },
  "language_info": {
   "codemirror_mode": {
    "name": "ipython",
    "version": 3
   },
   "file_extension": ".py",
   "mimetype": "text/x-python",
   "name": "python",
   "nbconvert_exporter": "python",
   "pygments_lexer": "ipython3",
   "version": "3.7.6"
  }
 },
 "nbformat": 4,
 "nbformat_minor": 4
}
