{
 "cells": [
  {
   "cell_type": "markdown",
   "metadata": {},
   "source": [
    "# Python - Assignment 1"
   ]
  },
  {
   "cell_type": "markdown",
   "metadata": {},
   "source": [
    "Q.1 : In the below elements which of them are values or an expression? e.g : values can be integer or string and expressions will be mathematical operators.\n",
    "(i) *\n",
    "(ii) 'hello'\n",
    "(iii) -87.8\n",
    "(iv) -\n",
    "(V) /\n",
    "(vi) +\n",
    "(vii) 6\n",
    "\n",
    "A.1 : \n",
    "      \n",
    "      (i) * : expression\n",
    "      \n",
    "      (ii) 'hello' : value\n",
    "      \n",
    "      (iii) -87.8 : value\n",
    "      \n",
    "      (iv) - : expression\n",
    "      \n",
    "      (v) / : expression\n",
    "      \n",
    "      (vi) + : expression\n",
    "      \n",
    "      (vii) 6 : value"
   ]
  },
  {
   "cell_type": "markdown",
   "metadata": {},
   "source": [
    "Q.2 : What is the difference between string and variable?\n",
    "\n",
    "A.2 : \n",
    "\n",
    "    (i) String: String is a group of characters which are enclosed in a single,double or triple quotes. They are datatypes which are sequentially immutable.\n",
    "    \n",
    "    e.g : a = 'Hello'   or a = \"Hello\"    or a = '''Hello'''\n",
    "          Immutability : a = \"Hello\"\n",
    "                         a[2] = 'p'\n",
    "          \n",
    "          This will show an error saying that \" 'str' object does not support    item assignment\" which means python doesn't allow change of any character within the string to a new value. This is called immutability.\n",
    "      \n",
    "      (ii) variable : A variable is a symbolic name given in reference to an object. The object can be a value, a file, an image, an expression, etc.\n",
    "      e.g: a = 10\n",
    "      Here a is a variable which is assigned to an object in the form of a value that is 10."
   ]
  },
  {
   "cell_type": "markdown",
   "metadata": {},
   "source": [
    "Q.3 : Describe three different datatypes.\n",
    "\n",
    "A.3 :\n",
    "      \n",
    "      (i) Integer : Integers are positive or negative whole numbers with no decimal point. Python supports integer datatype of number systems such as binary, octal and hexadecimal system. We represent binary as 0b in prefex to a number like 0b0110, octal as 0o in prefex to 0o1117 and hexadecimal as 0x in prefex to 0x1117.\n",
    "      e.g : a = 10   or a = -20   or a = 57583333028282  and so on.\n",
    "      All the examples above are integers.\n",
    "     \n",
    "      (ii) Floating-point number (float): They are decimal or real numbers represented in double precision floating-point numbers (64 bit statndard as per IEEE 754). It can have one or more digits after the decimals point.\n",
    "      e.g : a = 3.4   or a = 5.768 and so on.\n",
    "      \n",
    "      (iii) String: String is a group of characters which are enclosed in a single,double or triple quotes. They are datatypes which are sequentially immutable.\n",
    "    e.g : a = 'Hello'   or a = \"Hello\"    or a = '''Hello'''\n",
    "          Immutability : a = \"Hello\"\n",
    "                         a[2] = 'p'\n",
    "          This will show an error saying that \" 'str' object does not support    item assignment\" which means python doesn't allow change of any character within the string to a new value. This is called immutability.\n",
    "      "
   ]
  },
  {
   "cell_type": "markdown",
   "metadata": {},
   "source": [
    "Q.4 : What is an expression made up of? What do all expressions do?\n",
    "\n",
    "A.4 : \n",
    "\n",
    "      Expression are made with combination of variables, an operator, an operand and a value. \n",
    "      e.g : a = 10 + 12 ----> It is an expression.\n",
    "      Here 'a' is 'variable'\n",
    "           10 or 12 is a value\n",
    "           + is an operator\n",
    "           = is an operand.\n",
    "      An expression is intended to produce some result and store the result in a variable."
   ]
  },
  {
   "cell_type": "markdown",
   "metadata": {},
   "source": [
    "Q.5 : This assignment statements, like spam = 10. What is the difference\n",
    "      between an expression and a statement?\n",
    "\n",
    "A.5 :\n",
    "    \n",
    "      An expression is a section of code which evaluates to give a result and store it in a variable. A statement is every line of code within a python program that a compiler performs some action on.\n",
    "      \n",
    "      An expression can be combined in a horizontal manner into more larger expression using various operators. A statement can combined in a vertical manner one after the other as a block of instructions.\n",
    "      \n",
    "      An expression can be within a statement, but a statement is not always an expression.\n",
    "      \n",
    "      e.g : a = 10 ------> statement as well as an expression.\n",
    "            print(a) -----> only a statement."
   ]
  },
  {
   "cell_type": "markdown",
   "metadata": {},
   "source": [
    "Q.6 : After running the following code, what does the variable bacon contain?\n",
    "\n",
    "A.6 :\n",
    "    \n",
    "      bacon = 22\n",
    "      bacon + 1\n",
    "\n",
    "        Here the compiler takes the value of bacon (which is 22) and adds 1 to bacon to give result of 23 in the output prompt. Note : It doesn't change the original value of bacon."
   ]
  },
  {
   "cell_type": "code",
   "execution_count": 4,
   "metadata": {},
   "outputs": [
    {
     "data": {
      "text/plain": [
       "23"
      ]
     },
     "execution_count": 4,
     "metadata": {},
     "output_type": "execute_result"
    }
   ],
   "source": [
    "bacon = 22\n",
    "bacon + 1"
   ]
  },
  {
   "cell_type": "markdown",
   "metadata": {},
   "source": [
    "Q.7 : What should the values of the following two terms be?\n",
    "        (i) 'spam' + 'spamspam'\n",
    "        (ii) 'spam'*3\n",
    "\n",
    "A.7 : \n",
    "      \n",
    "      (i) 'spam' + 'spamspam' = 'spamspamspam' ---> string concatenation\n",
    "      (ii) 'spam'*3 = 'spamspamspam' ----> string repeatibility"
   ]
  },
  {
   "cell_type": "code",
   "execution_count": 5,
   "metadata": {},
   "outputs": [
    {
     "data": {
      "text/plain": [
       "'spamspamspam'"
      ]
     },
     "execution_count": 5,
     "metadata": {},
     "output_type": "execute_result"
    }
   ],
   "source": [
    "'spam' + 'spamspam'"
   ]
  },
  {
   "cell_type": "code",
   "execution_count": 6,
   "metadata": {},
   "outputs": [
    {
     "data": {
      "text/plain": [
       "'spamspamspam'"
      ]
     },
     "execution_count": 6,
     "metadata": {},
     "output_type": "execute_result"
    }
   ],
   "source": [
    "'spam' * 3"
   ]
  },
  {
   "cell_type": "markdown",
   "metadata": {},
   "source": [
    "Q.8 : Why is eggs a valid variable name while 100 is invalid?\n",
    "\n",
    "A.8 : \n",
    "\n",
    "      Python will accepts 'eggs' as a variable since it is of pure alphabetical form while defining '100' as a variable will throw an Syntax error since Python accepts only alpha-numeric characters and underscores (A-z, 0-9, and _ ).\n",
    "\n",
    "      "
   ]
  },
  {
   "cell_type": "code",
   "execution_count": 7,
   "metadata": {},
   "outputs": [
    {
     "data": {
      "text/plain": [
       "50"
      ]
     },
     "execution_count": 7,
     "metadata": {},
     "output_type": "execute_result"
    }
   ],
   "source": [
    "eggs = 50\n",
    "eggs"
   ]
  },
  {
   "cell_type": "code",
   "execution_count": 8,
   "metadata": {},
   "outputs": [
    {
     "ename": "SyntaxError",
     "evalue": "cannot assign to literal (<ipython-input-8-06d90a1f05e3>, line 1)",
     "output_type": "error",
     "traceback": [
      "\u001b[1;36m  File \u001b[1;32m\"<ipython-input-8-06d90a1f05e3>\"\u001b[1;36m, line \u001b[1;32m1\u001b[0m\n\u001b[1;33m    100 = 20\u001b[0m\n\u001b[1;37m    ^\u001b[0m\n\u001b[1;31mSyntaxError\u001b[0m\u001b[1;31m:\u001b[0m cannot assign to literal\n"
     ]
    }
   ],
   "source": [
    "100 = 20"
   ]
  },
  {
   "cell_type": "markdown",
   "metadata": {},
   "source": [
    "Q.9 : What three functions can be used to get the integer, floating-point number or string version of a value?\n",
    "\n",
    "A.9 : \n",
    "\n",
    "              a = 12.4\n",
    "              b = 10\n",
    "              c = 23\n",
    "      \n",
    "      Integer : Taking the case of variable a - int(a) ---> output : 12\n",
    "      Floating-point number : Taking the case of variable b - float(b) ---> output : 10.0\n",
    "      String : Taking the case of variable c - str(c) ---> output : '23' "
   ]
  },
  {
   "cell_type": "code",
   "execution_count": 12,
   "metadata": {},
   "outputs": [
    {
     "data": {
      "text/plain": [
       "12"
      ]
     },
     "execution_count": 12,
     "metadata": {},
     "output_type": "execute_result"
    }
   ],
   "source": [
    "a = 12.4\n",
    "b = 10\n",
    "c = 23\n",
    "int(a)"
   ]
  },
  {
   "cell_type": "code",
   "execution_count": 10,
   "metadata": {},
   "outputs": [
    {
     "data": {
      "text/plain": [
       "10.0"
      ]
     },
     "execution_count": 10,
     "metadata": {},
     "output_type": "execute_result"
    }
   ],
   "source": [
    "float(b)"
   ]
  },
  {
   "cell_type": "code",
   "execution_count": 11,
   "metadata": {},
   "outputs": [
    {
     "data": {
      "text/plain": [
       "'23'"
      ]
     },
     "execution_count": 11,
     "metadata": {},
     "output_type": "execute_result"
    }
   ],
   "source": [
    "str(c)"
   ]
  },
  {
   "cell_type": "markdown",
   "metadata": {},
   "source": [
    "Q.10 : Why does this expression cause an error? How can you fix it?\n",
    "        'I have eaten' + 99 + 'burritos'.\n",
    "\n",
    "A.10 : \n",
    "       \n",
    "       In the above example we are trying to perform string concatenation where we are adding and merging strings, But as we see we are adding 99 as an integer with the string due to which the python compiler throws an error.\n",
    "       \n",
    "       This issue can be fixed by adding single, double or triple quotes to convert into a string as follows :\n",
    "       'I have eaten' + '99' + 'burritos'."
   ]
  },
  {
   "cell_type": "code",
   "execution_count": 13,
   "metadata": {},
   "outputs": [
    {
     "data": {
      "text/plain": [
       "'I have eaten99burritos'"
      ]
     },
     "execution_count": 13,
     "metadata": {},
     "output_type": "execute_result"
    }
   ],
   "source": [
    "'I have eaten' + '99' + 'burritos'"
   ]
  }
 ],
 "metadata": {
  "kernelspec": {
   "display_name": "Python 3",
   "language": "python",
   "name": "python3"
  },
  "language_info": {
   "codemirror_mode": {
    "name": "ipython",
    "version": 3
   },
   "file_extension": ".py",
   "mimetype": "text/x-python",
   "name": "python",
   "nbconvert_exporter": "python",
   "pygments_lexer": "ipython3",
   "version": "3.8.3"
  }
 },
 "nbformat": 4,
 "nbformat_minor": 4
}
