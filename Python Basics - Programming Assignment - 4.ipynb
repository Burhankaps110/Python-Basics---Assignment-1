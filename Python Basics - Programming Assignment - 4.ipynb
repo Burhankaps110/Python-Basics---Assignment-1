{
 "cells": [
  {
   "cell_type": "markdown",
   "metadata": {},
   "source": [
    "# Programming Assignment - 4"
   ]
  },
  {
   "cell_type": "markdown",
   "metadata": {},
   "source": [
    "Q.1 : Write a python program to find the factorial of a number?"
   ]
  },
  {
   "cell_type": "code",
   "execution_count": 3,
   "metadata": {
    "scrolled": true
   },
   "outputs": [
    {
     "name": "stdout",
     "output_type": "stream",
     "text": [
      "Enter a number for which factorial is required : 6\n",
      "6 factorial is 720\n",
      "Enter a number for which factorial is required : 0\n",
      "0 factorial is 1\n"
     ]
    }
   ],
   "source": [
    "# A.1 :\n",
    "\n",
    "for i in range(0,2) :\n",
    "    fact = 1\n",
    "    num = int(input(\"Enter a number for which factorial is required : \"))\n",
    "    for i in range(1,num + 1) :\n",
    "        if num == 0 :\n",
    "            print(\"Factorial of zero is 1.\")\n",
    "        fact =  fact * i\n",
    "    print(\"{} factorial is {}\".format(num,fact))"
   ]
  },
  {
   "cell_type": "markdown",
   "metadata": {},
   "source": [
    "Q.2 : Write a python program to display the multiplication table?"
   ]
  },
  {
   "cell_type": "code",
   "execution_count": 2,
   "metadata": {
    "scrolled": true
   },
   "outputs": [
    {
     "name": "stdout",
     "output_type": "stream",
     "text": [
      "Enter a number for which multiplication table is required : 8\n",
      "Enter the limit till which multiplication factor is required : 10\n",
      "8 * 0 = 0\n",
      "8 * 1 = 8\n",
      "8 * 2 = 16\n",
      "8 * 3 = 24\n",
      "8 * 4 = 32\n",
      "8 * 5 = 40\n",
      "8 * 6 = 48\n",
      "8 * 7 = 56\n",
      "8 * 8 = 64\n",
      "8 * 9 = 72\n",
      "8 * 10 = 80\n"
     ]
    }
   ],
   "source": [
    "# A.2 :\n",
    "\n",
    "multiplication_number = int(input(\"Enter a number for which multiplication table is required : \"))\n",
    "limit = int(input(\"Enter the limit till which multiplication factor is required : \"))\n",
    "for i in range(0,limit + 1) :\n",
    "    print(multiplication_number, '*', i, \"=\", multiplication_number * i)"
   ]
  },
  {
   "cell_type": "markdown",
   "metadata": {},
   "source": [
    "Q.3 : Write a Python Program to Print the Fibonacci sequence?"
   ]
  },
  {
   "cell_type": "code",
   "execution_count": 9,
   "metadata": {},
   "outputs": [
    {
     "name": "stdout",
     "output_type": "stream",
     "text": [
      "Enter the last limit : 20\n",
      "0\n",
      "1\n",
      "1\n",
      "2\n",
      "3\n",
      "5\n",
      "8\n",
      "13\n",
      "21\n",
      "34\n",
      "55\n",
      "89\n",
      "144\n",
      "233\n",
      "377\n",
      "610\n",
      "987\n",
      "1597\n",
      "2584\n",
      "4181\n",
      "6765\n"
     ]
    }
   ],
   "source": [
    "# A.3 :\n",
    "last_limit = int(input(\"Enter the last limit : \"))\n",
    "i = 0\n",
    "fibo = 1\n",
    "k = 1\n",
    "print(i)\n",
    "print(fibo)\n",
    "while k < last_limit :\n",
    "    dup_fibo = fibo\n",
    "    fibo = i + fibo\n",
    "    i = dup_fibo\n",
    "    k += 1\n",
    "    print(\"{}\".format(fibo))"
   ]
  },
  {
   "cell_type": "markdown",
   "metadata": {},
   "source": [
    "Q.4 : Write a python program to check Armstrong Number?"
   ]
  },
  {
   "cell_type": "code",
   "execution_count": 3,
   "metadata": {},
   "outputs": [
    {
     "name": "stdout",
     "output_type": "stream",
     "text": [
      "Enter a number : 1634\n",
      "1634 is an armstrong number.\n",
      "Enter a number : 1120\n",
      "1120 is not an armstrong number.\n"
     ]
    }
   ],
   "source": [
    "# A.4 :\n",
    "\n",
    "for j in range(0,2):\n",
    "    val = input(\"Enter a number : \")\n",
    "    val1 = val\n",
    "    val = int(val)\n",
    "    remainder = val\n",
    "    summation = 0\n",
    "    for i in range(len(val1)) :\n",
    "        val = remainder % 10\n",
    "        summation = summation + (val ** (len(val1)))\n",
    "        remainder //= 10\n",
    "    if int(val1) == summation :\n",
    "        print(\"{} is an armstrong number.\".format(val1))\n",
    "    else :\n",
    "        print(\"{} is not an armstrong number.\".format(val1))"
   ]
  },
  {
   "cell_type": "markdown",
   "metadata": {},
   "source": [
    "Q.5 : Write a Python Program to find Armstrong Number in an interval?"
   ]
  },
  {
   "cell_type": "code",
   "execution_count": 1,
   "metadata": {},
   "outputs": [
    {
     "name": "stdout",
     "output_type": "stream",
     "text": [
      "Enter a starting number of the choosen interval : 1\n",
      "Enter the ending number of the choosen interval : 8000\n",
      "1\t\n",
      "2\t\n",
      "3\t\n",
      "4\t\n",
      "5\t\n",
      "6\t\n",
      "7\t\n",
      "8\t\n",
      "9\t\n",
      "153\t\n",
      "370\t\n",
      "371\t\n",
      "407\t\n",
      "1634\t\n",
      "All the above values are armstrong number\n"
     ]
    }
   ],
   "source": [
    "#A.5 :\n",
    "\n",
    "first_value = int(input(\"Enter a starting number of the choosen interval : \"))\n",
    "second_value = int(input(\"Enter the ending number of the choosen interval : \"))\n",
    "for i in range(first_value,second_value + 1) :\n",
    "    i = str(i)\n",
    "    duplicate = i\n",
    "    i = int(i)\n",
    "    rem = i\n",
    "    total = 0\n",
    "    for j in range(len(duplicate)):\n",
    "        i = rem % 10\n",
    "        total = total + (i**(len(duplicate)))\n",
    "        rem = rem // 10\n",
    "    if int(duplicate) == total :\n",
    "        print(\"{}\\t\".format(duplicate))\n",
    "print(\"All the above values are armstrong number\")"
   ]
  },
  {
   "cell_type": "markdown",
   "metadata": {},
   "source": [
    "Q.6 : Write a Python Program to find the sum of natural numbers?"
   ]
  },
  {
   "cell_type": "code",
   "execution_count": 1,
   "metadata": {
    "scrolled": true
   },
   "outputs": [
    {
     "name": "stdout",
     "output_type": "stream",
     "text": [
      "Enter the first value of natural number : 1\n",
      "Enter the second value of natural number : 10000\n",
      "The sum of natural numbers between 1 and 10000 is 50005000.\n"
     ]
    }
   ],
   "source": [
    "# A.6 : Natural numbers are all the numbers starting from 1 till infinity\n",
    "first_limit = int(input(\"Enter the first value of natural number : \"))\n",
    "second_limit = int(input(\"Enter the second value of natural number : \"))\n",
    "addition = 0\n",
    "\n",
    "for i in range(first_limit,second_limit + 1) :\n",
    "    addition = addition + i\n",
    "print(\"The sum of natural numbers between {} and {} is {}.\".format(first_limit,second_limit,addition))"
   ]
  }
 ],
 "metadata": {
  "kernelspec": {
   "display_name": "Python 3",
   "language": "python",
   "name": "python3"
  },
  "language_info": {
   "codemirror_mode": {
    "name": "ipython",
    "version": 3
   },
   "file_extension": ".py",
   "mimetype": "text/x-python",
   "name": "python",
   "nbconvert_exporter": "python",
   "pygments_lexer": "ipython3",
   "version": "3.8.3"
  }
 },
 "nbformat": 4,
 "nbformat_minor": 4
}
