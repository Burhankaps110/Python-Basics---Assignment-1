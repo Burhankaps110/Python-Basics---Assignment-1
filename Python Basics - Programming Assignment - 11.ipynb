{
 "cells": [
  {
   "cell_type": "markdown",
   "metadata": {},
   "source": [
    "# Programming Assignment - 11"
   ]
  },
  {
   "cell_type": "markdown",
   "metadata": {},
   "source": [
    "Q.1 Write a Python program to find words which are greater than given length k?"
   ]
  },
  {
   "cell_type": "code",
   "execution_count": 46,
   "metadata": {
    "scrolled": false
   },
   "outputs": [
    {
     "name": "stdout",
     "output_type": "stream",
     "text": [
      "Enter the length for comparision : 5\n",
      "Enter for how many words check is required : 5\n",
      "Enter the 1 word : Burhan\n",
      "Enter the 2 word : Ajay\n",
      "Enter the 3 word : Gaurav\n",
      "Enter the 4 word : Pavan\n",
      "Enter the 5 word : Kapadia\n",
      "The below words are greater than the any words of length 5 :\n",
      "\n",
      "Burhan.\n",
      "\n",
      "Gaurav.\n",
      "\n",
      "Kapadia.\n",
      "\n"
     ]
    }
   ],
   "source": [
    "# A.1 :\n",
    "\n",
    "k = int(input(\"Enter the length for comparision : \"))\n",
    "N = int(input(\"Enter for how many words check is required : \"))\n",
    "word = []\n",
    "for i in range(0,N) :\n",
    "    word.insert(i,input(\"Enter the {} word : \".format(i+1)))\n",
    "print(\"The below words are greater than the any words of length {} :\\n\".format(k))\n",
    "for j in range(0,N) :   \n",
    "    if len(word[j]) > k :\n",
    "        print(\"{}.\\n\".format(word[j]))"
   ]
  },
  {
   "cell_type": "markdown",
   "metadata": {},
   "source": [
    "Q.2 : Write a Python program for removing i-th character from a string?"
   ]
  },
  {
   "cell_type": "code",
   "execution_count": 40,
   "metadata": {
    "scrolled": true
   },
   "outputs": [
    {
     "name": "stdout",
     "output_type": "stream",
     "text": [
      "Enter the string of your choice :gfjkslhsljslhfjkhfggfgfjfhjfhfjhfjhfj\n",
      "Enter the character to be removed from string : j\n",
      "gfkslhslslhfkhfggfgffhfhfhfhf\n"
     ]
    }
   ],
   "source": [
    "# A.2 :\n",
    "\n",
    "string = input(\"Enter the string of your choice :\")\n",
    "char = input(\"Enter the character to be removed from string : \")\n",
    "temp_list = list(string)\n",
    "dup_list = []\n",
    "for i in temp_list :\n",
    "    if i != char :\n",
    "        dup_list.append(i)\n",
    "string = ''.join(dup_list)\n",
    "print(string)"
   ]
  },
  {
   "cell_type": "markdown",
   "metadata": {},
   "source": [
    "Q.3 : Write a Python program to split and join a string?"
   ]
  },
  {
   "cell_type": "code",
   "execution_count": 45,
   "metadata": {},
   "outputs": [
    {
     "name": "stdout",
     "output_type": "stream",
     "text": [
      "Enter the string of your choice : dkbkjdgkdfkjdbnldbndngdn\n",
      "The splitted string is : ['d', 'k', 'b', 'k', 'j', 'd', 'g', 'k', 'd', 'f', 'k', 'j', 'd', 'b', 'n', 'l', 'd', 'b', 'n', 'd', 'n', 'g', 'd', 'n']\n",
      "After spiltting and again joining, the string is : dkbkjdgkdfkjdbnldbndngdn\n"
     ]
    }
   ],
   "source": [
    "# A.3 :\n",
    "\n",
    "string2 = input(\"Enter the string of your choice : \")\n",
    "list1 = list(string2)\n",
    "print(\"The splitted string is : {}\".format(list1))\n",
    "string3 = \"\"\n",
    "for i in range(len(list1)) :\n",
    "    string3 = string3 + list1[i]\n",
    "print(\"After spiltting and again joining, the string is : {}\".format(string3))"
   ]
  },
  {
   "cell_type": "markdown",
   "metadata": {},
   "source": [
    "Q.4 : Write a Python program to check if a given string is binary string or not?"
   ]
  },
  {
   "cell_type": "code",
   "execution_count": 1,
   "metadata": {},
   "outputs": [
    {
     "name": "stdout",
     "output_type": "stream",
     "text": [
      "Enter a string of your choice either binary or a normal : 1234\n",
      "The given number : 1234 is not a binary number.\n",
      "Enter a string of your choice either binary or a normal : 10111\n",
      "The given number : 10111 is a binary number.\n"
     ]
    }
   ],
   "source": [
    "# A.4 :\n",
    "\n",
    "for j in range(0,2) :\n",
    "    string4 = input(\"Enter a string of your choice either binary or a normal : \")\n",
    "    string5 = \"\"\n",
    "    for i in range(len(string4)) :\n",
    "        if string4[i] != '1' and string4[i] != '0' :\n",
    "            break\n",
    "        else:\n",
    "            string5 = string5 + string4[i]\n",
    "    if string5 == string4 :\n",
    "        print(\"The given number : {} is a binary number.\".format(string4))\n",
    "    else :\n",
    "        print(\"The given number : {} is not a binary number.\".format(string4))"
   ]
  },
  {
   "cell_type": "markdown",
   "metadata": {},
   "source": [
    "Q.5 : Write a Python program to find uncommon words from two strings?"
   ]
  },
  {
   "cell_type": "code",
   "execution_count": 14,
   "metadata": {},
   "outputs": [
    {
     "name": "stdout",
     "output_type": "stream",
     "text": [
      "Enter 1st string of your choice : My name is Burhanuddin\n",
      "Enter 2nd string of your choice : Yours name is Gaurav\n",
      "The uncommon words in 1st string is :\n",
      "\n",
      "My.\n",
      "\n",
      "Burhanuddin.\n",
      "\n",
      "The uncommon words in 2nd string is :\n",
      "\n",
      "Yours.\n",
      "\n",
      "Gaurav.\n",
      "\n",
      "Enter 1st string of your choice : My name is Burhanuddin\n",
      "Enter 2nd string of your choice : My name is Burhanuddin\n",
      "The uncommon words in 1st string is :\n",
      "\n",
      "The uncommon words in 2nd string is :\n",
      "\n",
      "There is no uncommon words.\n"
     ]
    }
   ],
   "source": [
    "# A.5 :\n",
    "for c in range(0,2) :\n",
    "    string6 = input(\"Enter 1st string of your choice : \")\n",
    "    string7 = input(\"Enter 2nd string of your choice : \")\n",
    "\n",
    "    list2 = string6.split()\n",
    "    list3 = string7.split()\n",
    "\n",
    "    print(\"The uncommon words in 1st string is :\\n\")\n",
    "    for i in range(len(list2)) :\n",
    "        for j in range(len(list3)) :\n",
    "            if list2[i] == list3[j] :\n",
    "                break\n",
    "            else :\n",
    "                if j == len(list3)-1 and list2[i] != list3[j] :\n",
    "                    print(\"{}.\\n\".format(list2[i]))\n",
    "\n",
    "    print(\"The uncommon words in 2nd string is :\\n\")\n",
    "    for a in range(len(list3)) :\n",
    "        for b in range(len(list2)) :\n",
    "            if list2[b] == list3[a] :\n",
    "                break\n",
    "            else :\n",
    "                if b == len(list2)-1 and list2[b] != list3[a] :\n",
    "                    print(\"{}.\\n\".format(list3[a]))\n",
    "    if string6 == string7 :\n",
    "        print(\"There is no uncommon words.\")"
   ]
  },
  {
   "cell_type": "markdown",
   "metadata": {},
   "source": [
    "Q.6 : Write a Python program to find all duplicate characters in a string?"
   ]
  },
  {
   "cell_type": "code",
   "execution_count": 30,
   "metadata": {},
   "outputs": [
    {
     "name": "stdout",
     "output_type": "stream",
     "text": [
      "Enter a string of your choice : BBsvhs\\\\//dakdal;u\n",
      "\n",
      "The duplicate characters within the input string is :\n",
      "\n",
      "B\n",
      "\n",
      "s\n",
      "\n",
      "\\\n",
      "\n",
      "/\n",
      "\n",
      "d\n",
      "\n",
      "a\n",
      "\n"
     ]
    }
   ],
   "source": [
    "# A.6 :\n",
    "\n",
    "string8 = input(\"Enter a string of your choice : \")\n",
    "string9 = ''\n",
    "string10 = ''\n",
    "print(\"\\nThe duplicate characters within the input string is :\\n\")\n",
    "for i in string8 :\n",
    "    if i not in string9 :\n",
    "        string9 = string9 + i\n",
    "    else:\n",
    "        if i not in string10 :\n",
    "            string10 = string10 + i\n",
    "for j in range(len(string10)) :\n",
    "    print(\"{}\\n\".format(string10[j]))"
   ]
  },
  {
   "cell_type": "markdown",
   "metadata": {},
   "source": [
    "Q.7 : Write a Python Program to check if a string contains any speacial character?"
   ]
  },
  {
   "cell_type": "code",
   "execution_count": 32,
   "metadata": {},
   "outputs": [
    {
     "name": "stdout",
     "output_type": "stream",
     "text": [
      "Enter a string of your choice : 1156341365@wygtvf$12123\n",
      "\n",
      "The string 1156341365@wygtvf$12123 contains speacial characters.\n",
      "Enter a string of your choice : 123124ggdfs151ftfdt\n",
      "\n",
      "The string 123124ggdfs151ftfdt doesnt contain any speacial characters.\n"
     ]
    }
   ],
   "source": [
    "# A.7 :\n",
    "\n",
    "for i in range(0,2) :\n",
    "    string11 = input(\"Enter a string of your choice : \")\n",
    "    if string11.isalnum() == False :\n",
    "        print(\"\\nThe string {} contains speacial characters.\".format(string11))\n",
    "    else:\n",
    "        print(\"\\nThe string {} doesnt contain any speacial characters.\".format(string11))"
   ]
  }
 ],
 "metadata": {
  "kernelspec": {
   "display_name": "Python 3",
   "language": "python",
   "name": "python3"
  },
  "language_info": {
   "codemirror_mode": {
    "name": "ipython",
    "version": 3
   },
   "file_extension": ".py",
   "mimetype": "text/x-python",
   "name": "python",
   "nbconvert_exporter": "python",
   "pygments_lexer": "ipython3",
   "version": "3.7.6"
  }
 },
 "nbformat": 4,
 "nbformat_minor": 4
}
